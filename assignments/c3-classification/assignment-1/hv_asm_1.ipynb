{
 "cells": [
  {
   "cell_type": "markdown",
   "metadata": {},
   "source": [
    "## 1. Import lib"
   ]
  },
  {
   "cell_type": "code",
   "execution_count": 36,
   "metadata": {},
   "outputs": [],
   "source": [
    "import numpy as np\n",
    "import pandas as pd\n",
    "import matplotlib.pyplot as plt\n",
    "import seaborn as sns\n",
    "import warnings\n",
    "\n",
    "warnings.filterwarnings('ignore')\n",
    "%matplotlib inline"
   ]
  },
  {
   "cell_type": "markdown",
   "metadata": {},
   "source": [
    "## 2. Load processed data\n",
    "(after **step 3** of **asm_1.ipynb**)"
   ]
  },
  {
   "cell_type": "code",
   "execution_count": 37,
   "metadata": {},
   "outputs": [],
   "source": [
    "from sklearn.model_selection import train_test_split\n",
    "\n",
    "X_train = pd.read_csv('train_processed.csv')\n",
    "y_train = pd.read_csv('y_train.csv').values\n",
    "\n",
    "X_test_processed = pd.read_csv('test_processed.csv')\n",
    "y_test_processed = pd.read_csv('y_test.csv').values\n",
    "\n",
    "X_test, X_valid, y_test, y_valid = train_test_split(X_test_processed, y_test_processed, test_size=0.5, random_state=0)\n",
    "\n"
   ]
  },
  {
   "cell_type": "markdown",
   "metadata": {},
   "source": [
    "## 3. Features Selection"
   ]
  },
  {
   "cell_type": "markdown",
   "metadata": {},
   "source": [
    "### 3.1 Lựa chọn đặc trưng bằng Random Forest"
   ]
  },
  {
   "cell_type": "code",
   "execution_count": 38,
   "metadata": {},
   "outputs": [],
   "source": [
    "from sklearn.ensemble import RandomForestClassifier\n",
    "from sklearn.feature_selection import SelectFromModel\n",
    "from sklearn.model_selection import GridSearchCV\n",
    "\n",
    "# Find best estimator of RandomForestClassifier first\n",
    "parameters = {'n_estimators': [10, 20, 50, 100]}\n",
    "# randomForestModel = RandomForestClassifier(random_state=10)\n",
    "# grid = GridSearchCV(randomForestModel, parameters, cv=5)\n",
    "# grid.fit(X_train, y_train)\n",
    "# grid.best_params_\n",
    "\n",
    "# {'n_estimators': 100}"
   ]
  },
  {
   "cell_type": "code",
   "execution_count": 39,
   "metadata": {},
   "outputs": [],
   "source": [
    "sel_ = SelectFromModel(RandomForestClassifier(n_estimators=100, random_state=10))\n",
    "sel_.fit(X_train, y_train)\n",
    "\n",
    "random_forest_X_train_set = sel_.transform(X_train)\n",
    "random_forest_X_valid_set = sel_.transform(X_valid)\n",
    "random_forest_X_test_set = sel_.transform(X_test)"
   ]
  },
  {
   "cell_type": "markdown",
   "metadata": {},
   "source": [
    "### 3.2 Lựa chọn đặc trưng bằng ROC-AUC"
   ]
  },
  {
   "cell_type": "code",
   "execution_count": 40,
   "metadata": {},
   "outputs": [],
   "source": [
    "from sklearn.tree import DecisionTreeClassifier\n",
    "from sklearn.metrics import roc_auc_score\n",
    "\n",
    "roc_values = []\n",
    "\n",
    "for feature in X_train.columns:\n",
    "\n",
    "    # train a decision tree classifier\n",
    "    clf = DecisionTreeClassifier()\n",
    "    clf.fit(X_train[feature].values.reshape(-1, 1), y_train)\n",
    "\n",
    "    # obtain the predictions\n",
    "    y_scored = clf.predict_proba(X_valid[feature].values.reshape(-1, 1))\n",
    "\n",
    "    # calculate and store the roc-auc\n",
    "    roc_values.append(roc_auc_score(y_valid, y_scored[:, 1]))\n",
    "\n",
    "roc_values = pd.Series(roc_values)\n",
    "roc_values.index = X_train.columns\n",
    "selected_feat_roc = roc_values[roc_values > 0.51].index\n",
    "selected_feat_roc\n",
    "\n",
    "roc_X_train_set = X_train[selected_feat_roc]\n",
    "roc_X_valid_set = X_valid[selected_feat_roc]\n",
    "roc_X_test_set = X_test[selected_feat_roc]"
   ]
  },
  {
   "cell_type": "markdown",
   "metadata": {},
   "source": [
    "### 3.3 Lựa chọn đặc trưng bằng đệ quy"
   ]
  },
  {
   "cell_type": "markdown",
   "metadata": {},
   "source": [
    "#### Loại bỏ đặc trưng bằng đệ quy"
   ]
  },
  {
   "cell_type": "code",
   "execution_count": 41,
   "metadata": {},
   "outputs": [],
   "source": [
    "from feature_engine.selection import RecursiveFeatureElimination\n",
    "from sklearn.ensemble import GradientBoostingClassifier\n",
    "\n",
    "model = GradientBoostingClassifier(n_estimators=10, max_depth=2 ,random_state=10)\n",
    "sel_ = RecursiveFeatureElimination(\n",
    "    variables=None, \n",
    "    estimator = model, \n",
    "    scoring = 'roc_auc', # the metric we want to evalute\n",
    "    threshold = 0.0005, # the maximum performance drop allowed to remove a feature\n",
    "    cv=2, # cross-validation\n",
    ")\n",
    "sel_.fit(X_train, y_train)\n",
    "\n",
    "recursive_ellimination_selected_X_train_set = sel_.transform(X_train)\n",
    "recursive_ellimination_selected_X_valid_set = sel_.transform(X_valid)\n",
    "recursive_ellimination_selected_X_test_set = sel_.transform(X_test)\n"
   ]
  },
  {
   "cell_type": "markdown",
   "metadata": {},
   "source": [
    "#### Thêm đặc trưng bằng đệ quy"
   ]
  },
  {
   "cell_type": "code",
   "execution_count": 42,
   "metadata": {},
   "outputs": [],
   "source": [
    "from feature_engine.selection import RecursiveFeatureAddition\n",
    "\n",
    "model = GradientBoostingClassifier(n_estimators=10, max_depth=2 ,random_state=10)\n",
    "sel_ = RecursiveFeatureAddition(\n",
    "    variables=None,\n",
    "    estimator=model,\n",
    "    scoring='roc_auc',\n",
    "    threshold=0.0005,\n",
    "    cv=3,)\n",
    "sel_.fit(X_train, y_train)\n",
    "\n",
    "recursive_addition_selected_X_train_set = sel_.transform(X_train)\n",
    "recursive_addition_selected_X_valid_set = sel_.transform(X_valid)\n",
    "recursive_addition_selected_X_test_set = sel_.transform(X_test)"
   ]
  },
  {
   "cell_type": "markdown",
   "metadata": {},
   "source": [
    "## 4. Huấn luyện mô hình"
   ]
  },
  {
   "cell_type": "code",
   "execution_count": 43,
   "metadata": {},
   "outputs": [],
   "source": [
    "from sklearn.metrics import f1_score\n",
    "from sklearn import tree\n",
    "from sklearn.linear_model import LogisticRegression\n",
    "from sklearn.svm import SVC\n",
    "from sklearn.ensemble import RandomForestClassifier, AdaBoostClassifier\n",
    "from sklearn.neural_network import MLPClassifier"
   ]
  },
  {
   "cell_type": "code",
   "execution_count": 44,
   "metadata": {},
   "outputs": [],
   "source": [
    "def print_analysis_result(model):\n",
    "    \n",
    "    print(\"Model: \", model)\n",
    "    \n",
    "    print()\n",
    "    print(\"All features:\")\n",
    "    print('='*40)\n",
    "    print(\"Train\")\n",
    "    model.fit(X_train, y_train)\n",
    "    print(\"F1 score:\", f1_score(y_train, model.predict(X_train)))\n",
    "    print(\"Validation\")\n",
    "    print(\"F1 score:\", f1_score(y_valid, model.predict(X_valid)))\n",
    "    \n",
    "    print()\n",
    "    print(\"Select features with Random Forest:\")\n",
    "    print('='*40)\n",
    "    print(\"Train\")\n",
    "    model.fit(random_forest_X_train_set, y_train)\n",
    "    print(\"F1 score:\", f1_score(y_train, model.predict(random_forest_X_train_set)))\n",
    "    print(\"Validation\")\n",
    "    print(\"F1 score:\", f1_score(y_valid, model.predict(random_forest_X_valid_set)))\n",
    "\n",
    "    print()\n",
    "    print(\"Select features with ROC-AUC:\")\n",
    "    print('='*40)\n",
    "    print(\"Train\")\n",
    "    model.fit(roc_X_train_set, y_train)\n",
    "    print(\"F1 score:\", f1_score(y_train, model.predict(roc_X_train_set)))\n",
    "    print(\"Validation\")\n",
    "    print(\"F1 score:\", f1_score(y_valid, model.predict(roc_X_valid_set)))\n",
    "    \n",
    "    print()\n",
    "    print(\"Select features with RecursiveFeatureElimination:\")\n",
    "    print('='*40)\n",
    "    print(\"Train\")\n",
    "    model.fit(recursive_ellimination_selected_X_train_set, y_train)\n",
    "    print(\"F1 score:\", f1_score(y_train, model.predict(recursive_ellimination_selected_X_train_set)))\n",
    "    print(\"Validation\")\n",
    "    print(\"F1 score:\", f1_score(y_valid, model.predict(recursive_ellimination_selected_X_valid_set)))\n",
    "    \n",
    "    print()\n",
    "    print(\"Select features with RecursiveFeatureAddition:\")\n",
    "    print('='*40)\n",
    "    print(\"Train\")\n",
    "    model.fit(recursive_addition_selected_X_train_set, y_train)\n",
    "    print(\"F1 score:\", f1_score(y_train, model.predict(recursive_addition_selected_X_train_set)))\n",
    "    print(\"Validation\")\n",
    "    print(\"F1 score:\", f1_score(y_valid, model.predict(recursive_addition_selected_X_valid_set)))\n",
    "    \n",
    "    print('='*40)\n",
    "    "
   ]
  },
  {
   "cell_type": "markdown",
   "metadata": {},
   "source": [
    "#### LogisticRegression"
   ]
  },
  {
   "cell_type": "code",
   "execution_count": 45,
   "metadata": {},
   "outputs": [
    {
     "name": "stdout",
     "output_type": "stream",
     "text": [
      "Model:  LogisticRegression()\n",
      "\n",
      "All features:\n",
      "========================================\n",
      "Train\n",
      "F1 score: 0.5878566337908361\n",
      "Validation\n",
      "F1 score: 0.5989792198323004\n",
      "\n",
      "Select features with Random Forest:\n",
      "========================================\n",
      "Train\n",
      "F1 score: 0.5710985863438973\n",
      "Validation\n",
      "F1 score: 0.5872262773722629\n",
      "\n",
      "Select features with ROC-AUC:\n",
      "========================================\n",
      "Train\n",
      "F1 score: 0.5722067071341197\n",
      "Validation\n",
      "F1 score: 0.5885141294439381\n",
      "\n",
      "Select features with RecursiveFeatureElimination:\n",
      "========================================\n",
      "Train\n",
      "F1 score: 0.5604469480956025\n",
      "Validation\n",
      "F1 score: 0.5777206826940723\n",
      "\n",
      "Select features with RecursiveFeatureAddition:\n",
      "========================================\n",
      "Train\n",
      "F1 score: 0.5582065280520385\n",
      "Validation\n",
      "F1 score: 0.5746914717259163\n",
      "========================================\n"
     ]
    }
   ],
   "source": [
    "model = LogisticRegression()\n",
    "print_analysis_result(model)\n"
   ]
  },
  {
   "cell_type": "markdown",
   "metadata": {},
   "source": [
    "#### DecisionTreeClassifier"
   ]
  },
  {
   "cell_type": "code",
   "execution_count": 46,
   "metadata": {},
   "outputs": [
    {
     "name": "stdout",
     "output_type": "stream",
     "text": [
      "Model:  DecisionTreeClassifier()\n",
      "\n",
      "All features:\n",
      "========================================\n",
      "Train\n",
      "F1 score: 0.9993330456275255\n",
      "Validation\n",
      "F1 score: 0.5452307692307692\n",
      "\n",
      "Select features with Random Forest:\n",
      "========================================\n",
      "Train\n",
      "F1 score: 0.9977422204770787\n",
      "Validation\n",
      "F1 score: 0.5111414279217826\n",
      "\n",
      "Select features with ROC-AUC:\n",
      "========================================\n",
      "Train\n",
      "F1 score: 0.9989600298255598\n",
      "Validation\n",
      "F1 score: 0.5190279688216414\n",
      "\n",
      "Select features with RecursiveFeatureElimination:\n",
      "========================================\n",
      "Train\n",
      "F1 score: 0.6916912117268306\n",
      "Validation\n",
      "F1 score: 0.5383383739548123\n",
      "\n",
      "Select features with RecursiveFeatureAddition:\n",
      "========================================\n",
      "Train\n",
      "F1 score: 0.6225577883610176\n",
      "Validation\n",
      "F1 score: 0.5637263891435906\n",
      "========================================\n"
     ]
    }
   ],
   "source": [
    "model = tree.DecisionTreeClassifier()\n",
    "print_analysis_result(model)"
   ]
  },
  {
   "cell_type": "markdown",
   "metadata": {},
   "source": [
    "#### AdaBoostClassifier"
   ]
  },
  {
   "cell_type": "code",
   "execution_count": 47,
   "metadata": {},
   "outputs": [
    {
     "name": "stdout",
     "output_type": "stream",
     "text": [
      "Model:  AdaBoostClassifier()\n",
      "\n",
      "All features:\n",
      "========================================\n",
      "Train\n",
      "F1 score: 0.5785158421345191\n",
      "Validation\n",
      "F1 score: 0.5971966064182958\n",
      "\n",
      "Select features with Random Forest:\n",
      "========================================\n",
      "Train\n",
      "F1 score: 0.5800356588788294\n",
      "Validation\n",
      "F1 score: 0.5918854415274463\n",
      "\n",
      "Select features with ROC-AUC:\n",
      "========================================\n",
      "Train\n",
      "F1 score: 0.5804430933628114\n",
      "Validation\n",
      "F1 score: 0.594911220940875\n",
      "\n",
      "Select features with RecursiveFeatureElimination:\n",
      "========================================\n",
      "Train\n",
      "F1 score: 0.5723081196185539\n",
      "Validation\n",
      "F1 score: 0.5860036832412523\n",
      "\n",
      "Select features with RecursiveFeatureAddition:\n",
      "========================================\n",
      "Train\n",
      "F1 score: 0.5716477233107873\n",
      "Validation\n",
      "F1 score: 0.5855275271589027\n",
      "========================================\n"
     ]
    }
   ],
   "source": [
    "model = AdaBoostClassifier()\n",
    "print_analysis_result(model)"
   ]
  },
  {
   "cell_type": "markdown",
   "metadata": {},
   "source": [
    "#### RandomForestClassifier"
   ]
  },
  {
   "cell_type": "code",
   "execution_count": 48,
   "metadata": {},
   "outputs": [
    {
     "name": "stdout",
     "output_type": "stream",
     "text": [
      "Model:  RandomForestClassifier(random_state=10)\n",
      "\n",
      "All features:\n",
      "========================================\n",
      "Train\n",
      "F1 score: 0.999313496655748\n",
      "Validation\n",
      "F1 score: 0.6065200909780136\n",
      "\n",
      "Select features with Random Forest:\n",
      "========================================\n",
      "Train\n",
      "F1 score: 0.9977047572339381\n",
      "Validation\n",
      "F1 score: 0.6009723261032163\n",
      "\n",
      "Select features with ROC-AUC:\n",
      "========================================\n",
      "Train\n",
      "F1 score: 0.9989605193480692\n",
      "Validation\n",
      "F1 score: 0.5976577257272384\n",
      "\n",
      "Select features with RecursiveFeatureElimination:\n",
      "========================================\n",
      "Train\n",
      "F1 score: 0.7055745710610651\n",
      "Validation\n",
      "F1 score: 0.5617348723329835\n",
      "\n",
      "Select features with RecursiveFeatureAddition:\n",
      "========================================\n",
      "Train\n",
      "F1 score: 0.6339408411993962\n",
      "Validation\n",
      "F1 score: 0.5766215253029223\n",
      "========================================\n"
     ]
    }
   ],
   "source": [
    "model = RandomForestClassifier(n_estimators=100, random_state=10)\n",
    "print_analysis_result(model)"
   ]
  },
  {
   "cell_type": "markdown",
   "metadata": {},
   "source": [
    "#### MLPClassifier"
   ]
  },
  {
   "cell_type": "code",
   "execution_count": 49,
   "metadata": {},
   "outputs": [],
   "source": [
    "# model = model = MLPClassifier(hidden_layer_sizes=(100, 50, ), max_iter=300)\n",
    "# print_analysis_result(model)\n",
    "\n",
    "# Model:  MLPClassifier(hidden_layer_sizes=(100, 50), max_iter=300)\n",
    "\n",
    "# All features:\n",
    "# ========================================\n",
    "# Train\n",
    "# F1 score: 0.8530766868024983\n",
    "# Validation\n",
    "# F1 score: 0.5896028414594768\n",
    "\n",
    "# Select features with Random Forest:\n",
    "# ========================================\n",
    "# Train\n",
    "# F1 score: 0.6794928044928046\n",
    "# Validation\n",
    "# F1 score: 0.5996497373029772\n",
    "\n",
    "# Select features with ROC-AUC:\n",
    "# ========================================\n",
    "# Train\n",
    "# F1 score: 0.6902931117589002\n",
    "# Validation\n",
    "# F1 score: 0.5760988013076643\n",
    "\n",
    "# Select features with RecursiveFeatureElimination:\n",
    "# ========================================\n",
    "# Train\n",
    "# F1 score: 0.6084971521021254\n",
    "# Validation\n",
    "# F1 score: 0.6096237970253718\n",
    "\n",
    "# Select features with RecursiveFeatureAddition:\n",
    "# ========================================\n",
    "# Train\n",
    "# F1 score: 0.5634595328757489\n",
    "# Validation\n",
    "# F1 score: 0.5712092130518234\n",
    "# ========================================"
   ]
  },
  {
   "cell_type": "markdown",
   "metadata": {},
   "source": [
    "Qua phân tích cho thấy kết quả trên model **MLPClassifier** huấn luyện trên các features được chọn dung: RecursiveFeatureElimination\n",
    "\n",
    "- F1-score trên tập train: 0.6084971521021254\n",
    "- F1-score trên tập validation: 0.6096237970253718"
   ]
  },
  {
   "cell_type": "markdown",
   "metadata": {},
   "source": [
    "## 6. Nâng cao"
   ]
  },
  {
   "cell_type": "markdown",
   "metadata": {},
   "source": [
    "#### Load data"
   ]
  },
  {
   "cell_type": "code",
   "execution_count": 208,
   "metadata": {},
   "outputs": [],
   "source": [
    "df_advance = pd.read_csv('weatherAUS_advance.csv')\n",
    "df_advance['RainTomorrow'] = df_advance['RainTomorrow'].fillna('Unknown')\n",
    "# df_advance.drop(['Date', 'Location'], axis=1, inplace = True)"
   ]
  },
  {
   "cell_type": "code",
   "execution_count": 209,
   "metadata": {},
   "outputs": [
    {
     "data": {
      "text/html": [
       "<div>\n",
       "<style scoped>\n",
       "    .dataframe tbody tr th:only-of-type {\n",
       "        vertical-align: middle;\n",
       "    }\n",
       "\n",
       "    .dataframe tbody tr th {\n",
       "        vertical-align: top;\n",
       "    }\n",
       "\n",
       "    .dataframe thead th {\n",
       "        text-align: right;\n",
       "    }\n",
       "</style>\n",
       "<table border=\"1\" class=\"dataframe\">\n",
       "  <thead>\n",
       "    <tr style=\"text-align: right;\">\n",
       "      <th></th>\n",
       "      <th>Date</th>\n",
       "      <th>Location</th>\n",
       "      <th>MinTemp</th>\n",
       "      <th>MaxTemp</th>\n",
       "      <th>Rainfall</th>\n",
       "      <th>Evaporation</th>\n",
       "      <th>Sunshine</th>\n",
       "      <th>WindGustDir</th>\n",
       "      <th>WindGustSpeed</th>\n",
       "      <th>WindDir9am</th>\n",
       "      <th>...</th>\n",
       "      <th>Humidity9am</th>\n",
       "      <th>Humidity3pm</th>\n",
       "      <th>Pressure9am</th>\n",
       "      <th>Pressure3pm</th>\n",
       "      <th>Cloud9am</th>\n",
       "      <th>Cloud3pm</th>\n",
       "      <th>Temp9am</th>\n",
       "      <th>Temp3pm</th>\n",
       "      <th>RainToday</th>\n",
       "      <th>RainTomorrow</th>\n",
       "    </tr>\n",
       "  </thead>\n",
       "  <tbody>\n",
       "    <tr>\n",
       "      <th>0</th>\n",
       "      <td>2008-12-01</td>\n",
       "      <td>Albury</td>\n",
       "      <td>13.4</td>\n",
       "      <td>22.9</td>\n",
       "      <td>0.6</td>\n",
       "      <td>NaN</td>\n",
       "      <td>NaN</td>\n",
       "      <td>W</td>\n",
       "      <td>44.0</td>\n",
       "      <td>W</td>\n",
       "      <td>...</td>\n",
       "      <td>71.0</td>\n",
       "      <td>22.0</td>\n",
       "      <td>1007.7</td>\n",
       "      <td>1007.1</td>\n",
       "      <td>8.0</td>\n",
       "      <td>NaN</td>\n",
       "      <td>16.9</td>\n",
       "      <td>21.8</td>\n",
       "      <td>No</td>\n",
       "      <td>No</td>\n",
       "    </tr>\n",
       "    <tr>\n",
       "      <th>1</th>\n",
       "      <td>2008-12-02</td>\n",
       "      <td>Albury</td>\n",
       "      <td>7.4</td>\n",
       "      <td>25.1</td>\n",
       "      <td>0.0</td>\n",
       "      <td>NaN</td>\n",
       "      <td>NaN</td>\n",
       "      <td>WNW</td>\n",
       "      <td>44.0</td>\n",
       "      <td>NNW</td>\n",
       "      <td>...</td>\n",
       "      <td>44.0</td>\n",
       "      <td>25.0</td>\n",
       "      <td>1010.6</td>\n",
       "      <td>1007.8</td>\n",
       "      <td>NaN</td>\n",
       "      <td>NaN</td>\n",
       "      <td>17.2</td>\n",
       "      <td>24.3</td>\n",
       "      <td>No</td>\n",
       "      <td>No</td>\n",
       "    </tr>\n",
       "  </tbody>\n",
       "</table>\n",
       "<p>2 rows × 23 columns</p>\n",
       "</div>"
      ],
      "text/plain": [
       "         Date Location  MinTemp  MaxTemp  Rainfall  Evaporation  Sunshine  \\\n",
       "0  2008-12-01   Albury     13.4     22.9       0.6          NaN       NaN   \n",
       "1  2008-12-02   Albury      7.4     25.1       0.0          NaN       NaN   \n",
       "\n",
       "  WindGustDir  WindGustSpeed WindDir9am  ... Humidity9am  Humidity3pm  \\\n",
       "0           W           44.0          W  ...        71.0         22.0   \n",
       "1         WNW           44.0        NNW  ...        44.0         25.0   \n",
       "\n",
       "   Pressure9am  Pressure3pm  Cloud9am  Cloud3pm  Temp9am  Temp3pm  RainToday  \\\n",
       "0       1007.7       1007.1       8.0       NaN     16.9     21.8         No   \n",
       "1       1010.6       1007.8       NaN       NaN     17.2     24.3         No   \n",
       "\n",
       "   RainTomorrow  \n",
       "0            No  \n",
       "1            No  \n",
       "\n",
       "[2 rows x 23 columns]"
      ]
     },
     "execution_count": 209,
     "metadata": {},
     "output_type": "execute_result"
    }
   ],
   "source": [
    "df_advance.head(2)"
   ]
  },
  {
   "cell_type": "markdown",
   "metadata": {},
   "source": [
    "#### Handle Date feature"
   ]
  },
  {
   "cell_type": "code",
   "execution_count": 210,
   "metadata": {},
   "outputs": [
    {
     "data": {
      "text/plain": [
       "0"
      ]
     },
     "execution_count": 210,
     "metadata": {},
     "output_type": "execute_result"
    }
   ],
   "source": [
    "df_advance['Date'].isna().sum()"
   ]
  },
  {
   "cell_type": "code",
   "execution_count": 211,
   "metadata": {},
   "outputs": [
    {
     "data": {
      "text/plain": [
       "0    2008-12-01\n",
       "1    2008-12-02\n",
       "2    2008-12-03\n",
       "3    2008-12-04\n",
       "4    2008-12-05\n",
       "Name: Date, dtype: object"
      ]
     },
     "execution_count": 211,
     "metadata": {},
     "output_type": "execute_result"
    }
   ],
   "source": [
    "df_advance['Date'].head()"
   ]
  },
  {
   "cell_type": "markdown",
   "metadata": {},
   "source": [
    "Convert date feature from string to pandas' date"
   ]
  },
  {
   "cell_type": "code",
   "execution_count": 212,
   "metadata": {},
   "outputs": [
    {
     "data": {
      "text/plain": [
       "0   2008-12-01\n",
       "1   2008-12-02\n",
       "2   2008-12-03\n",
       "3   2008-12-04\n",
       "4   2008-12-05\n",
       "Name: Date, dtype: datetime64[ns]"
      ]
     },
     "execution_count": 212,
     "metadata": {},
     "output_type": "execute_result"
    }
   ],
   "source": [
    "df_advance['Date'] = pd.to_datetime(df_advance['Date'], format='%Y-%m-%d')\n",
    "df_advance['Date'].head()"
   ]
  },
  {
   "cell_type": "markdown",
   "metadata": {},
   "source": [
    "Cyclic Feature Encoding"
   ]
  },
  {
   "cell_type": "code",
   "execution_count": 213,
   "metadata": {},
   "outputs": [],
   "source": [
    "def encode_date(df, variable, max_value):\n",
    "    df[variable + '_sin'] = np.sin(2 * np.pi * df[variable]/max_value)\n",
    "    df[variable + '_cos'] = np.cos(2 * np.pi * df[variable]/max_value)\n",
    "    return df\n",
    "\n",
    "df_advance['Date_year'] = df_advance['Date'].dt.year\n",
    "df_advance['Date_month'] = df_advance['Date'].dt.month\n",
    "df_advance = encode_date(df_advance, 'Date_month', max_value=12)\n",
    "\n",
    "df_advance['Date_day'] = df_advance['Date'].dt.day\n",
    "df_advance = encode_date(df_advance, 'Date_day', max_value=31)\n",
    "\n",
    "df_advance.drop(['Date'], axis=1, inplace = True)"
   ]
  },
  {
   "cell_type": "code",
   "execution_count": 214,
   "metadata": {},
   "outputs": [
    {
     "data": {
      "text/html": [
       "<div>\n",
       "<style scoped>\n",
       "    .dataframe tbody tr th:only-of-type {\n",
       "        vertical-align: middle;\n",
       "    }\n",
       "\n",
       "    .dataframe tbody tr th {\n",
       "        vertical-align: top;\n",
       "    }\n",
       "\n",
       "    .dataframe thead th {\n",
       "        text-align: right;\n",
       "    }\n",
       "</style>\n",
       "<table border=\"1\" class=\"dataframe\">\n",
       "  <thead>\n",
       "    <tr style=\"text-align: right;\">\n",
       "      <th></th>\n",
       "      <th>Date_year</th>\n",
       "      <th>Date_month</th>\n",
       "      <th>Date_day</th>\n",
       "      <th>Date_month_sin</th>\n",
       "      <th>Date_month_cos</th>\n",
       "      <th>Date_day_sin</th>\n",
       "      <th>Date_day_cos</th>\n",
       "    </tr>\n",
       "  </thead>\n",
       "  <tbody>\n",
       "    <tr>\n",
       "      <th>0</th>\n",
       "      <td>2008</td>\n",
       "      <td>12</td>\n",
       "      <td>1</td>\n",
       "      <td>-2.449294e-16</td>\n",
       "      <td>1.0</td>\n",
       "      <td>0.201299</td>\n",
       "      <td>0.979530</td>\n",
       "    </tr>\n",
       "    <tr>\n",
       "      <th>1</th>\n",
       "      <td>2008</td>\n",
       "      <td>12</td>\n",
       "      <td>2</td>\n",
       "      <td>-2.449294e-16</td>\n",
       "      <td>1.0</td>\n",
       "      <td>0.394356</td>\n",
       "      <td>0.918958</td>\n",
       "    </tr>\n",
       "    <tr>\n",
       "      <th>2</th>\n",
       "      <td>2008</td>\n",
       "      <td>12</td>\n",
       "      <td>3</td>\n",
       "      <td>-2.449294e-16</td>\n",
       "      <td>1.0</td>\n",
       "      <td>0.571268</td>\n",
       "      <td>0.820763</td>\n",
       "    </tr>\n",
       "    <tr>\n",
       "      <th>3</th>\n",
       "      <td>2008</td>\n",
       "      <td>12</td>\n",
       "      <td>4</td>\n",
       "      <td>-2.449294e-16</td>\n",
       "      <td>1.0</td>\n",
       "      <td>0.724793</td>\n",
       "      <td>0.688967</td>\n",
       "    </tr>\n",
       "    <tr>\n",
       "      <th>4</th>\n",
       "      <td>2008</td>\n",
       "      <td>12</td>\n",
       "      <td>5</td>\n",
       "      <td>-2.449294e-16</td>\n",
       "      <td>1.0</td>\n",
       "      <td>0.848644</td>\n",
       "      <td>0.528964</td>\n",
       "    </tr>\n",
       "  </tbody>\n",
       "</table>\n",
       "</div>"
      ],
      "text/plain": [
       "   Date_year  Date_month  Date_day  Date_month_sin  Date_month_cos  \\\n",
       "0       2008          12         1   -2.449294e-16             1.0   \n",
       "1       2008          12         2   -2.449294e-16             1.0   \n",
       "2       2008          12         3   -2.449294e-16             1.0   \n",
       "3       2008          12         4   -2.449294e-16             1.0   \n",
       "4       2008          12         5   -2.449294e-16             1.0   \n",
       "\n",
       "   Date_day_sin  Date_day_cos  \n",
       "0      0.201299      0.979530  \n",
       "1      0.394356      0.918958  \n",
       "2      0.571268      0.820763  \n",
       "3      0.724793      0.688967  \n",
       "4      0.848644      0.528964  "
      ]
     },
     "execution_count": 214,
     "metadata": {},
     "output_type": "execute_result"
    }
   ],
   "source": [
    "date_features = ['Date_year', 'Date_month', 'Date_day', 'Date_month_sin', 'Date_month_cos', 'Date_day_sin', 'Date_day_cos']\n",
    "df_advance[date_features].head()"
   ]
  },
  {
   "cell_type": "markdown",
   "metadata": {},
   "source": [
    "#### Split data"
   ]
  },
  {
   "cell_type": "code",
   "execution_count": 215,
   "metadata": {},
   "outputs": [],
   "source": [
    "X = df_advance.drop(['RainTomorrow'], axis=1)\n",
    "y = df_advance['RainTomorrow']\n",
    "X_train, X_test, y_train, y_test = train_test_split(X, y, test_size=0.2, random_state=42)\n",
    "X_test, X_valid, y_test, y_valid = train_test_split(X_test, y_test, test_size=0.5, random_state=42)"
   ]
  },
  {
   "cell_type": "markdown",
   "metadata": {},
   "source": [
    "#### Chia biến hạng mục và biến số"
   ]
  },
  {
   "cell_type": "code",
   "execution_count": 216,
   "metadata": {},
   "outputs": [],
   "source": [
    "categorical = [col for col in X.columns if X[col].dtypes == 'O']\n",
    "numerical = [col for col in X.columns if X[col].dtypes != 'O']"
   ]
  },
  {
   "cell_type": "code",
   "execution_count": 217,
   "metadata": {},
   "outputs": [
    {
     "data": {
      "text/plain": [
       "['Location', 'WindGustDir', 'WindDir9am', 'WindDir3pm', 'RainToday']"
      ]
     },
     "execution_count": 217,
     "metadata": {},
     "output_type": "execute_result"
    }
   ],
   "source": [
    "categorical"
   ]
  },
  {
   "cell_type": "code",
   "execution_count": 218,
   "metadata": {},
   "outputs": [
    {
     "data": {
      "text/plain": [
       "['MinTemp',\n",
       " 'MaxTemp',\n",
       " 'Rainfall',\n",
       " 'Evaporation',\n",
       " 'Sunshine',\n",
       " 'WindGustSpeed',\n",
       " 'WindSpeed9am',\n",
       " 'WindSpeed3pm',\n",
       " 'Humidity9am',\n",
       " 'Humidity3pm',\n",
       " 'Pressure9am',\n",
       " 'Pressure3pm',\n",
       " 'Cloud9am',\n",
       " 'Cloud3pm',\n",
       " 'Temp9am',\n",
       " 'Temp3pm',\n",
       " 'Date_year',\n",
       " 'Date_month',\n",
       " 'Date_month_sin',\n",
       " 'Date_month_cos',\n",
       " 'Date_day',\n",
       " 'Date_day_sin',\n",
       " 'Date_day_cos']"
      ]
     },
     "execution_count": 218,
     "metadata": {},
     "output_type": "execute_result"
    }
   ],
   "source": [
    "numerical"
   ]
  },
  {
   "cell_type": "markdown",
   "metadata": {},
   "source": [
    "#### Fill N/A cho biến số"
   ]
  },
  {
   "cell_type": "code",
   "execution_count": 219,
   "metadata": {},
   "outputs": [],
   "source": [
    "for df1 in [X_train, X_test, X_valid]:\n",
    "    for col in numerical:\n",
    "        col_median = X_train[col].median()\n",
    "        df1[col].fillna(col_median, inplace=True)\n",
    "\n"
   ]
  },
  {
   "cell_type": "markdown",
   "metadata": {},
   "source": [
    "#### Fill N/A cho biến hạng mục"
   ]
  },
  {
   "cell_type": "code",
   "execution_count": 220,
   "metadata": {},
   "outputs": [],
   "source": [
    "for df2 in [X_train, X_test, X_valid]:\n",
    "    for var in categorical:\n",
    "        df2[var].fillna(X_train[var].mode()[0], inplace=True)"
   ]
  },
  {
   "cell_type": "markdown",
   "metadata": {},
   "source": [
    "#### Xử lý outlier cho biến số"
   ]
  },
  {
   "cell_type": "code",
   "execution_count": 221,
   "metadata": {},
   "outputs": [],
   "source": [
    "def max_value(df3, variable, top):\n",
    "    return np.where(df3[variable]>top, top, df3[variable])\n",
    "\n",
    "for df3 in [X_train, X_test, X_valid]:\n",
    "    df3['Rainfall'] = max_value(df3, 'Rainfall', 3.2)\n",
    "    df3['Evaporation'] = max_value(df3, 'Evaporation', 21.8)\n",
    "    df3['WindSpeed9am'] = max_value(df3, 'WindSpeed9am', 55)\n",
    "    df3['WindSpeed3pm'] = max_value(df3, 'WindSpeed3pm', 57)"
   ]
  },
  {
   "cell_type": "markdown",
   "metadata": {},
   "source": [
    "#### Encode cho biến hạng mục"
   ]
  },
  {
   "cell_type": "code",
   "execution_count": 222,
   "metadata": {},
   "outputs": [],
   "source": [
    "from sklearn import preprocessing\n",
    "le = preprocessing.LabelEncoder()\n",
    "\n",
    "y_train = le.fit_transform(y_train)\n",
    "y_test = le.transform(y_test)\n",
    "y_valid = le.transform(y_valid)"
   ]
  },
  {
   "cell_type": "markdown",
   "metadata": {},
   "source": [
    "#### Mã hoá biến nhị phân cho RainToday"
   ]
  },
  {
   "cell_type": "code",
   "execution_count": 223,
   "metadata": {},
   "outputs": [],
   "source": [
    "X_train_1, X_test_1, X_valid_1 = X_train.copy(), X_test.copy(), X_valid.copy()"
   ]
  },
  {
   "cell_type": "code",
   "execution_count": 224,
   "metadata": {},
   "outputs": [
    {
     "data": {
      "text/html": [
       "<div>\n",
       "<style scoped>\n",
       "    .dataframe tbody tr th:only-of-type {\n",
       "        vertical-align: middle;\n",
       "    }\n",
       "\n",
       "    .dataframe tbody tr th {\n",
       "        vertical-align: top;\n",
       "    }\n",
       "\n",
       "    .dataframe thead th {\n",
       "        text-align: right;\n",
       "    }\n",
       "</style>\n",
       "<table border=\"1\" class=\"dataframe\">\n",
       "  <thead>\n",
       "    <tr style=\"text-align: right;\">\n",
       "      <th></th>\n",
       "      <th>Location</th>\n",
       "      <th>MinTemp</th>\n",
       "      <th>MaxTemp</th>\n",
       "      <th>Rainfall</th>\n",
       "      <th>Evaporation</th>\n",
       "      <th>Sunshine</th>\n",
       "      <th>WindGustDir</th>\n",
       "      <th>WindGustSpeed</th>\n",
       "      <th>WindDir9am</th>\n",
       "      <th>WindDir3pm</th>\n",
       "      <th>...</th>\n",
       "      <th>Temp9am</th>\n",
       "      <th>Temp3pm</th>\n",
       "      <th>RainToday</th>\n",
       "      <th>Date_year</th>\n",
       "      <th>Date_month</th>\n",
       "      <th>Date_month_sin</th>\n",
       "      <th>Date_month_cos</th>\n",
       "      <th>Date_day</th>\n",
       "      <th>Date_day_sin</th>\n",
       "      <th>Date_day_cos</th>\n",
       "    </tr>\n",
       "  </thead>\n",
       "  <tbody>\n",
       "    <tr>\n",
       "      <th>111548</th>\n",
       "      <td>Albany</td>\n",
       "      <td>14.5</td>\n",
       "      <td>17.8</td>\n",
       "      <td>3.2</td>\n",
       "      <td>4.8</td>\n",
       "      <td>8.4</td>\n",
       "      <td>W</td>\n",
       "      <td>39.0</td>\n",
       "      <td>N</td>\n",
       "      <td>SE</td>\n",
       "      <td>...</td>\n",
       "      <td>16.2</td>\n",
       "      <td>21.1</td>\n",
       "      <td>Yes</td>\n",
       "      <td>2017</td>\n",
       "      <td>4</td>\n",
       "      <td>0.866025</td>\n",
       "      <td>-0.5</td>\n",
       "      <td>24</td>\n",
       "      <td>-0.988468</td>\n",
       "      <td>0.151428</td>\n",
       "    </tr>\n",
       "    <tr>\n",
       "      <th>142528</th>\n",
       "      <td>Katherine</td>\n",
       "      <td>24.6</td>\n",
       "      <td>39.5</td>\n",
       "      <td>0.0</td>\n",
       "      <td>12.0</td>\n",
       "      <td>8.4</td>\n",
       "      <td>SE</td>\n",
       "      <td>31.0</td>\n",
       "      <td>N</td>\n",
       "      <td>NW</td>\n",
       "      <td>...</td>\n",
       "      <td>30.1</td>\n",
       "      <td>39.2</td>\n",
       "      <td>No</td>\n",
       "      <td>2013</td>\n",
       "      <td>10</td>\n",
       "      <td>-0.866025</td>\n",
       "      <td>0.5</td>\n",
       "      <td>11</td>\n",
       "      <td>0.790776</td>\n",
       "      <td>-0.612106</td>\n",
       "    </tr>\n",
       "    <tr>\n",
       "      <th>65304</th>\n",
       "      <td>MelbourneAirport</td>\n",
       "      <td>14.7</td>\n",
       "      <td>26.6</td>\n",
       "      <td>0.2</td>\n",
       "      <td>3.2</td>\n",
       "      <td>8.0</td>\n",
       "      <td>SSE</td>\n",
       "      <td>30.0</td>\n",
       "      <td>SW</td>\n",
       "      <td>S</td>\n",
       "      <td>...</td>\n",
       "      <td>17.3</td>\n",
       "      <td>24.5</td>\n",
       "      <td>No</td>\n",
       "      <td>2012</td>\n",
       "      <td>2</td>\n",
       "      <td>0.866025</td>\n",
       "      <td>0.5</td>\n",
       "      <td>18</td>\n",
       "      <td>-0.485302</td>\n",
       "      <td>-0.874347</td>\n",
       "    </tr>\n",
       "    <tr>\n",
       "      <th>40651</th>\n",
       "      <td>Williamtown</td>\n",
       "      <td>18.3</td>\n",
       "      <td>26.6</td>\n",
       "      <td>0.0</td>\n",
       "      <td>4.8</td>\n",
       "      <td>8.4</td>\n",
       "      <td>SE</td>\n",
       "      <td>28.0</td>\n",
       "      <td>WSW</td>\n",
       "      <td>SSE</td>\n",
       "      <td>...</td>\n",
       "      <td>23.0</td>\n",
       "      <td>25.4</td>\n",
       "      <td>No</td>\n",
       "      <td>2012</td>\n",
       "      <td>2</td>\n",
       "      <td>0.866025</td>\n",
       "      <td>0.5</td>\n",
       "      <td>18</td>\n",
       "      <td>-0.485302</td>\n",
       "      <td>-0.874347</td>\n",
       "    </tr>\n",
       "    <tr>\n",
       "      <th>97487</th>\n",
       "      <td>Adelaide</td>\n",
       "      <td>11.4</td>\n",
       "      <td>19.3</td>\n",
       "      <td>0.6</td>\n",
       "      <td>2.4</td>\n",
       "      <td>8.9</td>\n",
       "      <td>W</td>\n",
       "      <td>31.0</td>\n",
       "      <td>SW</td>\n",
       "      <td>SSW</td>\n",
       "      <td>...</td>\n",
       "      <td>14.4</td>\n",
       "      <td>18.3</td>\n",
       "      <td>No</td>\n",
       "      <td>2011</td>\n",
       "      <td>10</td>\n",
       "      <td>-0.866025</td>\n",
       "      <td>0.5</td>\n",
       "      <td>11</td>\n",
       "      <td>0.790776</td>\n",
       "      <td>-0.612106</td>\n",
       "    </tr>\n",
       "  </tbody>\n",
       "</table>\n",
       "<p>5 rows × 28 columns</p>\n",
       "</div>"
      ],
      "text/plain": [
       "                Location  MinTemp  MaxTemp  Rainfall  Evaporation  Sunshine  \\\n",
       "111548            Albany     14.5     17.8       3.2          4.8       8.4   \n",
       "142528         Katherine     24.6     39.5       0.0         12.0       8.4   \n",
       "65304   MelbourneAirport     14.7     26.6       0.2          3.2       8.0   \n",
       "40651        Williamtown     18.3     26.6       0.0          4.8       8.4   \n",
       "97487           Adelaide     11.4     19.3       0.6          2.4       8.9   \n",
       "\n",
       "       WindGustDir  WindGustSpeed WindDir9am WindDir3pm  ...  Temp9am  \\\n",
       "111548           W           39.0          N         SE  ...     16.2   \n",
       "142528          SE           31.0          N         NW  ...     30.1   \n",
       "65304          SSE           30.0         SW          S  ...     17.3   \n",
       "40651           SE           28.0        WSW        SSE  ...     23.0   \n",
       "97487            W           31.0         SW        SSW  ...     14.4   \n",
       "\n",
       "        Temp3pm  RainToday  Date_year  Date_month  Date_month_sin  \\\n",
       "111548     21.1        Yes       2017           4        0.866025   \n",
       "142528     39.2         No       2013          10       -0.866025   \n",
       "65304      24.5         No       2012           2        0.866025   \n",
       "40651      25.4         No       2012           2        0.866025   \n",
       "97487      18.3         No       2011          10       -0.866025   \n",
       "\n",
       "        Date_month_cos  Date_day  Date_day_sin  Date_day_cos  \n",
       "111548            -0.5        24     -0.988468      0.151428  \n",
       "142528             0.5        11      0.790776     -0.612106  \n",
       "65304              0.5        18     -0.485302     -0.874347  \n",
       "40651              0.5        18     -0.485302     -0.874347  \n",
       "97487              0.5        11      0.790776     -0.612106  \n",
       "\n",
       "[5 rows x 28 columns]"
      ]
     },
     "execution_count": 224,
     "metadata": {},
     "output_type": "execute_result"
    }
   ],
   "source": [
    "X_train_1.head()"
   ]
  },
  {
   "cell_type": "code",
   "execution_count": 225,
   "metadata": {},
   "outputs": [],
   "source": [
    "\n",
    "import category_encoders as ce\n",
    "\n",
    "encoder = ce.BinaryEncoder(cols=['RainToday'])\n",
    "\n",
    "X_train_target = encoder.fit_transform(X_train_1)\n",
    "col_categorical = ['Location','WindGustDir', 'WindDir9am', 'WindDir3pm']\n",
    "X_train_categorical = pd.concat([X_train_target[['RainToday_0', 'RainToday_1']],\n",
    "                      pd.get_dummies(X_train_1[col_categorical])], axis=1)\n",
    "\n",
    "X_test_target = encoder.transform(X_test_1)\n",
    "X_test_categorical = pd.concat([X_test_target[['RainToday_0', 'RainToday_1']],\n",
    "                     pd.get_dummies(X_test_1[col_categorical])], axis=1)\n",
    "\n",
    "X_valid_target = encoder.transform(X_valid_1)\n",
    "X_valid_categorical = pd.concat([X_valid_target[['RainToday_0', 'RainToday_1']],\n",
    "                     pd.get_dummies(X_valid_1[col_categorical])], axis=1)"
   ]
  },
  {
   "cell_type": "code",
   "execution_count": 226,
   "metadata": {},
   "outputs": [
    {
     "data": {
      "text/html": [
       "<div>\n",
       "<style scoped>\n",
       "    .dataframe tbody tr th:only-of-type {\n",
       "        vertical-align: middle;\n",
       "    }\n",
       "\n",
       "    .dataframe tbody tr th {\n",
       "        vertical-align: top;\n",
       "    }\n",
       "\n",
       "    .dataframe thead th {\n",
       "        text-align: right;\n",
       "    }\n",
       "</style>\n",
       "<table border=\"1\" class=\"dataframe\">\n",
       "  <thead>\n",
       "    <tr style=\"text-align: right;\">\n",
       "      <th></th>\n",
       "      <th>RainToday_0</th>\n",
       "      <th>RainToday_1</th>\n",
       "      <th>Location_Adelaide</th>\n",
       "      <th>Location_Albany</th>\n",
       "      <th>Location_Albury</th>\n",
       "      <th>Location_AliceSprings</th>\n",
       "      <th>Location_BadgerysCreek</th>\n",
       "      <th>Location_Ballarat</th>\n",
       "      <th>Location_Bendigo</th>\n",
       "      <th>Location_Brisbane</th>\n",
       "      <th>...</th>\n",
       "      <th>WindDir3pm_NNW</th>\n",
       "      <th>WindDir3pm_NW</th>\n",
       "      <th>WindDir3pm_S</th>\n",
       "      <th>WindDir3pm_SE</th>\n",
       "      <th>WindDir3pm_SSE</th>\n",
       "      <th>WindDir3pm_SSW</th>\n",
       "      <th>WindDir3pm_SW</th>\n",
       "      <th>WindDir3pm_W</th>\n",
       "      <th>WindDir3pm_WNW</th>\n",
       "      <th>WindDir3pm_WSW</th>\n",
       "    </tr>\n",
       "  </thead>\n",
       "  <tbody>\n",
       "    <tr>\n",
       "      <th>111548</th>\n",
       "      <td>0</td>\n",
       "      <td>1</td>\n",
       "      <td>0</td>\n",
       "      <td>1</td>\n",
       "      <td>0</td>\n",
       "      <td>0</td>\n",
       "      <td>0</td>\n",
       "      <td>0</td>\n",
       "      <td>0</td>\n",
       "      <td>0</td>\n",
       "      <td>...</td>\n",
       "      <td>0</td>\n",
       "      <td>0</td>\n",
       "      <td>0</td>\n",
       "      <td>1</td>\n",
       "      <td>0</td>\n",
       "      <td>0</td>\n",
       "      <td>0</td>\n",
       "      <td>0</td>\n",
       "      <td>0</td>\n",
       "      <td>0</td>\n",
       "    </tr>\n",
       "    <tr>\n",
       "      <th>142528</th>\n",
       "      <td>1</td>\n",
       "      <td>0</td>\n",
       "      <td>0</td>\n",
       "      <td>0</td>\n",
       "      <td>0</td>\n",
       "      <td>0</td>\n",
       "      <td>0</td>\n",
       "      <td>0</td>\n",
       "      <td>0</td>\n",
       "      <td>0</td>\n",
       "      <td>...</td>\n",
       "      <td>0</td>\n",
       "      <td>1</td>\n",
       "      <td>0</td>\n",
       "      <td>0</td>\n",
       "      <td>0</td>\n",
       "      <td>0</td>\n",
       "      <td>0</td>\n",
       "      <td>0</td>\n",
       "      <td>0</td>\n",
       "      <td>0</td>\n",
       "    </tr>\n",
       "    <tr>\n",
       "      <th>65304</th>\n",
       "      <td>1</td>\n",
       "      <td>0</td>\n",
       "      <td>0</td>\n",
       "      <td>0</td>\n",
       "      <td>0</td>\n",
       "      <td>0</td>\n",
       "      <td>0</td>\n",
       "      <td>0</td>\n",
       "      <td>0</td>\n",
       "      <td>0</td>\n",
       "      <td>...</td>\n",
       "      <td>0</td>\n",
       "      <td>0</td>\n",
       "      <td>1</td>\n",
       "      <td>0</td>\n",
       "      <td>0</td>\n",
       "      <td>0</td>\n",
       "      <td>0</td>\n",
       "      <td>0</td>\n",
       "      <td>0</td>\n",
       "      <td>0</td>\n",
       "    </tr>\n",
       "    <tr>\n",
       "      <th>40651</th>\n",
       "      <td>1</td>\n",
       "      <td>0</td>\n",
       "      <td>0</td>\n",
       "      <td>0</td>\n",
       "      <td>0</td>\n",
       "      <td>0</td>\n",
       "      <td>0</td>\n",
       "      <td>0</td>\n",
       "      <td>0</td>\n",
       "      <td>0</td>\n",
       "      <td>...</td>\n",
       "      <td>0</td>\n",
       "      <td>0</td>\n",
       "      <td>0</td>\n",
       "      <td>0</td>\n",
       "      <td>1</td>\n",
       "      <td>0</td>\n",
       "      <td>0</td>\n",
       "      <td>0</td>\n",
       "      <td>0</td>\n",
       "      <td>0</td>\n",
       "    </tr>\n",
       "    <tr>\n",
       "      <th>97487</th>\n",
       "      <td>1</td>\n",
       "      <td>0</td>\n",
       "      <td>1</td>\n",
       "      <td>0</td>\n",
       "      <td>0</td>\n",
       "      <td>0</td>\n",
       "      <td>0</td>\n",
       "      <td>0</td>\n",
       "      <td>0</td>\n",
       "      <td>0</td>\n",
       "      <td>...</td>\n",
       "      <td>0</td>\n",
       "      <td>0</td>\n",
       "      <td>0</td>\n",
       "      <td>0</td>\n",
       "      <td>0</td>\n",
       "      <td>1</td>\n",
       "      <td>0</td>\n",
       "      <td>0</td>\n",
       "      <td>0</td>\n",
       "      <td>0</td>\n",
       "    </tr>\n",
       "  </tbody>\n",
       "</table>\n",
       "<p>5 rows × 99 columns</p>\n",
       "</div>"
      ],
      "text/plain": [
       "        RainToday_0  RainToday_1  Location_Adelaide  Location_Albany  \\\n",
       "111548            0            1                  0                1   \n",
       "142528            1            0                  0                0   \n",
       "65304             1            0                  0                0   \n",
       "40651             1            0                  0                0   \n",
       "97487             1            0                  1                0   \n",
       "\n",
       "        Location_Albury  Location_AliceSprings  Location_BadgerysCreek  \\\n",
       "111548                0                      0                       0   \n",
       "142528                0                      0                       0   \n",
       "65304                 0                      0                       0   \n",
       "40651                 0                      0                       0   \n",
       "97487                 0                      0                       0   \n",
       "\n",
       "        Location_Ballarat  Location_Bendigo  Location_Brisbane  ...  \\\n",
       "111548                  0                 0                  0  ...   \n",
       "142528                  0                 0                  0  ...   \n",
       "65304                   0                 0                  0  ...   \n",
       "40651                   0                 0                  0  ...   \n",
       "97487                   0                 0                  0  ...   \n",
       "\n",
       "        WindDir3pm_NNW  WindDir3pm_NW  WindDir3pm_S  WindDir3pm_SE  \\\n",
       "111548               0              0             0              1   \n",
       "142528               0              1             0              0   \n",
       "65304                0              0             1              0   \n",
       "40651                0              0             0              0   \n",
       "97487                0              0             0              0   \n",
       "\n",
       "        WindDir3pm_SSE  WindDir3pm_SSW  WindDir3pm_SW  WindDir3pm_W  \\\n",
       "111548               0               0              0             0   \n",
       "142528               0               0              0             0   \n",
       "65304                0               0              0             0   \n",
       "40651                1               0              0             0   \n",
       "97487                0               1              0             0   \n",
       "\n",
       "        WindDir3pm_WNW  WindDir3pm_WSW  \n",
       "111548               0               0  \n",
       "142528               0               0  \n",
       "65304                0               0  \n",
       "40651                0               0  \n",
       "97487                0               0  \n",
       "\n",
       "[5 rows x 99 columns]"
      ]
     },
     "execution_count": 226,
     "metadata": {},
     "output_type": "execute_result"
    }
   ],
   "source": [
    "X_train_categorical.head()"
   ]
  },
  {
   "cell_type": "markdown",
   "metadata": {},
   "source": [
    "#### Rời rạc hoá biến số"
   ]
  },
  {
   "cell_type": "code",
   "execution_count": 227,
   "metadata": {},
   "outputs": [],
   "source": [
    "# from feature_engine.discretisation import EqualFrequencyDiscretiser\n",
    "# disc = EqualFrequencyDiscretiser(q=10, variables = numerical)\n",
    "\n",
    "# disc.fit(X_train_1[numerical])\n",
    "# X_train_numerical = disc.transform(X_train_1[numerical])\n",
    "# X_test_numerical = disc.transform(X_test_1[numerical])\n",
    "# X_valid_numerical = disc.transform(X_valid_1[numerical])"
   ]
  },
  {
   "cell_type": "markdown",
   "metadata": {},
   "source": [
    "#### Ghép các tập đã xử lý"
   ]
  },
  {
   "cell_type": "code",
   "execution_count": 228,
   "metadata": {},
   "outputs": [],
   "source": [
    "train = pd.concat([X_train_1[numerical], X_train_categorical], axis=1)\n",
    "test = pd.concat([X_test_1[numerical], X_test_categorical], axis=1)\n",
    "valid = pd.concat([X_valid_1[numerical], X_valid_categorical], axis=1)"
   ]
  },
  {
   "cell_type": "code",
   "execution_count": 229,
   "metadata": {},
   "outputs": [
    {
     "data": {
      "text/html": [
       "<div>\n",
       "<style scoped>\n",
       "    .dataframe tbody tr th:only-of-type {\n",
       "        vertical-align: middle;\n",
       "    }\n",
       "\n",
       "    .dataframe tbody tr th {\n",
       "        vertical-align: top;\n",
       "    }\n",
       "\n",
       "    .dataframe thead th {\n",
       "        text-align: right;\n",
       "    }\n",
       "</style>\n",
       "<table border=\"1\" class=\"dataframe\">\n",
       "  <thead>\n",
       "    <tr style=\"text-align: right;\">\n",
       "      <th></th>\n",
       "      <th>MinTemp</th>\n",
       "      <th>MaxTemp</th>\n",
       "      <th>Rainfall</th>\n",
       "      <th>Evaporation</th>\n",
       "      <th>Sunshine</th>\n",
       "      <th>WindGustSpeed</th>\n",
       "      <th>WindSpeed9am</th>\n",
       "      <th>WindSpeed3pm</th>\n",
       "      <th>Humidity9am</th>\n",
       "      <th>Humidity3pm</th>\n",
       "      <th>...</th>\n",
       "      <th>WindDir3pm_NNW</th>\n",
       "      <th>WindDir3pm_NW</th>\n",
       "      <th>WindDir3pm_S</th>\n",
       "      <th>WindDir3pm_SE</th>\n",
       "      <th>WindDir3pm_SSE</th>\n",
       "      <th>WindDir3pm_SSW</th>\n",
       "      <th>WindDir3pm_SW</th>\n",
       "      <th>WindDir3pm_W</th>\n",
       "      <th>WindDir3pm_WNW</th>\n",
       "      <th>WindDir3pm_WSW</th>\n",
       "    </tr>\n",
       "  </thead>\n",
       "  <tbody>\n",
       "    <tr>\n",
       "      <th>111548</th>\n",
       "      <td>14.5</td>\n",
       "      <td>17.8</td>\n",
       "      <td>3.2</td>\n",
       "      <td>4.8</td>\n",
       "      <td>8.4</td>\n",
       "      <td>39.0</td>\n",
       "      <td>0.0</td>\n",
       "      <td>19.0</td>\n",
       "      <td>94.0</td>\n",
       "      <td>52.0</td>\n",
       "      <td>...</td>\n",
       "      <td>0</td>\n",
       "      <td>0</td>\n",
       "      <td>0</td>\n",
       "      <td>1</td>\n",
       "      <td>0</td>\n",
       "      <td>0</td>\n",
       "      <td>0</td>\n",
       "      <td>0</td>\n",
       "      <td>0</td>\n",
       "      <td>0</td>\n",
       "    </tr>\n",
       "    <tr>\n",
       "      <th>142528</th>\n",
       "      <td>24.6</td>\n",
       "      <td>39.5</td>\n",
       "      <td>0.0</td>\n",
       "      <td>12.0</td>\n",
       "      <td>8.4</td>\n",
       "      <td>31.0</td>\n",
       "      <td>9.0</td>\n",
       "      <td>17.0</td>\n",
       "      <td>52.0</td>\n",
       "      <td>21.0</td>\n",
       "      <td>...</td>\n",
       "      <td>0</td>\n",
       "      <td>1</td>\n",
       "      <td>0</td>\n",
       "      <td>0</td>\n",
       "      <td>0</td>\n",
       "      <td>0</td>\n",
       "      <td>0</td>\n",
       "      <td>0</td>\n",
       "      <td>0</td>\n",
       "      <td>0</td>\n",
       "    </tr>\n",
       "    <tr>\n",
       "      <th>65304</th>\n",
       "      <td>14.7</td>\n",
       "      <td>26.6</td>\n",
       "      <td>0.2</td>\n",
       "      <td>3.2</td>\n",
       "      <td>8.0</td>\n",
       "      <td>30.0</td>\n",
       "      <td>7.0</td>\n",
       "      <td>11.0</td>\n",
       "      <td>87.0</td>\n",
       "      <td>57.0</td>\n",
       "      <td>...</td>\n",
       "      <td>0</td>\n",
       "      <td>0</td>\n",
       "      <td>1</td>\n",
       "      <td>0</td>\n",
       "      <td>0</td>\n",
       "      <td>0</td>\n",
       "      <td>0</td>\n",
       "      <td>0</td>\n",
       "      <td>0</td>\n",
       "      <td>0</td>\n",
       "    </tr>\n",
       "    <tr>\n",
       "      <th>40651</th>\n",
       "      <td>18.3</td>\n",
       "      <td>26.6</td>\n",
       "      <td>0.0</td>\n",
       "      <td>4.8</td>\n",
       "      <td>8.4</td>\n",
       "      <td>28.0</td>\n",
       "      <td>11.0</td>\n",
       "      <td>22.0</td>\n",
       "      <td>79.0</td>\n",
       "      <td>67.0</td>\n",
       "      <td>...</td>\n",
       "      <td>0</td>\n",
       "      <td>0</td>\n",
       "      <td>0</td>\n",
       "      <td>0</td>\n",
       "      <td>1</td>\n",
       "      <td>0</td>\n",
       "      <td>0</td>\n",
       "      <td>0</td>\n",
       "      <td>0</td>\n",
       "      <td>0</td>\n",
       "    </tr>\n",
       "    <tr>\n",
       "      <th>97487</th>\n",
       "      <td>11.4</td>\n",
       "      <td>19.3</td>\n",
       "      <td>0.6</td>\n",
       "      <td>2.4</td>\n",
       "      <td>8.9</td>\n",
       "      <td>31.0</td>\n",
       "      <td>13.0</td>\n",
       "      <td>19.0</td>\n",
       "      <td>63.0</td>\n",
       "      <td>47.0</td>\n",
       "      <td>...</td>\n",
       "      <td>0</td>\n",
       "      <td>0</td>\n",
       "      <td>0</td>\n",
       "      <td>0</td>\n",
       "      <td>0</td>\n",
       "      <td>1</td>\n",
       "      <td>0</td>\n",
       "      <td>0</td>\n",
       "      <td>0</td>\n",
       "      <td>0</td>\n",
       "    </tr>\n",
       "  </tbody>\n",
       "</table>\n",
       "<p>5 rows × 122 columns</p>\n",
       "</div>"
      ],
      "text/plain": [
       "        MinTemp  MaxTemp  Rainfall  Evaporation  Sunshine  WindGustSpeed  \\\n",
       "111548     14.5     17.8       3.2          4.8       8.4           39.0   \n",
       "142528     24.6     39.5       0.0         12.0       8.4           31.0   \n",
       "65304      14.7     26.6       0.2          3.2       8.0           30.0   \n",
       "40651      18.3     26.6       0.0          4.8       8.4           28.0   \n",
       "97487      11.4     19.3       0.6          2.4       8.9           31.0   \n",
       "\n",
       "        WindSpeed9am  WindSpeed3pm  Humidity9am  Humidity3pm  ...  \\\n",
       "111548           0.0          19.0         94.0         52.0  ...   \n",
       "142528           9.0          17.0         52.0         21.0  ...   \n",
       "65304            7.0          11.0         87.0         57.0  ...   \n",
       "40651           11.0          22.0         79.0         67.0  ...   \n",
       "97487           13.0          19.0         63.0         47.0  ...   \n",
       "\n",
       "        WindDir3pm_NNW  WindDir3pm_NW  WindDir3pm_S  WindDir3pm_SE  \\\n",
       "111548               0              0             0              1   \n",
       "142528               0              1             0              0   \n",
       "65304                0              0             1              0   \n",
       "40651                0              0             0              0   \n",
       "97487                0              0             0              0   \n",
       "\n",
       "        WindDir3pm_SSE  WindDir3pm_SSW  WindDir3pm_SW  WindDir3pm_W  \\\n",
       "111548               0               0              0             0   \n",
       "142528               0               0              0             0   \n",
       "65304                0               0              0             0   \n",
       "40651                1               0              0             0   \n",
       "97487                0               1              0             0   \n",
       "\n",
       "        WindDir3pm_WNW  WindDir3pm_WSW  \n",
       "111548               0               0  \n",
       "142528               0               0  \n",
       "65304                0               0  \n",
       "40651                0               0  \n",
       "97487                0               0  \n",
       "\n",
       "[5 rows x 122 columns]"
      ]
     },
     "execution_count": 229,
     "metadata": {},
     "output_type": "execute_result"
    }
   ],
   "source": [
    "train.head()"
   ]
  },
  {
   "cell_type": "markdown",
   "metadata": {},
   "source": [
    "#### Lựa chọn Features"
   ]
  },
  {
   "cell_type": "markdown",
   "metadata": {},
   "source": [
    "Lựa chọn đặc trưng bằng random forest"
   ]
  },
  {
   "cell_type": "code",
   "execution_count": 230,
   "metadata": {},
   "outputs": [
    {
     "data": {
      "text/plain": [
       "{'n_estimators': 100}"
      ]
     },
     "execution_count": 230,
     "metadata": {},
     "output_type": "execute_result"
    }
   ],
   "source": [
    "parameters = {'n_estimators': [10, 20, 50, 100]}\n",
    "randomForestModel = RandomForestClassifier(random_state=10)\n",
    "grid = GridSearchCV(randomForestModel, parameters, cv=5)\n",
    "grid.fit(train, y_train)\n",
    "grid.best_params_\n",
    "\n",
    "# {'n_estimators': 100}"
   ]
  },
  {
   "cell_type": "code",
   "execution_count": 231,
   "metadata": {},
   "outputs": [
    {
     "data": {
      "text/plain": [
       "array([[14.5       , 17.8       ,  3.2       , ...,  0.15142778,\n",
       "         0.        ,  1.        ],\n",
       "       [24.6       , 39.5       ,  0.        , ..., -0.61210598,\n",
       "         1.        ,  0.        ],\n",
       "       [14.7       , 26.6       ,  0.2       , ..., -0.87434662,\n",
       "         1.        ,  0.        ],\n",
       "       ...,\n",
       "       [ 7.6       , 21.7       ,  0.        , ..., -0.95413926,\n",
       "         1.        ,  0.        ],\n",
       "       [ 8.8       , 14.8       ,  0.        , ..., -0.05064917,\n",
       "         1.        ,  0.        ],\n",
       "       [15.8       , 40.6       ,  0.        , ..., -0.75875812,\n",
       "         1.        ,  0.        ]])"
      ]
     },
     "execution_count": 231,
     "metadata": {},
     "output_type": "execute_result"
    }
   ],
   "source": [
    "sel_ = SelectFromModel(RandomForestClassifier(n_estimators=100, random_state=10))\n",
    "sel_.fit(train, y_train)\n",
    "\n",
    "random_forest_X_train_set = sel_.transform(train)\n",
    "random_forest_X_valid_set = sel_.transform(valid)\n",
    "random_forest_X_test_set = sel_.transform(test)\n",
    "random_forest_X_train_set"
   ]
  },
  {
   "cell_type": "markdown",
   "metadata": {},
   "source": [
    "Lựa chọn đặc trưng bằng đệ quy"
   ]
  },
  {
   "cell_type": "code",
   "execution_count": 232,
   "metadata": {},
   "outputs": [],
   "source": [
    "# model = GradientBoostingClassifier(n_estimators=10, max_depth=2 ,random_state=10)\n",
    "# sel_ = RecursiveFeatureElimination(\n",
    "#     variables=None, \n",
    "#     estimator = model, \n",
    "#     scoring = 'roc_auc', # the metric we want to evalute\n",
    "#     threshold = 0.0005, # the maximum performance drop allowed to remove a feature\n",
    "#     cv=2, # cross-validation\n",
    "# )\n",
    "# sel_.fit(train, y_train)\n",
    "\n",
    "# recursive_ellimination_selected_X_train_set = sel_.transform(train)\n",
    "# recursive_ellimination_selected_X_valid_set = sel_.transform(valid)\n",
    "# recursive_ellimination_selected_X_test_set = sel_.transform(test)"
   ]
  },
  {
   "cell_type": "code",
   "execution_count": 233,
   "metadata": {},
   "outputs": [],
   "source": [
    "# model = GradientBoostingClassifier(n_estimators=10, max_depth=2 ,random_state=10)\n",
    "# sel_ = RecursiveFeatureAddition(\n",
    "#     variables=None,\n",
    "#     estimator=model,\n",
    "#     scoring='roc_auc',\n",
    "#     threshold=0.0005,\n",
    "#     cv=3,)\n",
    "# sel_.fit(train, y_train)\n",
    "\n",
    "# recursive_addition_selected_X_train_set = sel_.transform(train)\n",
    "# recursive_addition_selected_X_valid_set = sel_.transform(valid)\n",
    "# recursive_addition_selected_X_test_set = sel_.transform(test)"
   ]
  },
  {
   "cell_type": "markdown",
   "metadata": {},
   "source": [
    "#### Huấn luyện mô hình"
   ]
  },
  {
   "cell_type": "code",
   "execution_count": 234,
   "metadata": {},
   "outputs": [],
   "source": [
    "def print_analysis_result(model):\n",
    "    \n",
    "    print(\"Model: \", model)\n",
    "    \n",
    "    print()\n",
    "    print(\"All features:\")\n",
    "    print('='*40)\n",
    "    print(\"Train\")\n",
    "    model.fit(train, y_train)\n",
    "    print(\"F1 score:\", f1_score(y_train, model.predict(train), average='weighted'))\n",
    "    print(\"Validation\")\n",
    "    print(\"F1 score:\", f1_score(y_valid, model.predict(valid), average='weighted'))\n",
    "    \n",
    "    print()\n",
    "    print(\"Select features with Random Forest:\")\n",
    "    print('='*40)\n",
    "    print(\"Train\")\n",
    "    model.fit(random_forest_X_train_set, y_train)\n",
    "    print(\"F1 score:\", f1_score(y_train, model.predict(random_forest_X_train_set), average='weighted'))\n",
    "    print(\"Validation\")\n",
    "    print(\"F1 score:\", f1_score(y_valid, model.predict(random_forest_X_valid_set), average='weighted'))\n",
    "\n",
    "    # print()\n",
    "    # print(\"Select features with RecursiveFeatureElimination:\")\n",
    "    # print('='*40)\n",
    "    # print(\"Train\")\n",
    "    # model.fit(recursive_ellimination_selected_X_train_set, y_train)\n",
    "    # print(\"F1 score:\", f1_score(y_train, model.predict(recursive_ellimination_selected_X_train_set), average='weighted'))\n",
    "    # print(\"Validation\")\n",
    "    # print(\"F1 score:\", f1_score(y_valid, model.predict(recursive_ellimination_selected_X_valid_set), average='weighted'))\n",
    "    \n",
    "    # print()\n",
    "    # print(\"Select features with RecursiveFeatureAddition:\")\n",
    "    # print('='*40)\n",
    "    # print(\"Train\")\n",
    "    # model.fit(recursive_addition_selected_X_train_set, y_train)\n",
    "    # print(\"F1 score:\", f1_score(y_train, model.predict(recursive_addition_selected_X_train_set), average='weighted'))\n",
    "    # print(\"Validation\")\n",
    "    # print(\"F1 score:\", f1_score(y_valid, model.predict(recursive_addition_selected_X_valid_set), average='weighted'))\n",
    "    \n",
    "    print('='*40)"
   ]
  },
  {
   "cell_type": "markdown",
   "metadata": {},
   "source": [
    "Logistic Regression"
   ]
  },
  {
   "cell_type": "code",
   "execution_count": 235,
   "metadata": {},
   "outputs": [
    {
     "name": "stdout",
     "output_type": "stream",
     "text": [
      "Model:  LogisticRegression()\n",
      "\n",
      "All features:\n",
      "========================================\n",
      "Train\n",
      "F1 score: 0.8008148180561063\n",
      "Validation\n",
      "F1 score: 0.8009932063693237\n",
      "\n",
      "Select features with Random Forest:\n",
      "========================================\n",
      "Train\n",
      "F1 score: 0.8005195964385893\n",
      "Validation\n",
      "F1 score: 0.8017533857107199\n",
      "========================================\n"
     ]
    }
   ],
   "source": [
    "model = LogisticRegression()\n",
    "print_analysis_result(model)"
   ]
  },
  {
   "cell_type": "markdown",
   "metadata": {},
   "source": [
    "DecisionTreeClassifier"
   ]
  },
  {
   "cell_type": "code",
   "execution_count": 236,
   "metadata": {},
   "outputs": [
    {
     "name": "stdout",
     "output_type": "stream",
     "text": [
      "Model:  DecisionTreeClassifier()\n",
      "\n",
      "All features:\n",
      "========================================\n",
      "Train\n",
      "F1 score: 1.0\n",
      "Validation\n",
      "F1 score: 0.7721517751785996\n",
      "\n",
      "Select features with Random Forest:\n",
      "========================================\n",
      "Train\n",
      "F1 score: 0.999991405772352\n",
      "Validation\n",
      "F1 score: 0.7640958441010445\n",
      "========================================\n"
     ]
    }
   ],
   "source": [
    "model = tree.DecisionTreeClassifier()\n",
    "print_analysis_result(model)"
   ]
  },
  {
   "cell_type": "markdown",
   "metadata": {},
   "source": [
    "AdaBoostClassifier"
   ]
  },
  {
   "cell_type": "code",
   "execution_count": 237,
   "metadata": {},
   "outputs": [
    {
     "name": "stdout",
     "output_type": "stream",
     "text": [
      "Model:  AdaBoostClassifier()\n",
      "\n",
      "All features:\n",
      "========================================\n",
      "Train\n",
      "F1 score: 0.8075482070234644\n",
      "Validation\n",
      "F1 score: 0.8060829652773513\n",
      "\n",
      "Select features with Random Forest:\n",
      "========================================\n",
      "Train\n",
      "F1 score: 0.8038520500653998\n",
      "Validation\n",
      "F1 score: 0.8013647517422984\n",
      "========================================\n"
     ]
    }
   ],
   "source": [
    "model = AdaBoostClassifier()\n",
    "print_analysis_result(model)"
   ]
  },
  {
   "cell_type": "markdown",
   "metadata": {},
   "source": [
    "RandomForestClassifier"
   ]
  },
  {
   "cell_type": "code",
   "execution_count": 238,
   "metadata": {},
   "outputs": [
    {
     "name": "stdout",
     "output_type": "stream",
     "text": [
      "Model:  RandomForestClassifier(random_state=10)\n",
      "\n",
      "All features:\n",
      "========================================\n",
      "Train\n",
      "F1 score: 0.9999914065121894\n",
      "Validation\n",
      "F1 score: 0.8252951411167\n",
      "\n",
      "Select features with Random Forest:\n",
      "========================================\n",
      "Train\n",
      "F1 score: 0.9999398447472719\n",
      "Validation\n",
      "F1 score: 0.8256054509457553\n",
      "========================================\n"
     ]
    }
   ],
   "source": [
    "model = RandomForestClassifier(n_estimators=100, random_state=10)\n",
    "print_analysis_result(model)"
   ]
  },
  {
   "cell_type": "markdown",
   "metadata": {},
   "source": [
    "MPLClassifier"
   ]
  },
  {
   "cell_type": "code",
   "execution_count": 239,
   "metadata": {},
   "outputs": [
    {
     "name": "stdout",
     "output_type": "stream",
     "text": [
      "Model:  MLPClassifier(hidden_layer_sizes=(100, 50), max_iter=300)\n",
      "\n",
      "All features:\n",
      "========================================\n",
      "Train\n",
      "F1 score: 0.8237432757977362\n",
      "Validation\n",
      "F1 score: 0.8234453143469092\n",
      "\n",
      "Select features with Random Forest:\n",
      "========================================\n",
      "Train\n",
      "F1 score: 0.8117389210618332\n",
      "Validation\n",
      "F1 score: 0.8085027360496212\n",
      "========================================\n"
     ]
    }
   ],
   "source": [
    "model = model = MLPClassifier(hidden_layer_sizes=(100, 50, ), max_iter=300)\n",
    "print_analysis_result(model)"
   ]
  },
  {
   "cell_type": "markdown",
   "metadata": {},
   "source": [
    "#### Lựa chọn mô hình"
   ]
  },
  {
   "cell_type": "markdown",
   "metadata": {},
   "source": [
    "Qua phân tích cho thấy kết quả cao nhất trên model: , được áp dụng trên các features:\n",
    "\n",
    "- F1-score trên tập train: \n",
    "- F1-score trên tập validation: "
   ]
  },
  {
   "cell_type": "code",
   "execution_count": 240,
   "metadata": {},
   "outputs": [
    {
     "data": {
      "text/plain": [
       "RandomForestClassifier(max_depth=8, random_state=42)"
      ]
     },
     "execution_count": 240,
     "metadata": {},
     "output_type": "execute_result"
    }
   ],
   "source": [
    "model = RandomForestClassifier(n_estimators=100, max_features='auto', max_depth=8, criterion='gini', random_state=42)\n",
    "model.fit(train, y_train)"
   ]
  },
  {
   "cell_type": "code",
   "execution_count": 241,
   "metadata": {},
   "outputs": [
    {
     "data": {
      "text/plain": [
       "0.855458978931079"
      ]
     },
     "execution_count": 241,
     "metadata": {},
     "output_type": "execute_result"
    }
   ],
   "source": [
    "f1_score(model.predict(train), y_train, average='weighted')"
   ]
  },
  {
   "cell_type": "code",
   "execution_count": 242,
   "metadata": {},
   "outputs": [
    {
     "data": {
      "text/plain": [
       "0.8472725631526058"
      ]
     },
     "execution_count": 242,
     "metadata": {},
     "output_type": "execute_result"
    }
   ],
   "source": [
    "f1_score(model.predict(test), y_test, average='weighted')"
   ]
  },
  {
   "cell_type": "code",
   "execution_count": 243,
   "metadata": {},
   "outputs": [
    {
     "data": {
      "text/plain": [
       "0.8492096243635924"
      ]
     },
     "execution_count": 243,
     "metadata": {},
     "output_type": "execute_result"
    }
   ],
   "source": [
    "f1_score(model.predict(valid), y_valid, average='weighted')"
   ]
  },
  {
   "cell_type": "code",
   "execution_count": null,
   "metadata": {},
   "outputs": [],
   "source": []
  }
 ],
 "metadata": {
  "kernelspec": {
   "display_name": "Python 3.8.13",
   "language": "python",
   "name": "python3"
  },
  "language_info": {
   "codemirror_mode": {
    "name": "ipython",
    "version": 3
   },
   "file_extension": ".py",
   "mimetype": "text/x-python",
   "name": "python",
   "nbconvert_exporter": "python",
   "pygments_lexer": "ipython3",
   "version": "3.8.13"
  },
  "orig_nbformat": 4,
  "vscode": {
   "interpreter": {
    "hash": "7636056f1e4d8fdf67bea993a39219552fd16254f6bf1d4cfd5ce8af047e9af1"
   }
  }
 },
 "nbformat": 4,
 "nbformat_minor": 2
}
