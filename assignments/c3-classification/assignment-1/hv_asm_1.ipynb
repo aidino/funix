{
 "cells": [
  {
   "cell_type": "markdown",
   "metadata": {},
   "source": [
    "## 1. Import lib"
   ]
  },
  {
   "cell_type": "code",
   "execution_count": 15,
   "metadata": {},
   "outputs": [],
   "source": [
    "import numpy as np\n",
    "import pandas as pd\n",
    "import matplotlib.pyplot as plt\n",
    "import seaborn as sns\n",
    "import warnings\n",
    "\n",
    "warnings.filterwarnings('ignore')\n",
    "%matplotlib inline"
   ]
  },
  {
   "cell_type": "markdown",
   "metadata": {},
   "source": [
    "## 2. Load processed data\n",
    "(after **step 3** of **asm_1.ipynb**)"
   ]
  },
  {
   "cell_type": "code",
   "execution_count": 16,
   "metadata": {},
   "outputs": [],
   "source": [
    "X_train = pd.read_csv('train_processed.csv')\n",
    "X_test_processed = pd.read_csv('test_processed.csv')\n",
    "y_train = pd.read_csv('y_train.csv').values\n",
    "y_test = pd.read_csv('y_test.csv').values\n",
    "\n"
   ]
  },
  {
   "cell_type": "code",
   "execution_count": 17,
   "metadata": {},
   "outputs": [
    {
     "data": {
      "text/html": [
       "<div>\n",
       "<style scoped>\n",
       "    .dataframe tbody tr th:only-of-type {\n",
       "        vertical-align: middle;\n",
       "    }\n",
       "\n",
       "    .dataframe tbody tr th {\n",
       "        vertical-align: top;\n",
       "    }\n",
       "\n",
       "    .dataframe thead th {\n",
       "        text-align: right;\n",
       "    }\n",
       "</style>\n",
       "<table border=\"1\" class=\"dataframe\">\n",
       "  <thead>\n",
       "    <tr style=\"text-align: right;\">\n",
       "      <th></th>\n",
       "      <th>MinTemp</th>\n",
       "      <th>MaxTemp</th>\n",
       "      <th>Rainfall</th>\n",
       "      <th>Evaporation</th>\n",
       "      <th>Sunshine</th>\n",
       "      <th>WindGustSpeed</th>\n",
       "      <th>WindSpeed9am</th>\n",
       "      <th>WindSpeed3pm</th>\n",
       "      <th>Humidity9am</th>\n",
       "      <th>Humidity3pm</th>\n",
       "      <th>...</th>\n",
       "      <th>WindDir3pm_NNW</th>\n",
       "      <th>WindDir3pm_NW</th>\n",
       "      <th>WindDir3pm_S</th>\n",
       "      <th>WindDir3pm_SE</th>\n",
       "      <th>WindDir3pm_SSE</th>\n",
       "      <th>WindDir3pm_SSW</th>\n",
       "      <th>WindDir3pm_SW</th>\n",
       "      <th>WindDir3pm_W</th>\n",
       "      <th>WindDir3pm_WNW</th>\n",
       "      <th>WindDir3pm_WSW</th>\n",
       "    </tr>\n",
       "  </thead>\n",
       "  <tbody>\n",
       "    <tr>\n",
       "      <th>0</th>\n",
       "      <td>6</td>\n",
       "      <td>4</td>\n",
       "      <td>0</td>\n",
       "      <td>2</td>\n",
       "      <td>2</td>\n",
       "      <td>5</td>\n",
       "      <td>7</td>\n",
       "      <td>8</td>\n",
       "      <td>3</td>\n",
       "      <td>5</td>\n",
       "      <td>...</td>\n",
       "      <td>0</td>\n",
       "      <td>0</td>\n",
       "      <td>1</td>\n",
       "      <td>0</td>\n",
       "      <td>0</td>\n",
       "      <td>0</td>\n",
       "      <td>0</td>\n",
       "      <td>0</td>\n",
       "      <td>0</td>\n",
       "      <td>0</td>\n",
       "    </tr>\n",
       "    <tr>\n",
       "      <th>1</th>\n",
       "      <td>9</td>\n",
       "      <td>7</td>\n",
       "      <td>2</td>\n",
       "      <td>3</td>\n",
       "      <td>1</td>\n",
       "      <td>2</td>\n",
       "      <td>1</td>\n",
       "      <td>4</td>\n",
       "      <td>5</td>\n",
       "      <td>6</td>\n",
       "      <td>...</td>\n",
       "      <td>0</td>\n",
       "      <td>0</td>\n",
       "      <td>0</td>\n",
       "      <td>1</td>\n",
       "      <td>0</td>\n",
       "      <td>0</td>\n",
       "      <td>0</td>\n",
       "      <td>0</td>\n",
       "      <td>0</td>\n",
       "      <td>0</td>\n",
       "    </tr>\n",
       "  </tbody>\n",
       "</table>\n",
       "<p>2 rows × 115 columns</p>\n",
       "</div>"
      ],
      "text/plain": [
       "   MinTemp  MaxTemp  Rainfall  Evaporation  Sunshine  WindGustSpeed  \\\n",
       "0        6        4         0            2         2              5   \n",
       "1        9        7         2            3         1              2   \n",
       "\n",
       "   WindSpeed9am  WindSpeed3pm  Humidity9am  Humidity3pm  ...  WindDir3pm_NNW  \\\n",
       "0             7             8            3            5  ...               0   \n",
       "1             1             4            5            6  ...               0   \n",
       "\n",
       "   WindDir3pm_NW  WindDir3pm_S  WindDir3pm_SE  WindDir3pm_SSE  WindDir3pm_SSW  \\\n",
       "0              0             1              0               0               0   \n",
       "1              0             0              1               0               0   \n",
       "\n",
       "   WindDir3pm_SW  WindDir3pm_W  WindDir3pm_WNW  WindDir3pm_WSW  \n",
       "0              0             0               0               0  \n",
       "1              0             0               0               0  \n",
       "\n",
       "[2 rows x 115 columns]"
      ]
     },
     "execution_count": 17,
     "metadata": {},
     "output_type": "execute_result"
    }
   ],
   "source": [
    "train_processed.head(2)"
   ]
  },
  {
   "cell_type": "code",
   "execution_count": 18,
   "metadata": {},
   "outputs": [
    {
     "data": {
      "text/html": [
       "<div>\n",
       "<style scoped>\n",
       "    .dataframe tbody tr th:only-of-type {\n",
       "        vertical-align: middle;\n",
       "    }\n",
       "\n",
       "    .dataframe tbody tr th {\n",
       "        vertical-align: top;\n",
       "    }\n",
       "\n",
       "    .dataframe thead th {\n",
       "        text-align: right;\n",
       "    }\n",
       "</style>\n",
       "<table border=\"1\" class=\"dataframe\">\n",
       "  <thead>\n",
       "    <tr style=\"text-align: right;\">\n",
       "      <th></th>\n",
       "      <th>MinTemp</th>\n",
       "      <th>MaxTemp</th>\n",
       "      <th>Rainfall</th>\n",
       "      <th>Evaporation</th>\n",
       "      <th>Sunshine</th>\n",
       "      <th>WindGustSpeed</th>\n",
       "      <th>WindSpeed9am</th>\n",
       "      <th>WindSpeed3pm</th>\n",
       "      <th>Humidity9am</th>\n",
       "      <th>Humidity3pm</th>\n",
       "      <th>...</th>\n",
       "      <th>WindDir3pm_NNW</th>\n",
       "      <th>WindDir3pm_NW</th>\n",
       "      <th>WindDir3pm_S</th>\n",
       "      <th>WindDir3pm_SE</th>\n",
       "      <th>WindDir3pm_SSE</th>\n",
       "      <th>WindDir3pm_SSW</th>\n",
       "      <th>WindDir3pm_SW</th>\n",
       "      <th>WindDir3pm_W</th>\n",
       "      <th>WindDir3pm_WNW</th>\n",
       "      <th>WindDir3pm_WSW</th>\n",
       "    </tr>\n",
       "  </thead>\n",
       "  <tbody>\n",
       "    <tr>\n",
       "      <th>0</th>\n",
       "      <td>7</td>\n",
       "      <td>7</td>\n",
       "      <td>0</td>\n",
       "      <td>2</td>\n",
       "      <td>4</td>\n",
       "      <td>2</td>\n",
       "      <td>3</td>\n",
       "      <td>4</td>\n",
       "      <td>3</td>\n",
       "      <td>6</td>\n",
       "      <td>...</td>\n",
       "      <td>0</td>\n",
       "      <td>0</td>\n",
       "      <td>0</td>\n",
       "      <td>0</td>\n",
       "      <td>0</td>\n",
       "      <td>0</td>\n",
       "      <td>0</td>\n",
       "      <td>0</td>\n",
       "      <td>0</td>\n",
       "      <td>0</td>\n",
       "    </tr>\n",
       "    <tr>\n",
       "      <th>1</th>\n",
       "      <td>2</td>\n",
       "      <td>0</td>\n",
       "      <td>1</td>\n",
       "      <td>0</td>\n",
       "      <td>2</td>\n",
       "      <td>7</td>\n",
       "      <td>6</td>\n",
       "      <td>6</td>\n",
       "      <td>6</td>\n",
       "      <td>5</td>\n",
       "      <td>...</td>\n",
       "      <td>0</td>\n",
       "      <td>0</td>\n",
       "      <td>1</td>\n",
       "      <td>0</td>\n",
       "      <td>0</td>\n",
       "      <td>0</td>\n",
       "      <td>0</td>\n",
       "      <td>0</td>\n",
       "      <td>0</td>\n",
       "      <td>0</td>\n",
       "    </tr>\n",
       "  </tbody>\n",
       "</table>\n",
       "<p>2 rows × 115 columns</p>\n",
       "</div>"
      ],
      "text/plain": [
       "   MinTemp  MaxTemp  Rainfall  Evaporation  Sunshine  WindGustSpeed  \\\n",
       "0        7        7         0            2         4              2   \n",
       "1        2        0         1            0         2              7   \n",
       "\n",
       "   WindSpeed9am  WindSpeed3pm  Humidity9am  Humidity3pm  ...  WindDir3pm_NNW  \\\n",
       "0             3             4            3            6  ...               0   \n",
       "1             6             6            6            5  ...               0   \n",
       "\n",
       "   WindDir3pm_NW  WindDir3pm_S  WindDir3pm_SE  WindDir3pm_SSE  WindDir3pm_SSW  \\\n",
       "0              0             0              0               0               0   \n",
       "1              0             1              0               0               0   \n",
       "\n",
       "   WindDir3pm_SW  WindDir3pm_W  WindDir3pm_WNW  WindDir3pm_WSW  \n",
       "0              0             0               0               0  \n",
       "1              0             0               0               0  \n",
       "\n",
       "[2 rows x 115 columns]"
      ]
     },
     "execution_count": 18,
     "metadata": {},
     "output_type": "execute_result"
    }
   ],
   "source": [
    "test_processed.head(2)"
   ]
  },
  {
   "cell_type": "markdown",
   "metadata": {},
   "source": [
    "## 3. Features Selection"
   ]
  },
  {
   "cell_type": "markdown",
   "metadata": {},
   "source": [
    "### 3.1 Lựa chọn đặc trưng bằng Random Forest"
   ]
  },
  {
   "cell_type": "code",
   "execution_count": 19,
   "metadata": {},
   "outputs": [
    {
     "data": {
      "text/plain": [
       "GridSearchCV(cv=5, estimator=RandomForestClassifier(random_state=10),\n",
       "             param_grid={'n_estimators': [10, 20, 50, 100]},\n",
       "             scoring='accuracy')"
      ]
     },
     "execution_count": 19,
     "metadata": {},
     "output_type": "execute_result"
    }
   ],
   "source": [
    "from sklearn.ensemble import RandomForestClassifier\n",
    "from sklearn.feature_selection import SelectFromModel\n",
    "from sklearn.model_selection import GridSearchCV\n",
    "\n",
    "# Find best estimator of RandomForestClassifier first\n",
    "parameters = {'n_estimators': [10, 20, 50, 100]}\n",
    "randomForestModel = RandomForestClassifier(random_state=10)\n",
    "grid = GridSearchCV(randomForestModel, parameters, cv=5, scoring='accuracy')\n",
    "grid.fit(train_processed, y_train)"
   ]
  },
  {
   "cell_type": "code",
   "execution_count": 20,
   "metadata": {},
   "outputs": [
    {
     "data": {
      "text/plain": [
       "{'n_estimators': 100}"
      ]
     },
     "execution_count": 20,
     "metadata": {},
     "output_type": "execute_result"
    }
   ],
   "source": [
    "grid.best_params_"
   ]
  },
  {
   "cell_type": "code",
   "execution_count": 21,
   "metadata": {},
   "outputs": [
    {
     "data": {
      "text/plain": [
       "Index(['MinTemp', 'MaxTemp', 'Rainfall', 'Evaporation', 'Sunshine',\n",
       "       'WindGustSpeed', 'WindSpeed9am', 'WindSpeed3pm', 'Humidity9am',\n",
       "       'Humidity3pm', 'Pressure9am', 'Pressure3pm', 'Cloud9am', 'Cloud3pm',\n",
       "       'Temp9am', 'Temp3pm', 'RainToday_0', 'RainToday_1'],\n",
       "      dtype='object')"
      ]
     },
     "execution_count": 21,
     "metadata": {},
     "output_type": "execute_result"
    }
   ],
   "source": [
    "sel_ = SelectFromModel(RandomForestClassifier(n_estimators=100, random_state=10))\n",
    "sel_.fit(train_processed, y_train)\n",
    "selected_feat_random_forest = train_processed.columns[(sel_.get_support())]\n",
    "selected_feat_random_forest"
   ]
  },
  {
   "cell_type": "markdown",
   "metadata": {},
   "source": [
    "### 3.2 Lựa chọn đặc trưng bằng ROC-AUC"
   ]
  },
  {
   "cell_type": "code",
   "execution_count": 22,
   "metadata": {},
   "outputs": [
    {
     "data": {
      "text/plain": [
       "Index(['MinTemp', 'MaxTemp', 'Rainfall', 'Evaporation', 'Sunshine',\n",
       "       'WindGustSpeed', 'WindSpeed9am', 'WindSpeed3pm', 'Humidity9am',\n",
       "       'Humidity3pm', 'Pressure9am', 'Pressure3pm', 'Cloud9am', 'Cloud3pm',\n",
       "       'Temp9am', 'Temp3pm', 'RainToday_0', 'RainToday_1', 'WindGustDir_E',\n",
       "       'WindGustDir_ENE', 'WindGustDir_ESE', 'WindGustDir_N', 'WindGustDir_W',\n",
       "       'WindDir9am_E', 'WindDir9am_ESE', 'WindDir9am_N', 'WindDir9am_NNW',\n",
       "       'WindDir9am_NW', 'WindDir9am_SE'],\n",
       "      dtype='object')"
      ]
     },
     "execution_count": 22,
     "metadata": {},
     "output_type": "execute_result"
    }
   ],
   "source": [
    "from sklearn.tree import DecisionTreeClassifier\n",
    "from sklearn.metrics import roc_auc_score\n",
    "\n",
    "roc_values = []\n",
    "\n",
    "for feature in train_processed.columns:\n",
    "\n",
    "    # train a decision tree classifier\n",
    "    clf = DecisionTreeClassifier()\n",
    "    clf.fit(train_processed[feature].values.reshape(-1, 1), y_train)\n",
    "\n",
    "    # obtain the predictions\n",
    "    y_scored = clf.predict_proba(test_processed[feature].values.reshape(-1, 1))\n",
    "\n",
    "    # calculate and store the roc-auc\n",
    "    roc_values.append(roc_auc_score(y_test, y_scored[:, 1]))\n",
    "\n",
    "roc_values = pd.Series(roc_values)\n",
    "roc_values.index = train_processed.columns\n",
    "selected_feat_roc = roc_values[roc_values > 0.51].index\n",
    "selected_feat_roc"
   ]
  },
  {
   "cell_type": "markdown",
   "metadata": {},
   "source": [
    "### 3.3 Lựa chọn đặc trưng bằng đệ quy"
   ]
  },
  {
   "cell_type": "markdown",
   "metadata": {},
   "source": [
    "#### Loại bỏ đặc trưng bằng đệ quy"
   ]
  },
  {
   "cell_type": "code",
   "execution_count": 23,
   "metadata": {},
   "outputs": [],
   "source": [
    "# from feature_engine.selection import RecursiveFeatureElimination\n",
    "\n",
    "# model = RandomForestClassifier(n_estimators=100, random_state=10)\n",
    "# sel_ = RecursiveFeatureElimination(\n",
    "#     variables=None, \n",
    "#     estimator = model, \n",
    "#     scoring = 'roc_auc', # the metric we want to evalute\n",
    "#     threshold = 0.001, # the maximum performance drop allowed to remove a feature\n",
    "#     cv=3, # cross-validation\n",
    "# )\n",
    "# sel_.fit(train_processed, y_train)\n",
    "\n",
    "# train_recursive_ellimination_selected = sel_.transform(train_processed)\n",
    "# test_recursive_ellimination_selected = sel_.transform(test_processed)\n"
   ]
  },
  {
   "cell_type": "markdown",
   "metadata": {},
   "source": [
    "#### Thêm đặc trưng bằng đệ quy"
   ]
  },
  {
   "cell_type": "code",
   "execution_count": 24,
   "metadata": {},
   "outputs": [],
   "source": [
    "# from feature_engine.selection import RecursiveFeatureAddition\n",
    "\n",
    "# model =  RandomForestClassifier(n_estimators=100, random_state=10)\n",
    "# sel_ = RecursiveFeatureAddition(\n",
    "#     variables=None,\n",
    "#     estimator=model,\n",
    "#     scoring='roc_auc',\n",
    "#     threshold=0.001,\n",
    "#     cv=3,)\n",
    "# sel_.fit(train_processed, y_train)\n",
    "# train_recursive_addition_selected = sel_.transform(train_processed)\n",
    "# test_recursive_addition_selected = sel_.transform(test_processed)\n"
   ]
  },
  {
   "cell_type": "markdown",
   "metadata": {},
   "source": [
    "## 4. Huấn luyện mô hình"
   ]
  },
  {
   "cell_type": "code",
   "execution_count": 26,
   "metadata": {},
   "outputs": [],
   "source": [
    "from sklearn.metrics import f1_score\n",
    "from sklearn import tree\n",
    "from sklearn.linear_model import LogisticRegression\n",
    "from sklearn.svm import SVC\n",
    "from sklearn.ensemble import RandomForestClassifier, AdaBoostClassifier\n",
    "from sklearn.neural_network import MLPClassifier\n",
    "from sklearn.model_selection import train_test_split\n",
    "# Split test set to test set and validation set\n",
    "x_valid, x_test, y_valid, y_test = train_test_split(test_processed, y_test, test_size=0.5, random_state=0)"
   ]
  },
  {
   "cell_type": "code",
   "execution_count": 27,
   "metadata": {},
   "outputs": [],
   "source": [
    "def evaluate_model(model, x_train, y_train, x_test, y_test):\n",
    "    model.fit(x_train, y_train)\n",
    "    print('='*40)\n",
    "\n",
    "    print('Train:')\n",
    "    y_pred = model.predict(x_train)\n",
    "    print('F1 score:', f1_score(y_train, y_pred))\n",
    "    print('Validation:')\n",
    "    y_pred = model.predict(x_test)\n",
    "    print('F1 score:', f1_score(y_test, y_pred))\n",
    "\n",
    "    print('='*40)\n",
    "    \n"
   ]
  },
  {
   "cell_type": "markdown",
   "metadata": {},
   "source": [
    "#### LogisticRegression"
   ]
  },
  {
   "cell_type": "code",
   "execution_count": 28,
   "metadata": {},
   "outputs": [
    {
     "name": "stdout",
     "output_type": "stream",
     "text": [
      "All features:\n",
      "========================================\n",
      "Train:\n",
      "F1 score: 0.5878566337908361\n",
      "Validation:\n",
      "F1 score: 0.5898617511520738\n",
      "========================================\n",
      "Select features by ROC-AUC:\n",
      "========================================\n",
      "Train:\n",
      "F1 score: 0.5711450593067798\n",
      "Validation:\n",
      "F1 score: 0.576980014803849\n",
      "========================================\n",
      "Select features by RandomForest:\n",
      "========================================\n",
      "Train:\n",
      "F1 score: 0.5710985863438973\n",
      "Validation:\n",
      "F1 score: 0.5747041420118343\n",
      "========================================\n",
      "Recursive feature elimination:\n",
      "Recursive feature addition:\n"
     ]
    }
   ],
   "source": [
    "model = LogisticRegression()\n",
    "print('All features:')\n",
    "evaluate_model(model, train_processed, y_train, x_valid, y_valid)\n",
    "print('Select features by ROC-AUC:')\n",
    "evaluate_model(model, train_processed[selected_feat_roc], y_train, x_valid[selected_feat_roc], y_valid)\n",
    "print('Select features by RandomForest:')\n",
    "evaluate_model(model, train_processed[selected_feat_random_forest], y_train, x_valid[selected_feat_random_forest], y_valid)\n",
    "\n",
    "print('Recursive feature elimination:')\n",
    "print('Recursive feature addition:')\n"
   ]
  },
  {
   "cell_type": "markdown",
   "metadata": {},
   "source": [
    "#### DecisionTreeClassifier"
   ]
  },
  {
   "cell_type": "code",
   "execution_count": 29,
   "metadata": {},
   "outputs": [
    {
     "name": "stdout",
     "output_type": "stream",
     "text": [
      "All features:\n",
      "========================================\n",
      "Train:\n",
      "F1 score: 0.9993330456275255\n",
      "Validation:\n",
      "F1 score: 0.5300187617260788\n",
      "========================================\n",
      "Select features by ROC-AUC:\n",
      "========================================\n",
      "Train:\n",
      "F1 score: 0.9988226059654631\n",
      "Validation:\n",
      "F1 score: 0.5203376822716806\n",
      "========================================\n",
      "Select features by RandomForest:\n",
      "========================================\n",
      "Train:\n",
      "F1 score: 0.9977422204770787\n",
      "Validation:\n",
      "F1 score: 0.5240576156910819\n",
      "========================================\n"
     ]
    }
   ],
   "source": [
    "model = tree.DecisionTreeClassifier()\n",
    "print('All features:')\n",
    "evaluate_model(model, train_processed, y_train, x_valid, y_valid)\n",
    "print('Select features by ROC-AUC:')\n",
    "evaluate_model(model, train_processed[selected_feat_roc], y_train, x_valid[selected_feat_roc], y_valid)\n",
    "print('Select features by RandomForest:')\n",
    "evaluate_model(model, train_processed[selected_feat_random_forest], y_train, x_valid[selected_feat_random_forest], y_valid)\n"
   ]
  },
  {
   "cell_type": "markdown",
   "metadata": {},
   "source": [
    "#### AdaBoostClassifier"
   ]
  },
  {
   "cell_type": "code",
   "execution_count": 30,
   "metadata": {},
   "outputs": [
    {
     "name": "stdout",
     "output_type": "stream",
     "text": [
      "All features:\n",
      "========================================\n",
      "Train:\n",
      "F1 score: 0.5785158421345191\n",
      "Validation:\n",
      "F1 score: 0.5881914695474018\n",
      "========================================\n",
      "Select features by ROC-AUC:\n",
      "========================================\n",
      "Train:\n",
      "F1 score: 0.5802828618968386\n",
      "Validation:\n",
      "F1 score: 0.5849934835226215\n",
      "========================================\n",
      "Select features by RandomForest:\n",
      "========================================\n",
      "Train:\n",
      "F1 score: 0.5800356588788294\n",
      "Validation:\n",
      "F1 score: 0.5821508588498879\n",
      "========================================\n"
     ]
    }
   ],
   "source": [
    "model = AdaBoostClassifier()\n",
    "print('All features:')\n",
    "evaluate_model(model, train_processed, y_train, x_valid, y_valid)\n",
    "print('Select features by ROC-AUC:')\n",
    "evaluate_model(model, train_processed[selected_feat_roc], y_train, x_valid[selected_feat_roc], y_valid)\n",
    "print('Select features by RandomForest:')\n",
    "evaluate_model(model, train_processed[selected_feat_random_forest], y_train, x_valid[selected_feat_random_forest], y_valid)\n"
   ]
  },
  {
   "cell_type": "markdown",
   "metadata": {},
   "source": [
    "#### RandomForestClassifier"
   ]
  },
  {
   "cell_type": "code",
   "execution_count": 31,
   "metadata": {},
   "outputs": [
    {
     "name": "stdout",
     "output_type": "stream",
     "text": [
      "All features:\n",
      "========================================\n",
      "Train:\n",
      "F1 score: 0.999313496655748\n",
      "Validation:\n",
      "F1 score: 0.6086956521739131\n",
      "========================================\n",
      "Select features by ROC-AUC:\n",
      "========================================\n",
      "Train:\n",
      "F1 score: 0.998803616608155\n",
      "Validation:\n",
      "F1 score: 0.6084008287813147\n",
      "========================================\n",
      "Select features by RandomForest:\n",
      "========================================\n",
      "Train:\n",
      "F1 score: 0.9977047572339381\n",
      "Validation:\n",
      "F1 score: 0.608419083255379\n",
      "========================================\n"
     ]
    }
   ],
   "source": [
    "model = RandomForestClassifier(n_estimators=100, random_state=10)\n",
    "print('All features:')\n",
    "evaluate_model(model, train_processed, y_train, x_valid, y_valid)\n",
    "print('Select features by ROC-AUC:')\n",
    "evaluate_model(model, train_processed[selected_feat_roc], y_train, x_valid[selected_feat_roc], y_valid)\n",
    "print('Select features by RandomForest:')\n",
    "evaluate_model(model, train_processed[selected_feat_random_forest], y_train, x_valid[selected_feat_random_forest], y_valid)\n"
   ]
  },
  {
   "cell_type": "markdown",
   "metadata": {},
   "source": [
    "#### MLPClassifier"
   ]
  },
  {
   "cell_type": "code",
   "execution_count": 32,
   "metadata": {},
   "outputs": [
    {
     "name": "stdout",
     "output_type": "stream",
     "text": [
      "All features:\n",
      "========================================\n",
      "Train:\n",
      "F1 score: 0.8577772345799723\n",
      "Validation:\n",
      "F1 score: 0.5858585858585859\n",
      "========================================\n",
      "Select features by ROC-AUC:\n",
      "========================================\n",
      "Train:\n",
      "F1 score: 0.6973326802333348\n",
      "Validation:\n",
      "F1 score: 0.5885928839620955\n",
      "========================================\n",
      "Select features by RandomForest:\n",
      "========================================\n",
      "Train:\n",
      "F1 score: 0.6686093792355652\n",
      "Validation:\n",
      "F1 score: 0.5943600867678959\n",
      "========================================\n"
     ]
    }
   ],
   "source": [
    "model = model = MLPClassifier(hidden_layer_sizes=(100, 50, ), max_iter=300)\n",
    "print('All features:')\n",
    "evaluate_model(model, train_processed, y_train, x_valid, y_valid)\n",
    "print('Select features by ROC-AUC:')\n",
    "evaluate_model(model, train_processed[selected_feat_roc], y_train, x_valid[selected_feat_roc], y_valid)\n",
    "print('Select features by RandomForest:')\n",
    "evaluate_model(model, train_processed[selected_feat_random_forest], y_train, x_valid[selected_feat_random_forest], y_valid)"
   ]
  }
 ],
 "metadata": {
  "kernelspec": {
   "display_name": "Python 3.7.13 ('base')",
   "language": "python",
   "name": "python3"
  },
  "language_info": {
   "codemirror_mode": {
    "name": "ipython",
    "version": 3
   },
   "file_extension": ".py",
   "mimetype": "text/x-python",
   "name": "python",
   "nbconvert_exporter": "python",
   "pygments_lexer": "ipython3",
   "version": "3.7.13"
  },
  "orig_nbformat": 4,
  "vscode": {
   "interpreter": {
    "hash": "c922f6e6419787d491495b8843edb68cd95f680a8b11a4d080a9acd5e0a4e6c8"
   }
  }
 },
 "nbformat": 4,
 "nbformat_minor": 2
}
