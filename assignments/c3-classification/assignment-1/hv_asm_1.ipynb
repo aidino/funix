{
 "cells": [
  {
   "cell_type": "markdown",
   "metadata": {},
   "source": [
    "## 1. Import lib"
   ]
  },
  {
   "cell_type": "code",
   "execution_count": 2,
   "metadata": {},
   "outputs": [],
   "source": [
    "import numpy as np\n",
    "import pandas as pd\n",
    "import matplotlib.pyplot as plt\n",
    "import seaborn as sns\n",
    "import warnings\n",
    "\n",
    "warnings.filterwarnings('ignore')\n",
    "%matplotlib inline"
   ]
  },
  {
   "cell_type": "markdown",
   "metadata": {},
   "source": [
    "## 2. Load processed data\n",
    "(after **step 3** of **asm_1.ipynb**)"
   ]
  },
  {
   "cell_type": "code",
   "execution_count": 3,
   "metadata": {},
   "outputs": [],
   "source": [
    "from sklearn.model_selection import train_test_split\n",
    "\n",
    "X_train = pd.read_csv('train_processed.csv')\n",
    "y_train = pd.read_csv('y_train.csv').values\n",
    "\n",
    "X_test_processed = pd.read_csv('test_processed.csv')\n",
    "y_test_processed = pd.read_csv('y_test.csv').values\n",
    "\n",
    "X_test, X_valid, y_test, y_valid = train_test_split(X_test_processed, y_test_processed, test_size=0.5, random_state=0)\n",
    "\n"
   ]
  },
  {
   "cell_type": "markdown",
   "metadata": {},
   "source": [
    "## 3. Features Selection"
   ]
  },
  {
   "cell_type": "markdown",
   "metadata": {},
   "source": [
    "### 3.1 Lựa chọn đặc trưng bằng Random Forest"
   ]
  },
  {
   "cell_type": "code",
   "execution_count": 4,
   "metadata": {},
   "outputs": [
    {
     "data": {
      "text/plain": [
       "GridSearchCV(cv=5, estimator=RandomForestClassifier(random_state=10),\n",
       "             param_grid={'n_estimators': [10, 20, 50, 100]})"
      ]
     },
     "execution_count": 4,
     "metadata": {},
     "output_type": "execute_result"
    }
   ],
   "source": [
    "from sklearn.ensemble import RandomForestClassifier\n",
    "from sklearn.feature_selection import SelectFromModel\n",
    "from sklearn.model_selection import GridSearchCV\n",
    "\n",
    "# Find best estimator of RandomForestClassifier first\n",
    "parameters = {'n_estimators': [10, 20, 50, 100]}\n",
    "randomForestModel = RandomForestClassifier(random_state=10)\n",
    "grid = GridSearchCV(randomForestModel, parameters, cv=5)\n",
    "grid.fit(X_train, y_train)"
   ]
  },
  {
   "cell_type": "code",
   "execution_count": 5,
   "metadata": {},
   "outputs": [
    {
     "data": {
      "text/plain": [
       "{'n_estimators': 100}"
      ]
     },
     "execution_count": 5,
     "metadata": {},
     "output_type": "execute_result"
    }
   ],
   "source": [
    "grid.best_params_"
   ]
  },
  {
   "cell_type": "code",
   "execution_count": 6,
   "metadata": {},
   "outputs": [],
   "source": [
    "sel_ = SelectFromModel(RandomForestClassifier(n_estimators=100, random_state=10))\n",
    "sel_.fit(X_train, y_train)\n",
    "\n",
    "random_forest_X_train_set = sel_.transform(X_train)\n",
    "random_forest_X_valid_set = sel_.transform(X_valid)\n",
    "random_forest_X_test_set = sel_.transform(X_test)"
   ]
  },
  {
   "cell_type": "markdown",
   "metadata": {},
   "source": [
    "### 3.2 Lựa chọn đặc trưng bằng ROC-AUC"
   ]
  },
  {
   "cell_type": "code",
   "execution_count": 7,
   "metadata": {},
   "outputs": [],
   "source": [
    "from sklearn.tree import DecisionTreeClassifier\n",
    "from sklearn.metrics import roc_auc_score\n",
    "\n",
    "roc_values = []\n",
    "\n",
    "for feature in X_train.columns:\n",
    "\n",
    "    # train a decision tree classifier\n",
    "    clf = DecisionTreeClassifier()\n",
    "    clf.fit(X_train[feature].values.reshape(-1, 1), y_train)\n",
    "\n",
    "    # obtain the predictions\n",
    "    y_scored = clf.predict_proba(X_valid[feature].values.reshape(-1, 1))\n",
    "\n",
    "    # calculate and store the roc-auc\n",
    "    roc_values.append(roc_auc_score(y_valid, y_scored[:, 1]))\n",
    "\n",
    "roc_values = pd.Series(roc_values)\n",
    "roc_values.index = X_train.columns\n",
    "selected_feat_roc = roc_values[roc_values > 0.51].index\n",
    "selected_feat_roc\n",
    "\n",
    "roc_X_train_set = X_train[selected_feat_roc]\n",
    "roc_X_valid_set = X_valid[selected_feat_roc]\n",
    "roc_X_test_set = X_test[selected_feat_roc]"
   ]
  },
  {
   "cell_type": "markdown",
   "metadata": {},
   "source": [
    "### 3.3 Lựa chọn đặc trưng bằng đệ quy"
   ]
  },
  {
   "cell_type": "markdown",
   "metadata": {},
   "source": [
    "#### Loại bỏ đặc trưng bằng đệ quy"
   ]
  },
  {
   "cell_type": "code",
   "execution_count": 9,
   "metadata": {},
   "outputs": [],
   "source": [
    "from feature_engine.selection import RecursiveFeatureElimination\n",
    "from sklearn.ensemble import GradientBoostingClassifier\n",
    "\n",
    "model = GradientBoostingClassifier(n_estimators=10, max_depth=2 ,random_state=10)\n",
    "sel_ = RecursiveFeatureElimination(\n",
    "    variables=None, \n",
    "    estimator = model, \n",
    "    scoring = 'roc_auc', # the metric we want to evalute\n",
    "    threshold = 0.0005, # the maximum performance drop allowed to remove a feature\n",
    "    cv=2, # cross-validation\n",
    ")\n",
    "sel_.fit(X_train, y_train)\n",
    "\n",
    "recursive_ellimination_selected_X_train_set = sel_.transform(X_train)\n",
    "recursive_ellimination_selected_X_valid_set = sel_.transform(X_valid)\n",
    "recursive_ellimination_selected_X_test_set = sel_.transform(X_test)\n"
   ]
  },
  {
   "cell_type": "markdown",
   "metadata": {},
   "source": [
    "#### Thêm đặc trưng bằng đệ quy"
   ]
  },
  {
   "cell_type": "code",
   "execution_count": 10,
   "metadata": {},
   "outputs": [],
   "source": [
    "from feature_engine.selection import RecursiveFeatureAddition\n",
    "\n",
    "model = GradientBoostingClassifier(n_estimators=10, max_depth=2 ,random_state=10)\n",
    "sel_ = RecursiveFeatureAddition(\n",
    "    variables=None,\n",
    "    estimator=model,\n",
    "    scoring='roc_auc',\n",
    "    threshold=0.0005,\n",
    "    cv=3,)\n",
    "sel_.fit(X_train, y_train)\n",
    "\n",
    "recursive_addition_selected_X_train_set = sel_.transform(X_train)\n",
    "recursive_addition_selected_X_valid_set = sel_.transform(X_valid)\n",
    "recursive_addition_selected_X_test_set = sel_.transform(X_test)"
   ]
  },
  {
   "cell_type": "markdown",
   "metadata": {},
   "source": [
    "## 4. Huấn luyện mô hình"
   ]
  },
  {
   "cell_type": "code",
   "execution_count": 12,
   "metadata": {},
   "outputs": [],
   "source": [
    "from sklearn.metrics import f1_score\n",
    "from sklearn import tree\n",
    "from sklearn.linear_model import LogisticRegression\n",
    "from sklearn.svm import SVC\n",
    "from sklearn.ensemble import RandomForestClassifier, AdaBoostClassifier\n",
    "from sklearn.neural_network import MLPClassifier"
   ]
  },
  {
   "cell_type": "code",
   "execution_count": 21,
   "metadata": {},
   "outputs": [],
   "source": [
    "def print_analysis_result(model):\n",
    "    \n",
    "    print(\"Model: \", model)\n",
    "    \n",
    "    print()\n",
    "    print(\"All features:\")\n",
    "    print('='*40)\n",
    "    print(\"Train\")\n",
    "    model.fit(X_train, y_train)\n",
    "    print(\"F1 score:\", f1_score(y_train, model.predict(X_train)))\n",
    "    print(\"Validation\")\n",
    "    print(\"F1 score:\", f1_score(y_valid, model.predict(X_valid)))\n",
    "    \n",
    "    print()\n",
    "    print(\"Select features with Random Forest:\")\n",
    "    print('='*40)\n",
    "    print(\"Train\")\n",
    "    model.fit(random_forest_X_train_set, y_train)\n",
    "    print(\"F1 score:\", f1_score(y_train, model.predict(random_forest_X_train_set)))\n",
    "    print(\"Validation\")\n",
    "    print(\"F1 score:\", f1_score(y_valid, model.predict(random_forest_X_valid_set)))\n",
    "\n",
    "    print()\n",
    "    print(\"Select features with ROC-AUC:\")\n",
    "    print('='*40)\n",
    "    print(\"Train\")\n",
    "    model.fit(roc_X_train_set, y_train)\n",
    "    print(\"F1 score:\", f1_score(y_train, model.predict(roc_X_train_set)))\n",
    "    print(\"Validation\")\n",
    "    print(\"F1 score:\", f1_score(y_valid, model.predict(roc_X_valid_set)))\n",
    "    \n",
    "    print()\n",
    "    print(\"Select features with RecursiveFeatureElimination:\")\n",
    "    print('='*40)\n",
    "    print(\"Train\")\n",
    "    model.fit(recursive_ellimination_selected_X_train_set, y_train)\n",
    "    print(\"F1 score:\", f1_score(y_train, model.predict(recursive_ellimination_selected_X_train_set)))\n",
    "    print(\"Validation\")\n",
    "    print(\"F1 score:\", f1_score(y_valid, model.predict(recursive_ellimination_selected_X_valid_set)))\n",
    "    \n",
    "    print()\n",
    "    print(\"Select features with RecursiveFeatureAddition:\")\n",
    "    print('='*40)\n",
    "    print(\"Train\")\n",
    "    model.fit(recursive_addition_selected_X_train_set, y_train)\n",
    "    print(\"F1 score:\", f1_score(y_train, model.predict(recursive_addition_selected_X_train_set)))\n",
    "    print(\"Validation\")\n",
    "    print(\"F1 score:\", f1_score(y_valid, model.predict(recursive_addition_selected_X_valid_set)))\n",
    "    \n",
    "    print('='*40)\n",
    "    "
   ]
  },
  {
   "cell_type": "markdown",
   "metadata": {},
   "source": [
    "#### LogisticRegression"
   ]
  },
  {
   "cell_type": "code",
   "execution_count": 22,
   "metadata": {},
   "outputs": [
    {
     "name": "stdout",
     "output_type": "stream",
     "text": [
      "Model:  LogisticRegression()\n",
      "\n",
      "All features:\n",
      "========================================\n",
      "Train\n",
      "F1 score: 0.5878566337908361\n",
      "Validation\n",
      "F1 score: 0.5989792198323004\n",
      "\n",
      "Select features with Random Forest:\n",
      "========================================\n",
      "Train\n",
      "F1 score: 0.5710985863438973\n",
      "Validation\n",
      "F1 score: 0.5872262773722629\n",
      "\n",
      "Select features with ROC-AUC:\n",
      "========================================\n",
      "Train\n",
      "F1 score: 0.5722067071341197\n",
      "Validation\n",
      "F1 score: 0.5885141294439381\n",
      "\n",
      "Select features with RecursiveFeatureElimination:\n",
      "========================================\n",
      "Train\n",
      "F1 score: 0.5604469480956025\n",
      "Validation\n",
      "F1 score: 0.5777206826940723\n",
      "\n",
      "Select features with RecursiveFeatureAddition:\n",
      "========================================\n",
      "Train\n",
      "F1 score: 0.5582065280520385\n",
      "Validation\n",
      "F1 score: 0.5746914717259163\n",
      "========================================\n"
     ]
    }
   ],
   "source": [
    "model = LogisticRegression()\n",
    "print_analysis_result(model)\n"
   ]
  },
  {
   "cell_type": "markdown",
   "metadata": {},
   "source": [
    "#### DecisionTreeClassifier"
   ]
  },
  {
   "cell_type": "code",
   "execution_count": 23,
   "metadata": {},
   "outputs": [
    {
     "name": "stdout",
     "output_type": "stream",
     "text": [
      "Model:  DecisionTreeClassifier()\n",
      "\n",
      "All features:\n",
      "========================================\n",
      "Train\n",
      "F1 score: 0.9993330456275255\n",
      "Validation\n",
      "F1 score: 0.5468750000000001\n",
      "\n",
      "Select features with Random Forest:\n",
      "========================================\n",
      "Train\n",
      "F1 score: 0.9977422204770787\n",
      "Validation\n",
      "F1 score: 0.5148994100741188\n",
      "\n",
      "Select features with ROC-AUC:\n",
      "========================================\n",
      "Train\n",
      "F1 score: 0.9989600298255598\n",
      "Validation\n",
      "F1 score: 0.5205437605009929\n",
      "\n",
      "Select features with RecursiveFeatureElimination:\n",
      "========================================\n",
      "Train\n",
      "F1 score: 0.6916912117268306\n",
      "Validation\n",
      "F1 score: 0.5371753824261828\n",
      "\n",
      "Select features with RecursiveFeatureAddition:\n",
      "========================================\n",
      "Train\n",
      "F1 score: 0.6225577883610176\n",
      "Validation\n",
      "F1 score: 0.5639897323065641\n",
      "========================================\n"
     ]
    }
   ],
   "source": [
    "model = tree.DecisionTreeClassifier()\n",
    "print_analysis_result(model)"
   ]
  },
  {
   "cell_type": "markdown",
   "metadata": {},
   "source": [
    "#### AdaBoostClassifier"
   ]
  },
  {
   "cell_type": "code",
   "execution_count": 24,
   "metadata": {},
   "outputs": [
    {
     "name": "stdout",
     "output_type": "stream",
     "text": [
      "Model:  AdaBoostClassifier()\n",
      "\n",
      "All features:\n",
      "========================================\n",
      "Train\n",
      "F1 score: 0.5785158421345191\n",
      "Validation\n",
      "F1 score: 0.5971966064182958\n",
      "\n",
      "Select features with Random Forest:\n",
      "========================================\n",
      "Train\n",
      "F1 score: 0.5800356588788294\n",
      "Validation\n",
      "F1 score: 0.5918854415274463\n",
      "\n",
      "Select features with ROC-AUC:\n",
      "========================================\n",
      "Train\n",
      "F1 score: 0.5804430933628114\n",
      "Validation\n",
      "F1 score: 0.594911220940875\n",
      "\n",
      "Select features with RecursiveFeatureElimination:\n",
      "========================================\n",
      "Train\n",
      "F1 score: 0.5723081196185539\n",
      "Validation\n",
      "F1 score: 0.5860036832412523\n",
      "\n",
      "Select features with RecursiveFeatureAddition:\n",
      "========================================\n",
      "Train\n",
      "F1 score: 0.5716477233107873\n",
      "Validation\n",
      "F1 score: 0.5855275271589027\n",
      "========================================\n"
     ]
    }
   ],
   "source": [
    "model = AdaBoostClassifier()\n",
    "print_analysis_result(model)"
   ]
  },
  {
   "cell_type": "markdown",
   "metadata": {},
   "source": [
    "#### RandomForestClassifier"
   ]
  },
  {
   "cell_type": "code",
   "execution_count": 25,
   "metadata": {},
   "outputs": [
    {
     "name": "stdout",
     "output_type": "stream",
     "text": [
      "Model:  RandomForestClassifier(random_state=10)\n",
      "\n",
      "All features:\n",
      "========================================\n",
      "Train\n",
      "F1 score: 0.999313496655748\n",
      "Validation\n",
      "F1 score: 0.6065200909780136\n",
      "\n",
      "Select features with Random Forest:\n",
      "========================================\n",
      "Train\n",
      "F1 score: 0.9977047572339381\n",
      "Validation\n",
      "F1 score: 0.6009723261032163\n",
      "\n",
      "Select features with ROC-AUC:\n",
      "========================================\n",
      "Train\n",
      "F1 score: 0.9989605193480692\n",
      "Validation\n",
      "F1 score: 0.5976577257272384\n",
      "\n",
      "Select features with RecursiveFeatureElimination:\n",
      "========================================\n",
      "Train\n",
      "F1 score: 0.7055745710610651\n",
      "Validation\n",
      "F1 score: 0.5617348723329835\n",
      "\n",
      "Select features with RecursiveFeatureAddition:\n",
      "========================================\n",
      "Train\n",
      "F1 score: 0.6339408411993962\n",
      "Validation\n",
      "F1 score: 0.5766215253029223\n",
      "========================================\n"
     ]
    }
   ],
   "source": [
    "model = RandomForestClassifier(n_estimators=100, random_state=10)\n",
    "print_analysis_result(model)"
   ]
  },
  {
   "cell_type": "markdown",
   "metadata": {},
   "source": [
    "#### MLPClassifier"
   ]
  },
  {
   "cell_type": "code",
   "execution_count": 26,
   "metadata": {},
   "outputs": [
    {
     "name": "stdout",
     "output_type": "stream",
     "text": [
      "Model:  MLPClassifier(hidden_layer_sizes=(100, 50), max_iter=300)\n",
      "\n",
      "All features:\n",
      "========================================\n",
      "Train\n",
      "F1 score: 0.8547236190892648\n",
      "Validation\n",
      "F1 score: 0.5978736710444028\n",
      "\n",
      "Select features with Random Forest:\n",
      "========================================\n",
      "Train\n",
      "F1 score: 0.6875748246964255\n",
      "Validation\n",
      "F1 score: 0.6059888343765861\n",
      "\n",
      "Select features with ROC-AUC:\n",
      "========================================\n",
      "Train\n",
      "F1 score: 0.6937045728998155\n",
      "Validation\n",
      "F1 score: 0.5764492753623189\n",
      "\n",
      "Select features with RecursiveFeatureElimination:\n",
      "========================================\n",
      "Train\n",
      "F1 score: 0.5781929990539262\n",
      "Validation\n",
      "F1 score: 0.5851003940701821\n",
      "\n",
      "Select features with RecursiveFeatureAddition:\n",
      "========================================\n",
      "Train\n",
      "F1 score: 0.5512639229986852\n",
      "Validation\n",
      "F1 score: 0.555511811023622\n",
      "========================================\n"
     ]
    }
   ],
   "source": [
    "model = model = MLPClassifier(hidden_layer_sizes=(100, 50, ), max_iter=300)\n",
    "print_analysis_result(model)"
   ]
  },
  {
   "cell_type": "markdown",
   "metadata": {},
   "source": [
    "Qua phân tích cho thấy kết quả trên model **RandomForestClassifier** huấn luyện trên tất cả features cho kết quả tốt nhất"
   ]
  },
  {
   "cell_type": "markdown",
   "metadata": {},
   "source": [
    "## 5. Tối ưu hoá mô hình "
   ]
  },
  {
   "cell_type": "code",
   "execution_count": 27,
   "metadata": {},
   "outputs": [
    {
     "data": {
      "text/plain": [
       "GridSearchCV(cv=5, estimator=RandomForestClassifier(random_state=42),\n",
       "             param_grid={'criterion': ['gini', 'entropy'],\n",
       "                         'max_depth': [4, 5, 6, 7, 8],\n",
       "                         'max_features': ['auto', 'sqrt', 'log2'],\n",
       "                         'n_estimators': [50, 100, 200, 500]})"
      ]
     },
     "execution_count": 27,
     "metadata": {},
     "output_type": "execute_result"
    }
   ],
   "source": [
    "model=RandomForestClassifier(random_state=42)\n",
    "param_grid = { \n",
    "    'n_estimators': [50, 100, 200, 500],\n",
    "    'max_features': ['auto', 'sqrt', 'log2'],\n",
    "    'max_depth' : [4,5,6,7,8],\n",
    "    'criterion' :['gini', 'entropy']\n",
    "}\n",
    "CV_rfc = GridSearchCV(estimator=model, param_grid=param_grid, cv= 5)\n",
    "CV_rfc.fit(X_train, y_train)"
   ]
  },
  {
   "cell_type": "code",
   "execution_count": 29,
   "metadata": {},
   "outputs": [
    {
     "data": {
      "text/plain": [
       "{'criterion': 'gini',\n",
       " 'max_depth': 8,\n",
       " 'max_features': 'auto',\n",
       " 'n_estimators': 100}"
      ]
     },
     "execution_count": 29,
     "metadata": {},
     "output_type": "execute_result"
    }
   ],
   "source": [
    "CV_rfc.best_params_"
   ]
  },
  {
   "cell_type": "code",
   "execution_count": 34,
   "metadata": {},
   "outputs": [
    {
     "data": {
      "text/plain": [
       "0.8340893624770025"
      ]
     },
     "execution_count": 34,
     "metadata": {},
     "output_type": "execute_result"
    }
   ],
   "source": [
    "CV_rfc.best_score_"
   ]
  },
  {
   "cell_type": "code",
   "execution_count": 30,
   "metadata": {},
   "outputs": [
    {
     "data": {
      "text/plain": [
       "RandomForestClassifier(max_depth=8, random_state=42)"
      ]
     },
     "execution_count": 30,
     "metadata": {},
     "output_type": "execute_result"
    }
   ],
   "source": [
    "model = RandomForestClassifier(n_estimators=100, max_features='auto', max_depth=8, criterion='gini', random_state=42)\n",
    "model.fit(X_train, y_train)"
   ]
  },
  {
   "cell_type": "code",
   "execution_count": 36,
   "metadata": {},
   "outputs": [
    {
     "name": "stdout",
     "output_type": "stream",
     "text": [
      "Test\n",
      "Accuracy: 0.8357127786764189\n"
     ]
    }
   ],
   "source": [
    "print(\"Test\")\n",
    "print('Accuracy:', model.score(X_test, y_test))"
   ]
  },
  {
   "cell_type": "markdown",
   "metadata": {},
   "source": [
    "## 6. Nâng cao"
   ]
  },
  {
   "cell_type": "markdown",
   "metadata": {},
   "source": [
    "#### Load data"
   ]
  },
  {
   "cell_type": "code",
   "execution_count": 45,
   "metadata": {},
   "outputs": [],
   "source": [
    "df_advance = pd.read_csv('weatherAUS_advance.csv')\n",
    "df_advance['RainTomorrow'] = df_advance['RainTomorrow'].fillna('Unknown')\n",
    "\n",
    "X = df_advance.drop(['RainTomorrow'], axis=1)\n",
    "y = df_advance['RainTomorrow']\n",
    "\n",
    "X_train, X_test, y_train, y_test = train_test_split(X, y, test_size=0.2, random_state=42)\n",
    "X_test, X_valid, y_test, y_valid = train_test_split(X_test, y_test, test_size=0.5, random_state=42)"
   ]
  },
  {
   "cell_type": "markdown",
   "metadata": {},
   "source": [
    "Chia biến hạng mục và biến số"
   ]
  },
  {
   "cell_type": "code",
   "execution_count": 46,
   "metadata": {},
   "outputs": [],
   "source": [
    "categorical = [col for col in X.columns if X[col].dtypes == 'O']\n",
    "numerical = [col for col in X.columns if X[col].dtypes != 'O']"
   ]
  },
  {
   "cell_type": "markdown",
   "metadata": {},
   "source": [
    "Fill N/A cho biến số"
   ]
  },
  {
   "cell_type": "code",
   "execution_count": 47,
   "metadata": {},
   "outputs": [],
   "source": [
    "for df1 in [X_train, X_test, X_valid]:\n",
    "    for col in numerical:\n",
    "        col_median = X_train[col].median()\n",
    "        df1[col].fillna(col_median, inplace=True)\n",
    "\n"
   ]
  },
  {
   "cell_type": "markdown",
   "metadata": {},
   "source": [
    "Fill N/A cho biến hạng mục"
   ]
  },
  {
   "cell_type": "code",
   "execution_count": 48,
   "metadata": {},
   "outputs": [],
   "source": [
    "for df2 in [X_train, X_test, X_valid]:\n",
    "    for var in categorical:\n",
    "        df2[var].fillna(X_train[var].mode()[0], inplace=True)"
   ]
  },
  {
   "cell_type": "markdown",
   "metadata": {},
   "source": [
    "Xử lý outlier cho biến số"
   ]
  },
  {
   "cell_type": "code",
   "execution_count": 49,
   "metadata": {},
   "outputs": [],
   "source": [
    "def max_value(df3, variable, top):\n",
    "    return np.where(df3[variable]>top, top, df3[variable])\n",
    "\n",
    "for df3 in [X_train, X_test]:\n",
    "    df3['Rainfall'] = max_value(df3, 'Rainfall', 3.2)\n",
    "    df3['Evaporation'] = max_value(df3, 'Evaporation', 21.8)\n",
    "    df3['WindSpeed9am'] = max_value(df3, 'WindSpeed9am', 55)\n",
    "    df3['WindSpeed3pm'] = max_value(df3, 'WindSpeed3pm', 57)"
   ]
  },
  {
   "cell_type": "markdown",
   "metadata": {},
   "source": [
    "Encode cho biến hạng mục"
   ]
  },
  {
   "cell_type": "code",
   "execution_count": 50,
   "metadata": {},
   "outputs": [],
   "source": [
    "from sklearn import preprocessing\n",
    "le = preprocessing.LabelEncoder()\n",
    "\n",
    "y_train = le.fit_transform(y_train)\n",
    "y_test = le.transform(y_test)\n",
    "y_valid = le.transform(y_valid)"
   ]
  },
  {
   "cell_type": "markdown",
   "metadata": {},
   "source": [
    "Mã hoá biến nhị phân cho RainToday"
   ]
  },
  {
   "cell_type": "code",
   "execution_count": 51,
   "metadata": {},
   "outputs": [],
   "source": [
    "from pyexpat.model import XML_CQUANT_NONE\n",
    "import category_encoders as ce\n",
    "\n",
    "encoder = ce.BinaryEncoder(cols=['RainToday'])\n",
    "\n",
    "X_train_target = encoder.fit_transform(X_train)\n",
    "col_categorical = ['Location', 'WindGustDir', 'WindDir9am', 'WindDir3pm']\n",
    "X_train_categorical = pd.concat([X_train_target[['RainToday_0', 'RainToday_1']],\n",
    "                      pd.get_dummies(X_train[col_categorical])], axis=1)\n",
    "\n",
    "X_test_target = encoder.transform(X_test)\n",
    "X_test_categorical = pd.concat([X_test_target[['RainToday_0', 'RainToday_1']],\n",
    "                     pd.get_dummies(X_test[col_categorical])], axis=1)\n",
    "\n",
    "X_valid_target = encoder.transform(X_valid)\n",
    "X_valid_categorical = pd.concat([X_valid_target[['RainToday_0', 'RainToday_1']],\n",
    "                     pd.get_dummies(X_valid[col_categorical])], axis=1)"
   ]
  },
  {
   "cell_type": "markdown",
   "metadata": {},
   "source": [
    "Rời rạc hoá biến số"
   ]
  },
  {
   "cell_type": "code",
   "execution_count": 52,
   "metadata": {},
   "outputs": [],
   "source": [
    "from feature_engine.discretisation import EqualFrequencyDiscretiser\n",
    "disc = EqualFrequencyDiscretiser(q=10, variables = numerical)\n",
    "\n",
    "disc.fit(X_train[numerical])\n",
    "X_train_numerical = disc.transform(X_train[numerical])\n",
    "X_test_numerical = disc.transform(X_test[numerical])\n",
    "X_valid_numerical = disc.transform(X_valid[numerical])"
   ]
  },
  {
   "cell_type": "markdown",
   "metadata": {},
   "source": [
    "Ghép các tập đã xử lý"
   ]
  },
  {
   "cell_type": "code",
   "execution_count": 53,
   "metadata": {},
   "outputs": [],
   "source": [
    "train = pd.concat([X_train_numerical, X_train_categorical], axis=1)\n",
    "test = pd.concat([X_test_numerical, X_test_categorical], axis=1)\n",
    "valid = pd.concat([X_valid_numerical, X_valid_categorical], axis=1)"
   ]
  },
  {
   "cell_type": "markdown",
   "metadata": {},
   "source": [
    "Sử dụng **RandomForestClassifier** cho tất cả feature"
   ]
  },
  {
   "cell_type": "code",
   "execution_count": 56,
   "metadata": {},
   "outputs": [
    {
     "data": {
      "text/plain": [
       "RandomForestClassifier(max_depth=8, random_state=42)"
      ]
     },
     "execution_count": 56,
     "metadata": {},
     "output_type": "execute_result"
    }
   ],
   "source": [
    "model = RandomForestClassifier(n_estimators=100, max_features='auto', max_depth=8, criterion='gini', random_state=42)\n",
    "model.fit(train, y_train)"
   ]
  },
  {
   "cell_type": "code",
   "execution_count": 58,
   "metadata": {},
   "outputs": [
    {
     "data": {
      "text/plain": [
       "0.8530070292753242"
      ]
     },
     "execution_count": 58,
     "metadata": {},
     "output_type": "execute_result"
    }
   ],
   "source": [
    "f1_score(model.predict(train), y_train, average='weighted')"
   ]
  },
  {
   "cell_type": "code",
   "execution_count": 59,
   "metadata": {},
   "outputs": [
    {
     "data": {
      "text/plain": [
       "0.8475378363710365"
      ]
     },
     "execution_count": 59,
     "metadata": {},
     "output_type": "execute_result"
    }
   ],
   "source": [
    "f1_score(model.predict(test), y_test, average='weighted')"
   ]
  },
  {
   "cell_type": "code",
   "execution_count": 60,
   "metadata": {},
   "outputs": [
    {
     "data": {
      "text/plain": [
       "0.8502635799926123"
      ]
     },
     "execution_count": 60,
     "metadata": {},
     "output_type": "execute_result"
    }
   ],
   "source": [
    "f1_score(model.predict(valid), y_valid, average='weighted')"
   ]
  }
 ],
 "metadata": {
  "kernelspec": {
   "display_name": "Python 3.8.13",
   "language": "python",
   "name": "python3"
  },
  "language_info": {
   "codemirror_mode": {
    "name": "ipython",
    "version": 3
   },
   "file_extension": ".py",
   "mimetype": "text/x-python",
   "name": "python",
   "nbconvert_exporter": "python",
   "pygments_lexer": "ipython3",
   "version": "3.8.13"
  },
  "orig_nbformat": 4,
  "vscode": {
   "interpreter": {
    "hash": "7636056f1e4d8fdf67bea993a39219552fd16254f6bf1d4cfd5ce8af047e9af1"
   }
  }
 },
 "nbformat": 4,
 "nbformat_minor": 2
}
