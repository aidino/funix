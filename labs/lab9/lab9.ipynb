{
 "cells": [
  {
   "cell_type": "markdown",
   "metadata": {},
   "source": [
    "# Lab9 - Binomial Distribution I"
   ]
  },
  {
   "cell_type": "markdown",
   "metadata": {},
   "source": [
    "## Task\n",
    "\n",
    "The ratio of boys to girls for babies born in Russia is 1.09:1. \n",
    "If there is 1 child born per birth, \n",
    "what proportion of Russian families with exactly 6 children will have at least 3 boys?\n"
   ]
  },
  {
   "cell_type": "code",
   "execution_count": 1,
   "metadata": {},
   "outputs": [
    {
     "name": "stdout",
     "output_type": "stream",
     "text": [
      "boys: 0, girls: 6, prob: 0.020122469184072553\n",
      "boys: 1, girls: 5, prob: 0.11076588541691317\n",
      "boys: 2, girls: 4, prob: 0.25405019591035133\n",
      "0.615\n"
     ]
    }
   ],
   "source": [
    "boyP = 1/(1+1.09)\n",
    "girlP = 1-boyP\n",
    "\n",
    "def factorial(n):\n",
    "    result = 1\n",
    "    for i in range(1,n+1):\n",
    "        result *= i\n",
    "    return result\n",
    "\n",
    "def combination(n,r):\n",
    "    return factorial(n)/(factorial(r)*factorial(n-r))\n",
    "\n",
    "totalProb = 0\n",
    "for numBoy in range(3):\n",
    "    numGirl = 6 - numBoy\n",
    "    prob = combination(6,numBoy)*(boyP**numBoy)*(girlP**numGirl)\n",
    "    print('boys: {}, girls: {}, prob: {}'.format(numBoy, numGirl, prob))\n",
    "    totalProb += prob\n",
    "print(1-round(totalProb, 3))"
   ]
  },
  {
   "cell_type": "code",
   "execution_count": null,
   "metadata": {},
   "outputs": [],
   "source": []
  }
 ],
 "metadata": {
  "interpreter": {
   "hash": "d4769b5f4808649e9f6efc2edf9fbe2018aef5c0a679de8e6bc3eb348403e35b"
  },
  "kernelspec": {
   "display_name": "Python 3.7.11 ('tf')",
   "language": "python",
   "name": "python3"
  },
  "language_info": {
   "codemirror_mode": {
    "name": "ipython",
    "version": 3
   },
   "file_extension": ".py",
   "mimetype": "text/x-python",
   "name": "python",
   "nbconvert_exporter": "python",
   "pygments_lexer": "ipython3",
   "version": "3.7.11"
  },
  "orig_nbformat": 4
 },
 "nbformat": 4,
 "nbformat_minor": 2
}
