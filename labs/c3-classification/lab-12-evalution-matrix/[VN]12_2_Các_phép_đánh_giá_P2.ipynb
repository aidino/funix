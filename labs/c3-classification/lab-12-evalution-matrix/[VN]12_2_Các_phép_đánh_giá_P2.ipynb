{
 "cells": [
  {
   "cell_type": "markdown",
   "metadata": {
    "id": "YMVVGcrqwC6b"
   },
   "source": [
    "# Trung bình nhân (G-Mean), Dominance, Chỉ số của độ chính xác không cân bằng (IBA)\n",
    "\n",
    "- **G-Mean** = sqrt( tp / (tp = fn) * tn / (tn + fp) ) = sqrt ( recall x True Negative Rate)\n",
    "\n",
    "- **Dominance** = True Positive Rate - True Negative Rate\n",
    "\n",
    "- **IBA** = M * (1 + alpha * Dominance)\n",
    "\n",
    "- **TPR** = **Recall** = tp / (tp + fn)\n",
    "\n",
    "- **TNR** = tn / (tn + fp)\n",
    "\n",
    "\n",
    "Tất cả các phép đo trên phụ thuộc vào ngưỡng biệt số được dùng để phân loại một quan sát thuộc lớp positive hay lớp thiếu số."
   ]
  },
  {
   "cell_type": "code",
   "execution_count": 1,
   "metadata": {
    "id": "rQrvmSWywC6e"
   },
   "outputs": [],
   "source": [
    "import numpy as np\n",
    "import pandas as pd\n",
    "import matplotlib.pyplot as plt\n",
    "\n",
    "from sklearn.ensemble import RandomForestClassifier\n",
    "from sklearn.linear_model import LogisticRegression\n",
    "from sklearn.model_selection import train_test_split\n",
    "\n",
    "from sklearn.metrics import (\n",
    "    recall_score,\n",
    "    accuracy_score,\n",
    "    balanced_accuracy_score,\n",
    ")\n",
    "\n",
    "from imblearn.metrics import (\n",
    "    geometric_mean_score,\n",
    "    make_index_balanced_accuracy,\n",
    ")"
   ]
  },
  {
   "cell_type": "markdown",
   "metadata": {
    "id": "B8KPWf_IwC6g"
   },
   "source": [
    "## Load dữ liệu"
   ]
  },
  {
   "cell_type": "code",
   "execution_count": 2,
   "metadata": {
    "id": "XFTwszirwC6h",
    "outputId": "930b6aef-c917-4029-9706-2310625d6010"
   },
   "outputs": [
    {
     "data": {
      "text/html": [
       "<div>\n",
       "<style scoped>\n",
       "    .dataframe tbody tr th:only-of-type {\n",
       "        vertical-align: middle;\n",
       "    }\n",
       "\n",
       "    .dataframe tbody tr th {\n",
       "        vertical-align: top;\n",
       "    }\n",
       "\n",
       "    .dataframe thead th {\n",
       "        text-align: right;\n",
       "    }\n",
       "</style>\n",
       "<table border=\"1\" class=\"dataframe\">\n",
       "  <thead>\n",
       "    <tr style=\"text-align: right;\">\n",
       "      <th></th>\n",
       "      <th>0</th>\n",
       "      <th>1</th>\n",
       "      <th>2</th>\n",
       "      <th>3</th>\n",
       "      <th>4</th>\n",
       "      <th>5</th>\n",
       "      <th>6</th>\n",
       "      <th>7</th>\n",
       "      <th>8</th>\n",
       "      <th>9</th>\n",
       "      <th>...</th>\n",
       "      <th>65</th>\n",
       "      <th>66</th>\n",
       "      <th>67</th>\n",
       "      <th>68</th>\n",
       "      <th>69</th>\n",
       "      <th>70</th>\n",
       "      <th>71</th>\n",
       "      <th>72</th>\n",
       "      <th>73</th>\n",
       "      <th>target</th>\n",
       "    </tr>\n",
       "  </thead>\n",
       "  <tbody>\n",
       "    <tr>\n",
       "      <th>0</th>\n",
       "      <td>52.0</td>\n",
       "      <td>32.69</td>\n",
       "      <td>0.30</td>\n",
       "      <td>2.5</td>\n",
       "      <td>20.0</td>\n",
       "      <td>1256.8</td>\n",
       "      <td>-0.89</td>\n",
       "      <td>0.33</td>\n",
       "      <td>11.0</td>\n",
       "      <td>-55.0</td>\n",
       "      <td>...</td>\n",
       "      <td>1595.1</td>\n",
       "      <td>-1.64</td>\n",
       "      <td>2.83</td>\n",
       "      <td>-2.0</td>\n",
       "      <td>-50.0</td>\n",
       "      <td>445.2</td>\n",
       "      <td>-0.35</td>\n",
       "      <td>0.26</td>\n",
       "      <td>0.76</td>\n",
       "      <td>0</td>\n",
       "    </tr>\n",
       "    <tr>\n",
       "      <th>1</th>\n",
       "      <td>58.0</td>\n",
       "      <td>33.33</td>\n",
       "      <td>0.00</td>\n",
       "      <td>16.5</td>\n",
       "      <td>9.5</td>\n",
       "      <td>608.1</td>\n",
       "      <td>0.50</td>\n",
       "      <td>0.07</td>\n",
       "      <td>20.5</td>\n",
       "      <td>-52.5</td>\n",
       "      <td>...</td>\n",
       "      <td>762.9</td>\n",
       "      <td>0.29</td>\n",
       "      <td>0.82</td>\n",
       "      <td>-3.0</td>\n",
       "      <td>-35.0</td>\n",
       "      <td>140.3</td>\n",
       "      <td>1.16</td>\n",
       "      <td>0.39</td>\n",
       "      <td>0.73</td>\n",
       "      <td>0</td>\n",
       "    </tr>\n",
       "    <tr>\n",
       "      <th>2</th>\n",
       "      <td>77.0</td>\n",
       "      <td>27.27</td>\n",
       "      <td>-0.91</td>\n",
       "      <td>6.0</td>\n",
       "      <td>58.5</td>\n",
       "      <td>1623.6</td>\n",
       "      <td>-1.40</td>\n",
       "      <td>0.02</td>\n",
       "      <td>-6.5</td>\n",
       "      <td>-48.0</td>\n",
       "      <td>...</td>\n",
       "      <td>1491.8</td>\n",
       "      <td>0.32</td>\n",
       "      <td>-1.29</td>\n",
       "      <td>0.0</td>\n",
       "      <td>-34.0</td>\n",
       "      <td>658.2</td>\n",
       "      <td>-0.76</td>\n",
       "      <td>0.26</td>\n",
       "      <td>0.24</td>\n",
       "      <td>0</td>\n",
       "    </tr>\n",
       "    <tr>\n",
       "      <th>3</th>\n",
       "      <td>41.0</td>\n",
       "      <td>27.91</td>\n",
       "      <td>-0.35</td>\n",
       "      <td>3.0</td>\n",
       "      <td>46.0</td>\n",
       "      <td>1921.6</td>\n",
       "      <td>-1.36</td>\n",
       "      <td>-0.47</td>\n",
       "      <td>-32.0</td>\n",
       "      <td>-51.5</td>\n",
       "      <td>...</td>\n",
       "      <td>2047.7</td>\n",
       "      <td>-0.98</td>\n",
       "      <td>1.53</td>\n",
       "      <td>0.0</td>\n",
       "      <td>-49.0</td>\n",
       "      <td>554.2</td>\n",
       "      <td>-0.83</td>\n",
       "      <td>0.39</td>\n",
       "      <td>0.73</td>\n",
       "      <td>0</td>\n",
       "    </tr>\n",
       "    <tr>\n",
       "      <th>4</th>\n",
       "      <td>50.0</td>\n",
       "      <td>28.00</td>\n",
       "      <td>-1.32</td>\n",
       "      <td>-9.0</td>\n",
       "      <td>12.0</td>\n",
       "      <td>464.8</td>\n",
       "      <td>0.88</td>\n",
       "      <td>0.19</td>\n",
       "      <td>8.0</td>\n",
       "      <td>-51.5</td>\n",
       "      <td>...</td>\n",
       "      <td>479.5</td>\n",
       "      <td>0.68</td>\n",
       "      <td>-0.59</td>\n",
       "      <td>2.0</td>\n",
       "      <td>-36.0</td>\n",
       "      <td>-6.9</td>\n",
       "      <td>2.02</td>\n",
       "      <td>0.14</td>\n",
       "      <td>-0.23</td>\n",
       "      <td>0</td>\n",
       "    </tr>\n",
       "  </tbody>\n",
       "</table>\n",
       "<p>5 rows × 75 columns</p>\n",
       "</div>"
      ],
      "text/plain": [
       "      0      1     2     3     4       5     6     7     8     9  ...      65  \\\n",
       "0  52.0  32.69  0.30   2.5  20.0  1256.8 -0.89  0.33  11.0 -55.0  ...  1595.1   \n",
       "1  58.0  33.33  0.00  16.5   9.5   608.1  0.50  0.07  20.5 -52.5  ...   762.9   \n",
       "2  77.0  27.27 -0.91   6.0  58.5  1623.6 -1.40  0.02  -6.5 -48.0  ...  1491.8   \n",
       "3  41.0  27.91 -0.35   3.0  46.0  1921.6 -1.36 -0.47 -32.0 -51.5  ...  2047.7   \n",
       "4  50.0  28.00 -1.32  -9.0  12.0   464.8  0.88  0.19   8.0 -51.5  ...   479.5   \n",
       "\n",
       "     66    67   68    69     70    71    72    73  target  \n",
       "0 -1.64  2.83 -2.0 -50.0  445.2 -0.35  0.26  0.76       0  \n",
       "1  0.29  0.82 -3.0 -35.0  140.3  1.16  0.39  0.73       0  \n",
       "2  0.32 -1.29  0.0 -34.0  658.2 -0.76  0.26  0.24       0  \n",
       "3 -0.98  1.53  0.0 -49.0  554.2 -0.83  0.39  0.73       0  \n",
       "4  0.68 -0.59  2.0 -36.0   -6.9  2.02  0.14 -0.23       0  \n",
       "\n",
       "[5 rows x 75 columns]"
      ]
     },
     "execution_count": 2,
     "metadata": {},
     "output_type": "execute_result"
    }
   ],
   "source": [
    "# load dữ liệu\n",
    "data = pd.read_csv('../kdd2004.csv')\n",
    "\n",
    "# ánh xạ lại phân lớp mục tiêu thành 0 và 1\n",
    "## Yêu cầu 1:\n",
    "## VIẾT CODE Ở ĐÂY:\n",
    "data['target'] = data['target']....({-1:0, 1:1})\n",
    "\n",
    "data.head()"
   ]
  },
  {
   "cell_type": "markdown",
   "metadata": {
    "id": "wfER51gwxVAd"
   },
   "source": [
    "<details><summary> Gợi ý </summary>\n",
    "\n",
    "[map()](https://pandas.pydata.org/docs/reference/api/pandas.Series.map.html)\n",
    "\n",
    "</details>"
   ]
  },
  {
   "cell_type": "code",
   "execution_count": 3,
   "metadata": {
    "id": "fnjYxMBFwC6j",
    "outputId": "59b5d185-d9ab-41b8-b04e-1df5f636a08c"
   },
   "outputs": [
    {
     "data": {
      "text/plain": [
       "(145751, 75)"
      ]
     },
     "execution_count": 3,
     "metadata": {},
     "output_type": "execute_result"
    }
   ],
   "source": [
    "# kích thước dữ liệu\n",
    "\n",
    "data.shape"
   ]
  },
  {
   "cell_type": "code",
   "execution_count": 4,
   "metadata": {
    "id": "G1w_tBZ2wC6k",
    "outputId": "199cdbe9-fb24-427c-96e7-ef00a35734c7"
   },
   "outputs": [
    {
     "data": {
      "text/plain": [
       "0    0.991108\n",
       "1    0.008892\n",
       "Name: target, dtype: float64"
      ]
     },
     "execution_count": 4,
     "metadata": {},
     "output_type": "execute_result"
    }
   ],
   "source": [
    "# mục tiêu không cân bằng\n",
    "\n",
    "data.target.value_counts() / len(data)"
   ]
  },
  {
   "cell_type": "code",
   "execution_count": 5,
   "metadata": {
    "id": "UE4J9P0WwC6k",
    "outputId": "893c849d-2ae3-4afc-94c7-edfddcaeecd5"
   },
   "outputs": [
    {
     "data": {
      "text/plain": [
       "((102025, 74), (43726, 74))"
      ]
     },
     "execution_count": 5,
     "metadata": {},
     "output_type": "execute_result"
    }
   ],
   "source": [
    "# tách thành tập huấn luyện và tập kiểm tra\n",
    "## Yêu cầu 2:\n",
    "## VIẾT CODE Ở ĐÂY:\n",
    "X_train, X_test, y_train, y_test = ...(\n",
    "    data.drop(labels=['target'], axis=1),  # drop the target\n",
    "    data['target'],  # just the target\n",
    "    test_size=0.3,\n",
    "    random_state=0)\n",
    "\n",
    "X_train.shape, X_test.shape"
   ]
  },
  {
   "cell_type": "markdown",
   "metadata": {
    "id": "J9eCcijuxaU6"
   },
   "source": [
    "<details><summary> Gợi ý </summary>\n",
    "\n",
    "[train_test_split()](https://scikit-learn.org/stable/modules/generated/sklearn.model_selection.train_test_split.html)\n",
    "\n",
    "</details>"
   ]
  },
  {
   "cell_type": "markdown",
   "metadata": {
    "id": "-2qfwzsQwC6m"
   },
   "source": [
    "## Baseline: dự đoán lớp đa số"
   ]
  },
  {
   "cell_type": "code",
   "execution_count": 6,
   "metadata": {
    "id": "71AXIIk9wC6n"
   },
   "outputs": [],
   "source": [
    "# Dự đoán cơ sở: dự đoán lớp đa số\n",
    "## Yêu cầu 3:\n",
    "## VIẾT CODE Ở ĐÂY:\n",
    "y_train_base = pd.Series(np.zeros(len(y_train)))\n",
    "y_test_base = pd.Series(np....(len(...)))"
   ]
  },
  {
   "cell_type": "markdown",
   "metadata": {
    "id": "X2IxQETXxeEC"
   },
   "source": [
    "<details><summary> Gợi ý </summary>\n",
    "\n",
    "[zeros()](https://numpy.org/doc/stable/reference/generated/numpy.zeros.html)\n",
    "\n",
    "</details>"
   ]
  },
  {
   "cell_type": "markdown",
   "metadata": {
    "id": "-IehiVn6wC6o"
   },
   "source": [
    "## Huấn luyện mô hình học máy"
   ]
  },
  {
   "cell_type": "markdown",
   "metadata": {
    "id": "UvRUeOhy1hoe"
   },
   "source": [
    "### Random Forest"
   ]
  },
  {
   "cell_type": "code",
   "execution_count": 7,
   "metadata": {
    "id": "DAFI4QfawC6o"
   },
   "outputs": [],
   "source": [
    "rf = RandomForestClassifier(n_estimators=100, random_state=39, max_depth=2, n_jobs=4)\n",
    "\n",
    "rf.fit(X_train, y_train)\n",
    "## Yêu cầu 4:\n",
    "## VIẾT CODE Ở ĐÂY:\n",
    "y_train_rf = rf.predict_proba(X_train)[:,1]\n",
    "y_test_rf = rf....(...)[:,1]"
   ]
  },
  {
   "cell_type": "markdown",
   "metadata": {
    "id": "5j44RzmhxjN6"
   },
   "source": [
    "<details><summary> Gợi ý </summary>\n",
    "\n",
    "[predict_proba()](https://scikit-learn.org/stable/modules/generated/sklearn.ensemble.RandomForestClassifier.html#sklearn.ensemble.RandomForestClassifier.predict_proba)\n",
    "\n",
    "</details>"
   ]
  },
  {
   "cell_type": "markdown",
   "metadata": {
    "id": "gVPgiJeRwC6o"
   },
   "source": [
    "### Hồi quy Logistic"
   ]
  },
  {
   "cell_type": "code",
   "execution_count": 8,
   "metadata": {
    "id": "u6lbmKcywC6p",
    "outputId": "d3af2731-4f65-447c-ddf8-79d1ed1fd5ef"
   },
   "outputs": [
    {
     "name": "stderr",
     "output_type": "stream",
     "text": [
      "C:\\Users\\ASUS\\anaconda3\\lib\\site-packages\\sklearn\\linear_model\\_logistic.py:764: ConvergenceWarning: lbfgs failed to converge (status=1):\n",
      "STOP: TOTAL NO. of ITERATIONS REACHED LIMIT.\n",
      "\n",
      "Increase the number of iterations (max_iter) or scale the data as shown in:\n",
      "    https://scikit-learn.org/stable/modules/preprocessing.html\n",
      "Please also refer to the documentation for alternative solver options:\n",
      "    https://scikit-learn.org/stable/modules/linear_model.html#logistic-regression\n",
      "  extra_warning_msg=_LOGISTIC_SOLVER_CONVERGENCE_MSG)\n"
     ]
    }
   ],
   "source": [
    "logit = LogisticRegression(random_state=0,  max_iter=1000)\n",
    "\n",
    "logit.fit(X_train, y_train)\n",
    "## Yêu cầu 5:\n",
    "## VIẾT CODE Ở ĐÂY:\n",
    "y_train_logit = logit.predict_proba(...)[:,1]\n",
    "y_test_logit = logit....(...)[:,1]"
   ]
  },
  {
   "cell_type": "markdown",
   "metadata": {
    "id": "2Oi0B-BIxmvw"
   },
   "source": [
    "<details><summary> Gợi ý </summary>\n",
    "\n",
    "Sử dụng ```predict_proba()```\n",
    "\n",
    "</details>"
   ]
  },
  {
   "cell_type": "markdown",
   "metadata": {
    "id": "oan6ocv7wC6q"
   },
   "source": [
    "## Recall\n",
    "\n",
    "https://scikit-learn.org/stable/modules/generated/sklearn.metrics.recall_score.html\n",
    "\n",
    "- **TPR** = **Recall** = tp / (tp + fn)"
   ]
  },
  {
   "cell_type": "code",
   "execution_count": 9,
   "metadata": {
    "id": "AvR9tQI-wC6q",
    "outputId": "7a16fa02-8f76-42ea-e7c3-af43afa7262a"
   },
   "outputs": [
    {
     "name": "stdout",
     "output_type": "stream",
     "text": [
      "Recall Baseline test:  0.0\n",
      "Recall Random Forest test: 0.6024691358024692\n",
      "Recall Logistic Regression test: 0.7111111111111111\n"
     ]
    }
   ],
   "source": [
    "## Yêu cầu 6:\n",
    "## VIẾT CODE Ở ĐÂY:\n",
    "print('Recall Baseline test: ', ...(y_test, ..., pos_label=1))\n",
    "print('Recall Random Forest test:', ...(y_test, rf.predict(...), pos_label=1))\n",
    "print('Recall Logistic Regression test:', ...(y_test, logit.predict(...), pos_label=1))"
   ]
  },
  {
   "cell_type": "markdown",
   "metadata": {
    "id": "oM-BM6RYxrqS"
   },
   "source": [
    "<details><summary> Gợi ý </summary>\n",
    "\n",
    "Sử dụng ```recall_score()```\n",
    "\n",
    "</details>"
   ]
  },
  {
   "cell_type": "markdown",
   "metadata": {
    "id": "K-pJ4EFHwC6q"
   },
   "source": [
    "## True Negative Rate\n",
    "\n",
    "Tương đương với Recall nhưng là cho lớp đa số.\n",
    "\n",
    "- **TNR** = tn / (tn + fp)"
   ]
  },
  {
   "cell_type": "code",
   "execution_count": 10,
   "metadata": {
    "id": "UEyTtbLawC6r",
    "outputId": "6e0d00b6-9dfa-48d7-833c-9dd8dd3d96e7"
   },
   "outputs": [
    {
     "name": "stdout",
     "output_type": "stream",
     "text": [
      "TNR Baseline test:  1.0\n",
      "TNR Random Forest test: 0.9999769165070058\n",
      "TNR Logistic Regression test: 0.9996306641120934\n"
     ]
    }
   ],
   "source": [
    "## Yêu cầu 7:\n",
    "## VIẾT CODE Ở ĐÂY:\n",
    "print('TNR Baseline test: ', ...(y_test, ..., pos_label=0))\n",
    "print('TNR Random Forest test:', ...(y_test, rf.predict(...), pos_label=0))\n",
    "print('TNR Logistic Regression test:', ...(y_test, logit.predict(...), pos_label=0))"
   ]
  },
  {
   "cell_type": "markdown",
   "metadata": {
    "id": "-NNEri-mxzT3"
   },
   "source": [
    "<details><summary> Gợi ý </summary>\n",
    "\n",
    "Sử dụng ```recall_score()```\n",
    "\n",
    "</details>"
   ]
  },
  {
   "cell_type": "markdown",
   "metadata": {
    "id": "eicsPiR6wC6r"
   },
   "source": [
    "## Trung bình nhân\n",
    "\n",
    "https://imbalanced-learn.org/stable/generated/imblearn.metrics.geometric_mean_score.html\n",
    "\n",
    "- **G-Mean** = sqrt( tp / (tp = fn) * tn / (tn + fp) ) = sqrt ( recall x True Negative Rate)"
   ]
  },
  {
   "cell_type": "code",
   "execution_count": 11,
   "metadata": {
    "id": "pWgiSNAtwC6r",
    "outputId": "a6f1193f-eb44-4892-c2a7-fb1dba75d3c8"
   },
   "outputs": [
    {
     "name": "stdout",
     "output_type": "stream",
     "text": [
      "G-Mean Baseline test:  0.0\n",
      "G-Mean Random Forest test: 0.7761798945543448\n",
      "G-Mean Logistic Regression test: 0.8431183026464842\n"
     ]
    }
   ],
   "source": [
    "## Yêu cầu 8:\n",
    "## VIẾT CODE Ở ĐÂY:\n",
    "print('G-Mean Baseline test: ', ...(y_test, ...))\n",
    "print('G-Mean Random Forest test:', ...(y_test, rf.predict(...)))\n",
    "print('G-Mean Logistic Regression test:', ...(y_test, logit.predict(...)))"
   ]
  },
  {
   "cell_type": "markdown",
   "metadata": {
    "id": "G-c-duDQx_Cl"
   },
   "source": [
    "<details><summary> Gợi ý </summary>\n",
    "\n",
    "Sử dụng ```geometric_mean_score()```\n",
    "\n",
    "</details>"
   ]
  },
  {
   "cell_type": "markdown",
   "metadata": {
    "id": "uMGSUNjrwC6t"
   },
   "source": [
    "## Dominance\n",
    "\n",
    "- **Dominance** = True Positive Rate - True Negative Rate"
   ]
  },
  {
   "cell_type": "code",
   "execution_count": 12,
   "metadata": {
    "id": "wsuHD0_dwC6t"
   },
   "outputs": [],
   "source": [
    "def dominance(y_true, y_pred):\n",
    "    tpr = recall_score(y_test, y_pred, pos_label=1)\n",
    "    tnr = recall_score(y_test, y_pred, pos_label=0)\n",
    "    ## Yêu cầu 9:\n",
    "    ## VIẾT CODE Ở ĐÂY:\n",
    "    return ... - ..."
   ]
  },
  {
   "cell_type": "code",
   "execution_count": 13,
   "metadata": {
    "id": "vUcE9JhvwC6t",
    "outputId": "eb41ad0e-4ebd-42f6-bd59-92fbc771daf6"
   },
   "outputs": [
    {
     "name": "stdout",
     "output_type": "stream",
     "text": [
      "Dominance Baseline test:  -1.0\n",
      "Dominance Random Forest test: -0.39750778070453663\n",
      "Dominance Logistic Regression test: -0.2885195530009823\n"
     ]
    }
   ],
   "source": [
    "## Yêu cầu 10:\n",
    "## VIẾT CODE Ở ĐÂY:\n",
    "print('Dominance Baseline test: ', ...(..., ...))\n",
    "print('Dominance Random Forest test:', ...(y_test, rf.predict(...)))\n",
    "print('Dominance Logistic Regression test:', ...(y_test, logit.predict(...)))"
   ]
  },
  {
   "cell_type": "markdown",
   "metadata": {
    "id": "wsmL0kcZyJxx"
   },
   "source": [
    "<details><summary> Gợi ý </summary>\n",
    "\n",
    "Sử dụng ```dominance()```\n",
    "\n",
    "</details>"
   ]
  },
  {
   "cell_type": "markdown",
   "metadata": {
    "id": "PpNLx7UnwC6u"
   },
   "source": [
    "## Các phép đo với ngưỡng"
   ]
  },
  {
   "cell_type": "code",
   "execution_count": 14,
   "metadata": {
    "id": "L_n3rhQtwC6u",
    "outputId": "ed868cdb-b1cc-4922-8b8b-3df78bdd607c"
   },
   "outputs": [
    {
     "data": {
      "text/plain": [
       "Text(0.5, 1.0, 'Metrics vs Discriminant Threshold')"
      ]
     },
     "execution_count": 14,
     "metadata": {},
     "output_type": "execute_result"
    },
    {
     "data": {
      "image/png": "[encoded data removed]",
      "text/plain": [
       "<Figure size 432x288 with 1 Axes>"
      ]
     },
     "metadata": {
      "needs_background": "light"
     },
     "output_type": "display_data"
    }
   ],
   "source": [
    "# danh sách các ngưỡng\n",
    "thresholds = np.linspace(0, 1, 100)\n",
    "\n",
    "# danh sách các giá trị thu thập\n",
    "recall_ls = []\n",
    "tnr_ls = []\n",
    "dominance_ls = []\n",
    "gmean_ls = []\n",
    "\n",
    "# lấy các xác suất\n",
    "probs_logit = logit.predict_proba(X_test)[:, 1]\n",
    "\n",
    "# tính G-Mean căn cứ theo ngưỡng\n",
    "for threshold in thresholds:\n",
    "\n",
    "    # lấy dự đoán phân lớp căn cứ theo ngưỡng\n",
    "    ## Yêu cầu 11:\n",
    "    ## VIẾT CODE Ở ĐÂY:\n",
    "    preds_logit = np.where(probs_logit >= ..., 1, 0)\n",
    "\n",
    "    # lấy các phép đo theo thứ tự sau: 'Recall', 'TNR', 'Dominance', 'GMean'\n",
    "    recall_ls.append(...(y_test, preds_logit, pos_label=1))\n",
    "    tnr_ls.append((...(y_test, preds_logit, pos_label=0)))\n",
    "    dominance_ls.append(...(y_test, preds_logit))\n",
    "    gmean_ls.append(...(y_test, preds_logit))\n",
    "\n",
    "\n",
    "# sau vòng lặp nối các phép đo\n",
    "metrics = pd.concat([\n",
    "    pd.Series(recall_ls),\n",
    "    pd.Series(tnr_ls),\n",
    "    pd.Series(dominance_ls),\n",
    "    pd.Series(gmean_ls)], axis=1)\n",
    "\n",
    "# thêm tên cột và ngưỡng vào chỉ số\n",
    "metrics.columns = ['Recall', 'TNR', 'Dominance', 'GMean']\n",
    "metrics.index = thresholds\n",
    "\n",
    "# vẽ biểu đồ\n",
    "metrics.plot()\n",
    "plt.xlabel('Probability Threshold')\n",
    "plt.ylabel('Metrics')\n",
    "plt.title('Metrics vs Discriminant Threshold')"
   ]
  },
  {
   "cell_type": "markdown",
   "metadata": {
    "id": "4KJaFpyzwC6v"
   },
   "source": [
    "## Chỉ số của độ chính xác không cân bằng\n"
   ]
  },
  {
   "cell_type": "markdown",
   "metadata": {
    "id": "W9-0zmtX1c5T"
   },
   "source": [
    "### Trung bình nhân"
   ]
  },
  {
   "cell_type": "code",
   "execution_count": 15,
   "metadata": {
    "id": "f8b852KPwC6v",
    "outputId": "9928218b-aa26-4a39-95f1-e2745d461d53"
   },
   "outputs": [
    {
     "name": "stdout",
     "output_type": "stream",
     "text": [
      "G-Mean Baseline test:  0.0\n",
      "G-Mean Random Forest test: 0.7761798945543448\n",
      "G-Mean Logistic Regression test: 0.8431183026464842\n"
     ]
    }
   ],
   "source": [
    "## Yêu cầu 12:\n",
    "## VIẾT CODE Ở ĐÂY:\n",
    "print('G-Mean Baseline test: ', ...(y_test, ...))\n",
    "print('G-Mean Random Forest test:', ...(y_test, rf.predict(...)))\n",
    "print('G-Mean Logistic Regression test:', ...(y_test, logit.predict(...)))"
   ]
  },
  {
   "cell_type": "markdown",
   "metadata": {
    "id": "jaHG4dmvzVJn"
   },
   "source": [
    "<details><summary> Gợi ý </summary>\n",
    "\n",
    "Sử dụng ```geometric_mean_score()```\n",
    "\n",
    "</details>"
   ]
  },
  {
   "cell_type": "code",
   "execution_count": 16,
   "metadata": {
    "id": "qACVbcGgwC6v",
    "outputId": "4f68ecdf-ef92-49ea-804f-acd12287c145"
   },
   "outputs": [
    {
     "name": "stdout",
     "output_type": "stream",
     "text": [
      "Corrected G-Mean Baseline test:  0.0\n",
      "Corrected G-Mean Random Forest test: 0.6024552287103938\n",
      "Corrected G-Mean Logistic Regression test: 0.7108484722574886\n"
     ]
    }
   ],
   "source": [
    "## Yêu cầu 13:\n",
    "## VIẾT CODE Ở ĐÂY:\n",
    "gmean = ...(alpha=0.5, squared=True)(geometric_mean_score)\n",
    "\n",
    "print('Corrected G-Mean Baseline test: ', ...(y_test, ...))\n",
    "print('Corrected G-Mean Random Forest test:', ...(y_test, rf.predict(...)))\n",
    "print('Corrected G-Mean Logistic Regression test:', ...(y_test, logit.predict(...)))"
   ]
  },
  {
   "cell_type": "markdown",
   "metadata": {
    "id": "9edudZyMzZyw"
   },
   "source": [
    "<details><summary> Gợi ý </summary>\n",
    "\n",
    "Sử dụng ```make_index_balanced_accuracy()``` và ```gmean```\n",
    "\n",
    "</details>"
   ]
  },
  {
   "cell_type": "markdown",
   "metadata": {
    "id": "rapccjnFwC6v"
   },
   "source": [
    "### Độ chính xác"
   ]
  },
  {
   "cell_type": "code",
   "execution_count": 17,
   "metadata": {
    "id": "s4Hj28CSwC6w",
    "outputId": "e6466365-690b-4eb8-bde5-0d060c51bd23"
   },
   "outputs": [
    {
     "name": "stdout",
     "output_type": "stream",
     "text": [
      "Accuracy Baseline test:  0.9907377761514888\n",
      "Accuracy Random Forest test: 0.9962951104605955\n",
      "Accuracy Logistic Regression test: 0.996958331427526\n"
     ]
    }
   ],
   "source": [
    "## Yêu cầu 14:\n",
    "## VIẾT CODE Ở ĐÂY:\n",
    "print('Accuracy Baseline test: ', ...(y_test, ...))\n",
    "print('Accuracy Random Forest test:', ...(y_test, rf.predict(...)))\n",
    "print('Accuracy Logistic Regression test:', ...(y_test, logit.predict(...)))"
   ]
  },
  {
   "cell_type": "markdown",
   "metadata": {
    "id": "DAPUOnyPzuMY"
   },
   "source": [
    "<details><summary> Gợi ý </summary>\n",
    "\n",
    "Sử dụng ```accuracy_score()```\n",
    "\n",
    "</details>"
   ]
  },
  {
   "cell_type": "code",
   "execution_count": 18,
   "metadata": {
    "id": "ah4HTq3CwC6w",
    "outputId": "c9b835f3-9cd7-4cc2-9268-996fd5a535d3"
   },
   "outputs": [
    {
     "name": "stdout",
     "output_type": "stream",
     "text": [
      "Corrected Accuracy Baseline test:  0.4907806705467988\n",
      "Corrected Accuracy Random Forest test: 0.7953200510570445\n",
      "Corrected Accuracy Logistic Regression test: 0.8505423843041169\n"
     ]
    }
   ],
   "source": [
    "## Yêu cầu 15:\n",
    "## VIẾT CODE Ở ĐÂY:\n",
    "acc = ...(alpha=0.5, squared=True)(accuracy_score)\n",
    "\n",
    "print('Corrected Accuracy Baseline test: ', ...(y_test, ...))\n",
    "print('Corrected Accuracy Random Forest test:', ...(y_test, rf.predict(...)))\n",
    "print('Corrected Accuracy Logistic Regression test:', ...(y_test, logit.predict(...)))"
   ]
  },
  {
   "cell_type": "markdown",
   "metadata": {
    "id": "5q0BS1UJz0jZ"
   },
   "source": [
    "<details><summary> Gợi ý </summary>\n",
    "\n",
    "Sử dụng ```make_index_balanced_accuracy()``` và ```acc```\n",
    "\n",
    "</details>"
   ]
  },
  {
   "cell_type": "markdown",
   "metadata": {
    "id": "gL61Kk1GwUbp"
   },
   "source": [
    "# ROC-AUC"
   ]
  },
  {
   "cell_type": "code",
   "execution_count": 19,
   "metadata": {
    "id": "l0Qo6CJhwC6w"
   },
   "outputs": [],
   "source": [
    "from sklearn.metrics import (\n",
    "    roc_auc_score,\n",
    "    plot_roc_curve,\n",
    ")\n",
    "\n",
    "from yellowbrick.classifier import ROCAUC"
   ]
  },
  {
   "cell_type": "markdown",
   "metadata": {
    "id": "NLAQoG0GwZSE"
   },
   "source": [
    "## ROC-AUC"
   ]
  },
  {
   "cell_type": "code",
   "execution_count": 20,
   "metadata": {
    "id": "iM0-p-QNwcPJ"
   },
   "outputs": [
    {
     "name": "stdout",
     "output_type": "stream",
     "text": [
      "ROC-AUC Baseline test:  0.5\n",
      "ROC-AUC Random Forest test: 0.9433902127699593\n",
      "ROC-AUC Logistic Regression test: 0.9897875207217097\n"
     ]
    }
   ],
   "source": [
    "## Yêu cầu 16:\n",
    "## VIẾT CODE Ở ĐÂY:\n",
    "print('ROC-AUC Baseline test: ', ...(y_test, ...))\n",
    "print('ROC-AUC Random Forest test:', ...(y_test, rf.predict_proba(...)[:,1]))\n",
    "print('ROC-AUC Logistic Regression test:', ...(y_test, logit.predict_proba(...)[:,1]))"
   ]
  },
  {
   "cell_type": "markdown",
   "metadata": {
    "id": "lprbXB9n0EWh"
   },
   "source": [
    "<details><summary> Gợi ý </summary>\n",
    "\n",
    "Sử dụng ```roc_auc_score()```\n",
    "\n",
    "</details>"
   ]
  },
  {
   "cell_type": "markdown",
   "metadata": {
    "id": "F0Wy67Ciwevn"
   },
   "source": [
    "## Vẽ biểu đồ ROC-AUC\n",
    "\n",
    "https://scikit-learn.org/stable/modules/generated/sklearn.metrics.plot_roc_curve.html"
   ]
  },
  {
   "cell_type": "code",
   "execution_count": 21,
   "metadata": {
    "id": "KDPxrz7FwfIS"
   },
   "outputs": [
    {
     "data": {
      "image/png": "[encoded data removed]",
      "text/plain": [
       "<Figure size 576x396 with 1 Axes>"
      ]
     },
     "metadata": {},
     "output_type": "display_data"
    },
    {
     "data": {
      "image/png": "[encoded data removed]",
      "text/plain": [
       "<Figure size 576x396 with 1 Axes>"
      ]
     },
     "metadata": {},
     "output_type": "display_data"
    }
   ],
   "source": [
    "## Yêu cầu 17:\n",
    "## VIẾT CODE Ở ĐÂY:\n",
    "rf_disp = ...(rf, X_test, ...)\n",
    "logit_disp = ...(logit, ..., y_test)"
   ]
  },
  {
   "cell_type": "markdown",
   "metadata": {
    "id": "f0RtHWLe0OQj"
   },
   "source": [
    "<details><summary> Gợi ý </summary>\n",
    "\n",
    "Sử dụng ```plot_roc_curve()```\n",
    "\n",
    "</details>"
   ]
  },
  {
   "cell_type": "code",
   "execution_count": 22,
   "metadata": {
    "id": "dYoq2nOPwlA1"
   },
   "outputs": [
    {
     "data": {
      "text/plain": [
       "<sklearn.metrics._plot.roc_curve.RocCurveDisplay at 0x1ac0cec0888>"
      ]
     },
     "execution_count": 22,
     "metadata": {},
     "output_type": "execute_result"
    },
    {
     "data": {
      "image/png": "[encoded data removed]",
      "text/plain": [
       "<Figure size 576x396 with 1 Axes>"
      ]
     },
     "metadata": {},
     "output_type": "display_data"
    }
   ],
   "source": [
    "ax = plt.gca()\n",
    "rf_disp.plot(ax=ax, alpha=0.8)\n",
    "logit_disp.plot(ax=ax, alpha=0.8)"
   ]
  },
  {
   "cell_type": "markdown",
   "metadata": {
    "id": "6nAsjrSgwgsK"
   },
   "source": [
    "## ROC-AUC với yellowbrick\n",
    "\n",
    "https://www.scikit-yb.org/en/latest/api/classifier/rocauc.html"
   ]
  },
  {
   "cell_type": "code",
   "execution_count": 23,
   "metadata": {
    "id": "IPWUdsY2wqDO"
   },
   "outputs": [
    {
     "data": {
      "image/png": "[encoded data removed]",
      "text/plain": [
       "<Figure size 576x396 with 1 Axes>"
      ]
     },
     "metadata": {},
     "output_type": "display_data"
    },
    {
     "data": {
      "text/plain": [
       "<matplotlib.axes._subplots.AxesSubplot at 0x1ac0cf791c8>"
      ]
     },
     "execution_count": 23,
     "metadata": {},
     "output_type": "execute_result"
    }
   ],
   "source": [
    "## Yêu cầu 18:\n",
    "## VIẾT CODE Ở ĐÂY:\n",
    "visualizer = ...(rf, classes=[0, 1])\n",
    "\n",
    "visualizer.fit(X_train, y_train)        # Khớp dữ liệu huấn luyện với visualizer\n",
    "visualizer....(..., ...)        # Đánh giá mô hình trên dữ liệu kiểm tra\n",
    "visualizer.show()"
   ]
  },
  {
   "cell_type": "markdown",
   "metadata": {
    "id": "jaW3RE7-0ekB"
   },
   "source": [
    "<details><summary> Gợi ý </summary>\n",
    "\n",
    "Sử dụng ```ROCAUC()``` và ```score()```\n",
    "\n",
    "</details>"
   ]
  },
  {
   "cell_type": "code",
   "execution_count": 24,
   "metadata": {
    "id": "KzVnFjy-wrmK"
   },
   "outputs": [
    {
     "data": {
      "image/png": "[encoded data removed]",
      "text/plain": [
       "<Figure size 576x396 with 1 Axes>"
      ]
     },
     "metadata": {},
     "output_type": "display_data"
    },
    {
     "data": {
      "text/plain": [
       "<matplotlib.axes._subplots.AxesSubplot at 0x1ac0d099888>"
      ]
     },
     "execution_count": 24,
     "metadata": {},
     "output_type": "execute_result"
    }
   ],
   "source": [
    "## Yêu cầu 19:\n",
    "## VIẾT CODE Ở ĐÂY:\n",
    "visualizer = ...(logit, classes=[0, 1])\n",
    "\n",
    "visualizer.fit(X_train, y_train)        # Khớp dữ liệu huấn luyện với visualizer\n",
    "visualizer.score(..., ...)        # Đánh giá mô hình trên dữ liệu kiểm tra\n",
    "visualizer.show()                       # Hoàn thành và hiển thị kết quả"
   ]
  },
  {
   "cell_type": "markdown",
   "metadata": {
    "id": "4srRa6mz0fVO"
   },
   "source": [
    "<details><summary> Gợi ý </summary>\n",
    "\n",
    "Sử dụng ```ROCAUC()``` và ```score()```\n",
    "\n",
    "</details>"
   ]
  }
 ],
 "metadata": {
  "colab": {
   "collapsed_sections": [],
   "name": "[VN]12_2.  Các phép đánh giá - P2.ipynb",
   "provenance": [],
   "toc_visible": true
  },
  "kernelspec": {
   "display_name": "Python 3",
   "language": "python",
   "name": "python3"
  },
  "language_info": {
   "codemirror_mode": {
    "name": "ipython",
    "version": 3
   },
   "file_extension": ".py",
   "mimetype": "text/x-python",
   "name": "python",
   "nbconvert_exporter": "python",
   "pygments_lexer": "ipython3",
   "version": "3.7.6"
  },
  "toc": {
   "base_numbering": 1,
   "nav_menu": {},
   "number_sections": true,
   "sideBar": true,
   "skip_h1_title": false,
   "title_cell": "Table of Contents",
   "title_sidebar": "Contents",
   "toc_cell": false,
   "toc_position": {},
   "toc_section_display": true,
   "toc_window_display": true
  }
 },
 "nbformat": 4,
 "nbformat_minor": 1
}
