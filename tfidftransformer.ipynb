{
 "cells": [
  {
   "cell_type": "code",
   "execution_count": 2,
   "outputs": [],
   "source": [
    "import re\n",
    "import os\n",
    "import numpy as np\n",
    "import pandas as pd\n",
    "import string\n",
    "from matplotlib import pyplot as plt"
   ],
   "metadata": {
    "collapsed": false,
    "pycharm": {
     "name": "#%%\n"
    }
   }
  },
  {
   "cell_type": "code",
   "execution_count": 3,
   "outputs": [],
   "source": [
    "def load_train_test_imdb_data(data_dir):\n",
    "    \"\"\"Loads the IMDB train/test datasets from a folder path.\n",
    "    Input:\n",
    "    data_dir: path to the \"aclImdb\" folder.\n",
    "\n",
    "    Returns:\n",
    "    train/test datasets as pandas dataframes.\n",
    "    \"\"\"\n",
    "\n",
    "    data = {}\n",
    "    for split in [\"train\", \"test\"]:\n",
    "        data[split] = []\n",
    "        for sentiment in [\"neg\", \"pos\"]:\n",
    "            score = 1 if sentiment == \"pos\" else 0\n",
    "\n",
    "            path = os.path.join(data_dir, split, sentiment)\n",
    "            file_names = os.listdir(path)\n",
    "            for f_name in file_names:\n",
    "                with open(os.path.join(path, f_name), \"r\",\n",
    "                encoding=\"utf-8\") as f:\n",
    "                    review = f.read()\n",
    "                    data[split].append([review, score])\n",
    "\n",
    "    # CODE CỦA BẠN Ở ĐÂY\n",
    "    # Xáo trộn dữ liệu huấn luyện sử dụng \"np.random.shuffle\":\n",
    "    np.random.shuffle(data[\"train\"])\n",
    "\n",
    "    # Tạo khung dữ liệu huấn luyện \"data[\"train\"])\" chỉ có 2 cột: \"text\" và \"sentiment\"\n",
    "    data[\"train\"] = pd.DataFrame(data[\"train\"], columns=[\"text\", \"sentiment\"])\n",
    "\n",
    "    # Xáo trộn dữ liệu kiểm tra sử dụng \"np.random.shuffle\":\n",
    "    np.random.shuffle(data[\"test\"])\n",
    "\n",
    "    # Tạo khung dữ liệu kiểm tra \"data[\"test\"])\" chỉ có 2 cột: \"text\" và \"sentiment\"\n",
    "    data[\"test\"] = pd.DataFrame(data[\"test\"], columns=[\"text\", \"sentiment\"])\n",
    "\n",
    "    return data[\"train\"], data[\"test\"]"
   ],
   "metadata": {
    "collapsed": false,
    "pycharm": {
     "name": "#%%\n"
    }
   }
  },
  {
   "cell_type": "code",
   "execution_count": 4,
   "outputs": [],
   "source": [
    "train_data, test_data = load_train_test_imdb_data(\"data/aclImdb\")"
   ],
   "metadata": {
    "collapsed": false,
    "pycharm": {
     "name": "#%%\n"
    }
   }
  },
  {
   "cell_type": "code",
   "execution_count": 5,
   "outputs": [
    {
     "data": {
      "text/plain": "['this', 'is', 'not', 'a', 'sentence']"
     },
     "execution_count": 5,
     "metadata": {},
     "output_type": "execute_result"
    }
   ],
   "source": [
    "def clean_text(text):\n",
    "    \"\"\"\n",
    "    Applies some pre-processing on the given text.\n",
    "\n",
    "    Steps :\n",
    "    - Removing HTML tags\n",
    "    - Removing punctuation\n",
    "    - Lowering text\n",
    "    \"\"\"\n",
    "\n",
    "    # loại bỏ HTML tag\n",
    "    text = re.sub(r'<.*?>', '', text)\n",
    "\n",
    "    # CODE CỦA BẠN Ở ĐÂY\n",
    "    # loại bỏ các ký tự [\\], ['] và [\"] bằng phương thức resub:\n",
    "    text = re.sub(r\"\\\\\", \"\", text)\n",
    "    text = re.sub(r\"\\'\", \"\", text)\n",
    "    text = re.sub(r\"\\\"\", \"\", text)\n",
    "    # CODE CỦA BẠN Ở ĐÂY\n",
    "\n",
    "    # chuyển đổi văn bản thành chữ thường\n",
    "    text = text.strip().lower()\n",
    "\n",
    "    # thay dấu chấm bằng dấu cách\n",
    "    filters='!\"\\'#$%&()*+,-./:;<=>?@[\\\\]^_`{|}~\\t\\n'\n",
    "    translate_dict = dict((c, \" \") for c in filters)\n",
    "    translate_map = str.maketrans(translate_dict)\n",
    "    text = text.translate(translate_map)\n",
    "\n",
    "    return text\n",
    "\n",
    "# Ví dụ\n",
    "clean_text(\"<html>This <br> is  [\\] [\\'] [\\\"] not, a sentence.<\\html>\").split()"
   ],
   "metadata": {
    "collapsed": false,
    "pycharm": {
     "name": "#%%\n"
    }
   }
  },
  {
   "cell_type": "code",
   "execution_count": 6,
   "outputs": [
    {
     "data": {
      "text/plain": "                                                text  sentiment\n0  After seeing only half of the film in school b...          0\n1  In this paranoia-driven potboiler, our reporte...          0\n2  That's the sound of Stan and Ollie spinning in...          0\n3  This film could be one of the most underrated ...          1\n4  Time and time again, I've stated that if peopl...          1",
      "text/html": "<div>\n<style scoped>\n    .dataframe tbody tr th:only-of-type {\n        vertical-align: middle;\n    }\n\n    .dataframe tbody tr th {\n        vertical-align: top;\n    }\n\n    .dataframe thead th {\n        text-align: right;\n    }\n</style>\n<table border=\"1\" class=\"dataframe\">\n  <thead>\n    <tr style=\"text-align: right;\">\n      <th></th>\n      <th>text</th>\n      <th>sentiment</th>\n    </tr>\n  </thead>\n  <tbody>\n    <tr>\n      <th>0</th>\n      <td>After seeing only half of the film in school b...</td>\n      <td>0</td>\n    </tr>\n    <tr>\n      <th>1</th>\n      <td>In this paranoia-driven potboiler, our reporte...</td>\n      <td>0</td>\n    </tr>\n    <tr>\n      <th>2</th>\n      <td>That's the sound of Stan and Ollie spinning in...</td>\n      <td>0</td>\n    </tr>\n    <tr>\n      <th>3</th>\n      <td>This film could be one of the most underrated ...</td>\n      <td>1</td>\n    </tr>\n    <tr>\n      <th>4</th>\n      <td>Time and time again, I've stated that if peopl...</td>\n      <td>1</td>\n    </tr>\n  </tbody>\n</table>\n</div>"
     },
     "execution_count": 6,
     "metadata": {},
     "output_type": "execute_result"
    }
   ],
   "source": [
    "train_data.head()"
   ],
   "metadata": {
    "collapsed": false,
    "pycharm": {
     "name": "#%%\n"
    }
   }
  },
  {
   "cell_type": "code",
   "execution_count": 7,
   "outputs": [],
   "source": [
    "# write clean text to a new file\n",
    "with open(\"data/imdb_train_clean.txt\", \"w\", encoding=\"utf-8\") as f:\n",
    "    for text, score in train_data.values:\n",
    "        f.write(\"{} {}\\n\".format(clean_text(text), score))"
   ],
   "metadata": {
    "collapsed": false,
    "pycharm": {
     "name": "#%%\n"
    }
   }
  },
  {
   "cell_type": "code",
   "execution_count": 7,
   "outputs": [],
   "source": [],
   "metadata": {
    "collapsed": false,
    "pycharm": {
     "name": "#%%\n"
    }
   }
  },
  {
   "cell_type": "code",
   "execution_count": 8,
   "outputs": [
    {
     "name": "stdout",
     "output_type": "stream",
     "text": [
      "Accuracy on the IMDB dataset: 88.66\n"
     ]
    }
   ],
   "source": [
    "from sklearn.svm import LinearSVC\n",
    "from sklearn.metrics import accuracy_score\n",
    "from sklearn.feature_extraction.text import TfidfVectorizer\n",
    "\n",
    "\n",
    "# Chuyển mỗi văn bản thành một vectơ đếm từ\n",
    "vectorizer = TfidfVectorizer(stop_words=\"english\",\n",
    "                             preprocessor=clean_text,\n",
    "                             ngram_range=(1, 2))\n",
    "\n",
    "training_features = vectorizer.fit_transform(train_data[\"text\"])\n",
    "test_features = vectorizer.transform(test_data[\"text\"])\n",
    "\n",
    "# CODE CỦA BẠN Ở ĐÂY\n",
    "# Huấn luyện\n",
    "# Gán \"LinearSVC()\" vào một biến mô hình:\n",
    "model = LinearSVC()\n",
    "\n",
    "# Khớp mô hình với dữ liệu huấn luyện \"training_features\" và nhãn huấn luyện \"train_data[\"sentiment\"]\":\n",
    "model.fit(training_features, train_data[\"sentiment\"])\n",
    "\n",
    "# Dự đoán dữ liệu kiểm tra \"test_features\":\n",
    "y_test_pred = model.predict(test_features)\n",
    "# CODE CỦA BẠN Ở ĐÂY\n",
    "\n",
    "# Đánh giá\n",
    "acc = accuracy_score(test_data[\"sentiment\"], y_test_pred)\n",
    "\n",
    "print(\"Accuracy on the IMDB dataset: {:.2f}\".format(acc*100))"
   ],
   "metadata": {
    "collapsed": false,
    "pycharm": {
     "name": "#%%\n"
    }
   }
  },
  {
   "cell_type": "code",
   "execution_count": 9,
   "outputs": [
    {
     "name": "stderr",
     "output_type": "stream",
     "text": [
      "/Users/ngohongthai/Documents/projects/tensorflow-env/env/lib/python3.8/site-packages/sklearn/linear_model/_logistic.py:814: ConvergenceWarning: lbfgs failed to converge (status=1):\n",
      "STOP: TOTAL NO. of ITERATIONS REACHED LIMIT.\n",
      "\n",
      "Increase the number of iterations (max_iter) or scale the data as shown in:\n",
      "    https://scikit-learn.org/stable/modules/preprocessing.html\n",
      "Please also refer to the documentation for alternative solver options:\n",
      "    https://scikit-learn.org/stable/modules/linear_model.html#logistic-regression\n",
      "  n_iter_i = _check_optimize_result(\n"
     ]
    },
    {
     "data": {
      "text/plain": "{'C': 10, 'solver': 'saga'}"
     },
     "metadata": {},
     "output_type": "display_data"
    },
    {
     "name": "stdout",
     "output_type": "stream",
     "text": [
      "Cross-Validated Score of the Best Estimator: 0.893\n"
     ]
    }
   ],
   "source": [
    "from IPython.core.display_functions import display\n",
    "from sklearn.model_selection import GridSearchCV\n",
    "from sklearn.linear_model import LogisticRegression\n",
    "\n",
    "lr_model = LogisticRegression(random_state=1234)\n",
    "param_dict = {'C': [0.001, 0.01, 0.1, 1, 10],\n",
    "             'solver': ['sag', 'lbfgs', 'saga']}\n",
    "grid_search = GridSearchCV(lr_model, param_dict)\n",
    "grid_search.fit(training_features, train_data[\"sentiment\"])\n",
    "display(grid_search.best_params_)\n",
    "print(\"Cross-Validated Score of the Best Estimator: %.3f\" % grid_search.best_score_)"
   ],
   "metadata": {
    "collapsed": false,
    "pycharm": {
     "name": "#%%\n"
    }
   }
  },
  {
   "cell_type": "code",
   "execution_count": 9,
   "outputs": [],
   "source": [],
   "metadata": {
    "collapsed": false,
    "pycharm": {
     "name": "#%%\n"
    }
   }
  }
 ],
 "metadata": {
  "kernelspec": {
   "display_name": "Python 3",
   "language": "python",
   "name": "python3"
  },
  "language_info": {
   "codemirror_mode": {
    "name": "ipython",
    "version": 2
   },
   "file_extension": ".py",
   "mimetype": "text/x-python",
   "name": "python",
   "nbconvert_exporter": "python",
   "pygments_lexer": "ipython2",
   "version": "2.7.6"
  }
 },
 "nbformat": 4,
 "nbformat_minor": 0
}