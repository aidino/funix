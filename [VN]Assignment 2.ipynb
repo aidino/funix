{
 "cells": [
  {
   "cell_type": "markdown",
   "metadata": {
    "id": "a3R00Hn6wLMX",
    "pycharm": {
     "name": "#%% md\n"
    }
   },
   "source": [
    "# Phân tích cảm xúc bình luận phim Imdb và phân loại đánh giá hình ảnh chó mèo\n",
    "Trong assignment này, chúng ta sẽ xây dựng hai bộ phân loại học máy. Bộ phân loại đầu tiên được huấn luyện để nhận diện xem bình luận phim là tích cực hay tiêu cực, ở đây chúng ta sử dụng tập dữ liệu [Imdb movie reviews](http://ai.stanford.edu/~amaas/data/sentiment/aclImdb_v1.tar.gz) chứa 5000 bài bình luận có một nửa là tích cực, một nửa là tiêu cực. Bộ phân loại thứ hai là phân loại hình ảnh có thể dự đoán đó hình ảnh về chó hay mèo. Chúng ta sử dụng tập dữ liệu [Dogs vs. Cats](https://www.kaggle.com/c/dogs-vs-cats/data) từ cuộc thi Dogs vs. Cats trên Kaggle gồm 25000 hình ảnh về chó và mèo. \n",
    "<br>\n",
    "Mục đích chính của notebook này là chỉ cho bạn các bước cơ bản khi huấn luyện một mô hình học máy như sau:\n",
    "1. Nhận dữ liệu\n",
    "2. Load và tiền xử lý dữ liệu\n",
    "3. Chọn mô hình\n",
    "4. Huấn luyện mô hình\n",
    "5. Đánh giá mô hình\n",
    "6. Cải thiện mô hình"
   ]
  },
  {
   "cell_type": "markdown",
   "metadata": {
    "id": "c97fHikEwLMY",
    "pycharm": {
     "name": "#%% md\n"
    }
   },
   "source": [
    "## Phân tích cảm xúc bình luận phim\n",
    "Chúng ta hãy xây dựng bộ phân loại đầu tiên."
   ]
  },
  {
   "cell_type": "markdown",
   "metadata": {
    "id": "Tlc_hMgcwLMY",
    "pycharm": {
     "name": "#%% md\n"
    }
   },
   "source": [
    "### Import libs"
   ]
  },
  {
   "cell_type": "code",
   "execution_count": 1,
   "metadata": {
    "id": "c3Dp53_2wLMZ",
    "pycharm": {
     "name": "#%%\n"
    }
   },
   "outputs": [],
   "source": [
    "import re\n",
    "import os\n",
    "import numpy as np\n",
    "import pandas as pd\n",
    "from matplotlib import pyplot as plt"
   ]
  },
  {
   "cell_type": "markdown",
   "metadata": {
    "id": "fbTZOCR6wLMc",
    "pycharm": {
     "name": "#%% md\n"
    }
   },
   "source": [
    "### Download dữ liệu\n",
    "Download tập dữ liệu [Imdb movie reviews](http://ai.stanford.edu/~amaas/data/sentiment/aclImdb_v1.tar.gz) trích và đặt folder **aclImdb** vào folder **data**."
   ]
  },
  {
   "cell_type": "markdown",
   "metadata": {
    "id": "7dBt5veCwLMd",
    "pycharm": {
     "name": "#%% md\n"
    }
   },
   "source": [
    "### Load tập dữ liệu"
   ]
  },
  {
   "cell_type": "code",
   "execution_count": 2,
   "metadata": {
    "id": "YKv3uZ07wLMd",
    "pycharm": {
     "name": "#%%\n"
    }
   },
   "outputs": [],
   "source": [
    "def load_train_test_imdb_data(data_dir):\n",
    "    \"\"\"Loads the IMDB train/test datasets from a folder path.\n",
    "    Input:\n",
    "    data_dir: path to the \"aclImdb\" folder.\n",
    "    \n",
    "    Returns:\n",
    "    train/test datasets as pandas dataframes.\n",
    "    \"\"\"\n",
    "\n",
    "    data = {}\n",
    "    for split in [\"train\", \"test\"]:\n",
    "        data[split] = []\n",
    "    for sentiment in [\"neg\", \"pos\"]:\n",
    "        score = 1 if sentiment == \"pos\" else 0\n",
    "        path = os.path.join(data_dir, split, sentiment)\n",
    "        file_names = os.listdir(path)\n",
    "        for f_name in file_names:\n",
    "            with open(os.path.join(path, f_name), \"r\", encoding=\"utf-8\") as f:\n",
    "                review = f.read()\n",
    "                data[split].append([review, score])\n",
    "    \n",
    "    # CODE CỦA BẠN Ở ĐÂY\n",
    "    # Xáo trộn dữ liệu huấn luyện sử dụng \"np.random.shuffle\":\n",
    "    np.random.seed(42)\n",
    "    np.random.shuffle(data[\"train\"])\n",
    "\n",
    "    # Tạo khung dữ liệu huấn luyện \"data[\"train\"])\" chỉ có 2 cột: \"text\" và \"sentiment\"      \n",
    "    data[\"train\"] = pd.DataFrame(data[\"train\"], columns=[\"text\", \"sentiment\"])\n",
    "\n",
    "    # Xáo trộn dữ liệu kiểm tra sử dụng \"np.random.shuffle\":\n",
    "    np.random.seed(42)\n",
    "    np.random.shuffle(data[\"test\"])\n",
    "\n",
    "    # Tạo khung dữ liệu kiểm tra \"data[\"test\"])\" chỉ có 2 cột: \"text\" và \"sentiment\"      \n",
    "    data[\"test\"] = pd.DataFrame(data[\"test\"], columns=[\"text\", \"sentiment\"])\n",
    "\n",
    "    return data[\"train\"], data[\"test\"]"
   ]
  },
  {
   "cell_type": "markdown",
   "metadata": {
    "id": "92XP_4fwwLMg",
    "pycharm": {
     "name": "#%% md\n"
    }
   },
   "source": [
    "**load_train_test_imdb_data** giúp load các tập dữ liệu vào bên trong folder **acllmdb**.\n",
    "<br>\n",
    "Hoàn thành cell bên dưới để load các tập dữ liệu bên trong folder **acllmdb** bằng cách sử dụng **load_train_test_imdb_data** ở trên.\n",
    "<br>\n",
    "Sẽ mất vài phút để load các tập dữ liệu.\n",
    "Sau khi load xong, bây giờ chúng ta có các dataframe (khung dữ liệu) **train_data** và **test_data**. "
   ]
  },
  {
   "cell_type": "code",
   "execution_count": 3,
   "metadata": {
    "id": "s0dnGLAWwLMg",
    "pycharm": {
     "name": "#%%\n"
    }
   },
   "outputs": [],
   "source": [
    "# CODE CỦA BẠN Ở ĐÂY\n",
    "# Load tập dữ liệu\n",
    "train_data, test_data = load_train_test_imdb_data(\"data/aclImdb\")\n",
    "# CODE CỦA BẠN Ở ĐÂY"
   ]
  },
  {
   "cell_type": "markdown",
   "metadata": {
    "id": "qaa3RJ16wLMi",
    "pycharm": {
     "name": "#%% md\n"
    }
   },
   "source": [
    "In ra năm mục đầu tiên và các shape của tập dữ liệu **train_data** và **test_data**."
   ]
  },
  {
   "cell_type": "code",
   "execution_count": 4,
   "metadata": {
    "pycharm": {
     "name": "#%%\n"
    }
   },
   "outputs": [
    {
     "data": {
      "text/html": [
       "<div>\n",
       "<style scoped>\n",
       "    .dataframe tbody tr th:only-of-type {\n",
       "        vertical-align: middle;\n",
       "    }\n",
       "\n",
       "    .dataframe tbody tr th {\n",
       "        vertical-align: top;\n",
       "    }\n",
       "\n",
       "    .dataframe thead th {\n",
       "        text-align: right;\n",
       "    }\n",
       "</style>\n",
       "<table border=\"1\" class=\"dataframe\">\n",
       "  <thead>\n",
       "    <tr style=\"text-align: right;\">\n",
       "      <th></th>\n",
       "      <th>text</th>\n",
       "      <th>sentiment</th>\n",
       "    </tr>\n",
       "  </thead>\n",
       "  <tbody>\n",
       "    <tr>\n",
       "      <th>0</th>\n",
       "      <td>This movie is another Christian propaganda fil...</td>\n",
       "      <td>0</td>\n",
       "    </tr>\n",
       "    <tr>\n",
       "      <th>1</th>\n",
       "      <td>A woman who hates cats (Alice Krige) and her s...</td>\n",
       "      <td>1</td>\n",
       "    </tr>\n",
       "    <tr>\n",
       "      <th>2</th>\n",
       "      <td>Beast Wars is a show that is over-hyped, overp...</td>\n",
       "      <td>0</td>\n",
       "    </tr>\n",
       "    <tr>\n",
       "      <th>3</th>\n",
       "      <td>An excellent example of \"cowboy noir\", as it's...</td>\n",
       "      <td>1</td>\n",
       "    </tr>\n",
       "    <tr>\n",
       "      <th>4</th>\n",
       "      <td>Ok, basically this is a popcorn sci-fi movie, ...</td>\n",
       "      <td>1</td>\n",
       "    </tr>\n",
       "  </tbody>\n",
       "</table>\n",
       "</div>"
      ],
      "text/plain": [
       "                                                text  sentiment\n",
       "0  This movie is another Christian propaganda fil...          0\n",
       "1  A woman who hates cats (Alice Krige) and her s...          1\n",
       "2  Beast Wars is a show that is over-hyped, overp...          0\n",
       "3  An excellent example of \"cowboy noir\", as it's...          1\n",
       "4  Ok, basically this is a popcorn sci-fi movie, ...          1"
      ]
     },
     "execution_count": 4,
     "metadata": {},
     "output_type": "execute_result"
    }
   ],
   "source": [
    "train_data.head()"
   ]
  },
  {
   "cell_type": "code",
   "execution_count": 5,
   "metadata": {
    "pycharm": {
     "name": "#%%\n"
    }
   },
   "outputs": [
    {
     "data": {
      "text/html": [
       "<div>\n",
       "<style scoped>\n",
       "    .dataframe tbody tr th:only-of-type {\n",
       "        vertical-align: middle;\n",
       "    }\n",
       "\n",
       "    .dataframe tbody tr th {\n",
       "        vertical-align: top;\n",
       "    }\n",
       "\n",
       "    .dataframe thead th {\n",
       "        text-align: right;\n",
       "    }\n",
       "</style>\n",
       "<table border=\"1\" class=\"dataframe\">\n",
       "  <thead>\n",
       "    <tr style=\"text-align: right;\">\n",
       "      <th></th>\n",
       "      <th>text</th>\n",
       "      <th>sentiment</th>\n",
       "    </tr>\n",
       "  </thead>\n",
       "  <tbody>\n",
       "    <tr>\n",
       "      <th>0</th>\n",
       "      <td>Now, I loved \"Lethal Weapon\" and \"Kiss Kiss Ba...</td>\n",
       "      <td>0</td>\n",
       "    </tr>\n",
       "    <tr>\n",
       "      <th>1</th>\n",
       "      <td>First of all, I should point out that I really...</td>\n",
       "      <td>1</td>\n",
       "    </tr>\n",
       "    <tr>\n",
       "      <th>2</th>\n",
       "      <td>It's been said that some directors make small ...</td>\n",
       "      <td>0</td>\n",
       "    </tr>\n",
       "    <tr>\n",
       "      <th>3</th>\n",
       "      <td>\"The Seven-Ups\" seems like a replay of \"The Fr...</td>\n",
       "      <td>1</td>\n",
       "    </tr>\n",
       "    <tr>\n",
       "      <th>4</th>\n",
       "      <td>This timeless summer love story is a classic a...</td>\n",
       "      <td>1</td>\n",
       "    </tr>\n",
       "  </tbody>\n",
       "</table>\n",
       "</div>"
      ],
      "text/plain": [
       "                                                text  sentiment\n",
       "0  Now, I loved \"Lethal Weapon\" and \"Kiss Kiss Ba...          0\n",
       "1  First of all, I should point out that I really...          1\n",
       "2  It's been said that some directors make small ...          0\n",
       "3  \"The Seven-Ups\" seems like a replay of \"The Fr...          1\n",
       "4  This timeless summer love story is a classic a...          1"
      ]
     },
     "execution_count": 5,
     "metadata": {},
     "output_type": "execute_result"
    }
   ],
   "source": [
    "test_data.head()"
   ]
  },
  {
   "cell_type": "code",
   "execution_count": 7,
   "metadata": {
    "pycharm": {
     "name": "#%%\n"
    }
   },
   "outputs": [
    {
     "data": {
      "text/plain": [
       "(25000, 2)"
      ]
     },
     "execution_count": 7,
     "metadata": {},
     "output_type": "execute_result"
    }
   ],
   "source": [
    "train_data.shape"
   ]
  },
  {
   "cell_type": "code",
   "execution_count": 8,
   "metadata": {
    "pycharm": {
     "name": "#%%\n"
    }
   },
   "outputs": [
    {
     "data": {
      "text/plain": [
       "(25000, 2)"
      ]
     },
     "execution_count": 8,
     "metadata": {},
     "output_type": "execute_result"
    }
   ],
   "source": [
    "test_data.shape"
   ]
  },
  {
   "cell_type": "markdown",
   "metadata": {
    "id": "33-xyQ8HwLMm",
    "pycharm": {
     "name": "#%% md\n"
    }
   },
   "source": [
    "### Tiền xử lý bình luận\n",
    "Chúng ta có hàm **clean_text** giúp dọn các bình luận do đó việc huấn luyện mô hình sẽ dễ dàng hơn. Ở đây chúng ta dọn những thứ như HTML tag, loại bỏ dấu chấm, chuyển chữ viết hoa thành chữ thường. "
   ]
  },
  {
   "cell_type": "code",
   "execution_count": 10,
   "metadata": {
    "id": "9kQLWUrRwLMn",
    "pycharm": {
     "name": "#%%\n"
    }
   },
   "outputs": [
    {
     "data": {
      "text/plain": [
       "['this', 'is', 'not', 'a', 'sentence']"
      ]
     },
     "execution_count": 10,
     "metadata": {},
     "output_type": "execute_result"
    }
   ],
   "source": [
    "def clean_text(text):\n",
    "    \"\"\"\n",
    "    Applies some pre-processing on the given text.\n",
    "\n",
    "    Steps :\n",
    "    - Removing HTML tags\n",
    "    - Removing punctuation\n",
    "    - Lowering text\n",
    "    \"\"\"\n",
    "    \n",
    "    # loại bỏ HTML tag\n",
    "    text = re.sub(r'<.*?>', '', text)\n",
    "    \n",
    "    # CODE CỦA BẠN Ở ĐÂY\n",
    "    # loại bỏ các ký tự [\\], ['] và [\"] bằng phương thức resub:\n",
    "    text = re.sub(r'[\\[\\]\\'\\\"]', '', text)\n",
    "    # CODE CỦA BẠN Ở ĐÂY\n",
    "    \n",
    "    # chuyển đổi văn bản thành chữ thường\n",
    "    text = text.strip().lower()\n",
    "    \n",
    "    # thay dấu chấm bằng dấu cách\n",
    "    filters='!\"\\'#$%&()*+,-./:;<=>?@[\\\\]^_`{|}~\\t\\n'\n",
    "    translate_dict = dict((c, \" \") for c in filters)\n",
    "    translate_map = str.maketrans(translate_dict)\n",
    "    text = text.translate(translate_map)\n",
    "\n",
    "    return text\n",
    "\n",
    "# Ví dụ\n",
    "clean_text(\"<html>This is not a sentence.<\\html>\").split()"
   ]
  },
  {
   "cell_type": "markdown",
   "metadata": {
    "id": "VZDUWE1SwLMp",
    "pycharm": {
     "name": "#%% md\n"
    }
   },
   "source": [
    "### Biểu diễn bình luận dưới dạng vectơ\n",
    "Để huấn luyện các bình luận với mô hình học máy, chúng ta cần chuyển chúng thành các vectơ. Có nhiều cách để chuyển một bình luận thành vectơ (văn bản nói chung), ở đây chúng ta sử dụng mô hình [túi từ (bag-of-words)](https://en.wikipedia.org/wiki/Bag-of-words_model) thường được dùng khi huấn luyện với các thuật toán học máy truyền thống. Chúng ta sẽ sử dụng sickit-learn [CountVectorizer](https://scikit-learn.org/stable/modules/generated/sklearn.feature_extraction.text.CountVectorizer.html) giúp tạo túi từ dễ dàng hơn. Hãy chạy cell bên dưới để xem ví dụ. "
   ]
  },
  {
   "cell_type": "code",
   "execution_count": null,
   "metadata": {
    "id": "fEfA14LTwLMp",
    "pycharm": {
     "name": "#%%\n"
    }
   },
   "outputs": [],
   "source": [
    "from sklearn.feature_extraction.text import CountVectorizer\n",
    "\n",
    "training_texts = [\n",
    "    \"This is a good cat\",\n",
    "    \"This is a bad day\"\n",
    "]\n",
    "\n",
    "test_texts = [\n",
    "    \"This day is a good day\"\n",
    "]\n",
    "\n",
    "# vectorizer này sẽ giúp bỏ qua các stop word (từ dừng)\n",
    "vectorizer = CountVectorizer(\n",
    "    stop_words=\"english\",\n",
    "    preprocessor=clean_text\n",
    ")\n",
    "\n",
    "# CODE CỦA BẠN Ở ĐÂY\n",
    "# khớp vectorizer trong văn bản huấn luyện \"training_texts\"\n",
    "vectorizer.fit(...)\n",
    "# CODE CỦA BẠN Ở ĐÂY\n",
    "\n",
    "# lấy từ vựng của vectorizer\n",
    "inv_vocab = {v: k for k, v in vectorizer.vocabulary_.items()}\n",
    "vocabulary = [inv_vocab[i] for i in range(len(inv_vocab))]\n",
    "\n",
    "# Ví dụ về vectơ hóa\n",
    "pd.DataFrame(\n",
    "    data=vectorizer.transform(test_texts).toarray(),\n",
    "    index=[\"test sentence\"],\n",
    "    columns=vocabulary\n",
    ")"
   ]
  },
  {
   "cell_type": "markdown",
   "metadata": {
    "id": "x26OLYxFwLMt",
    "pycharm": {
     "name": "#%% md\n"
    }
   },
   "source": [
    "### Tạo CountVectorizer\n",
    "Vectorier được dùng để vectơ hóa các bình luận."
   ]
  },
  {
   "cell_type": "code",
   "execution_count": null,
   "metadata": {
    "id": "3eC_B7oJwLMt",
    "pycharm": {
     "name": "#%%\n"
    }
   },
   "outputs": [],
   "source": [
    "# Chuyển mỗi văn bản thành một vectơ đếm từ\n",
    "vectorizer = CountVectorizer(stop_words=\"english\",\n",
    "                             preprocessor=clean_text)"
   ]
  },
  {
   "cell_type": "markdown",
   "metadata": {
    "id": "uWyPbrXzwLMv",
    "pycharm": {
     "name": "#%% md\n"
    }
   },
   "source": [
    "### Biến đổi bình luận thành vectơ"
   ]
  },
  {
   "cell_type": "markdown",
   "metadata": {
    "id": "kALz2cbWwLMv",
    "pycharm": {
     "name": "#%% md\n"
    }
   },
   "source": [
    "Chúng ta sẽ sử dụng hàm **fit_transform** của **vectorizer** để chuyển **train_data[\"text\"]** và **test_data[\"text\"]** thành các vectơ."
   ]
  },
  {
   "cell_type": "code",
   "execution_count": null,
   "metadata": {
    "id": "Vs-WWhG0wLMw",
    "pycharm": {
     "name": "#%%\n"
    }
   },
   "outputs": [],
   "source": [
    "# CODE CỦA BẠN Ở ĐÂY\n",
    "# Chuyển bình luận thành vectơ\n",
    "training_features = ...  \n",
    "test_features = ...\n",
    "# CODE CỦA BẠN Ở ĐÂY"
   ]
  },
  {
   "cell_type": "markdown",
   "metadata": {
    "id": "D3MMjCM7wLMy",
    "pycharm": {
     "name": "#%% md\n"
    }
   },
   "source": [
    "### Tạo và huấn luyện mô hình\n",
    "Có rất nhiều thuật toán học máy mà chúng ta có thể sử dụng trong trường hợp này. Ở đây chúng ta sử dụng Hồi quy Logistic, nó giúp huấn luyện rất nhanh và thường được sử dụng cho bài toán phân loại văn bản với tập dữ liệu nhỏ. Bạn có thể tìm hiểu thêm thông tin chi tiết về thuật toán này và nhiều thuật toán khác trong khóa học sau của chuyên ngành học máy này. Chạy cell bên dưới để tạo và huấn luyện mô hình."
   ]
  },
  {
   "cell_type": "code",
   "execution_count": null,
   "metadata": {
    "id": "5HV0Dp10wLMy",
    "pycharm": {
     "name": "#%%\n"
    }
   },
   "outputs": [],
   "source": [
    "from sklearn.svm import LinearSVC\n",
    "# CODE CỦA BẠN Ở ĐÂY\n",
    "# Gán \"LinearSVC()\" cho biến mô hình:\n",
    "model = ...\n",
    "\n",
    "# Khớp mô hình với dữ liệu huấn luyện \"training_features\" và nhãn huấn luyện \"train_data[\"sentiment\"]\":\n",
    "model....\n",
    "# CODE CỦA BẠN Ở ĐÂY"
   ]
  },
  {
   "cell_type": "markdown",
   "metadata": {
    "id": "xaRp6c-dwLM1",
    "pycharm": {
     "name": "#%% md\n"
    }
   },
   "source": [
    "### Đánh giá mô hình\n",
    "Chúng ta sẽ sử dụng **accuracy_score** để đánh giá mô hình trên **test_data**. Xem tra tài liệu [accuracy_score](https://scikit-learn.org/stable/modules/generated/sklearn.metrics.accuracy_score.html) ở đây. Hãy hoàn thành code bên dưới để tính độ chính xác của mô hình trên **test_data**."
   ]
  },
  {
   "cell_type": "code",
   "execution_count": null,
   "metadata": {
    "id": "ak8OIvbswLM1",
    "pycharm": {
     "name": "#%%\n"
    }
   },
   "outputs": [],
   "source": [
    "from sklearn.metrics import accuracy_score\n",
    "\n",
    "# CODE CỦA BẠN Ở ĐÂY\n",
    "# Dự đoán tập dữ liệu kiểm tra:\n",
    "y_test_pred = ...\n",
    "# Đánh giá\n",
    "acc = ...\n",
    "# CODE CỦA BẠN Ở ĐÂY\n",
    "\n",
    "print(\"Accuracy on the IMDB dataset: {:.2f}%\".format(acc*100))"
   ]
  },
  {
   "cell_type": "markdown",
   "metadata": {
    "id": "MsjyRrxjwLM3",
    "pycharm": {
     "name": "#%% md\n"
    }
   },
   "source": [
    "**Quizz:** Độ chính xác của mô hình trên test set là bao nhiêu?\n",
    "<br>\n",
    "**Đáp án:** 83.68%"
   ]
  },
  {
   "cell_type": "markdown",
   "metadata": {
    "id": "Va-4j5euwLM4",
    "pycharm": {
     "name": "#%% md\n"
    }
   },
   "source": [
    "### (Tùy chọn) Đánh giá mô hình sử dụng f1 score\n",
    "Hoàn thành cell bên dưới để nhận điểm thưởng. Hãy sử dụng f1 score để đánh giá mô hình."
   ]
  },
  {
   "cell_type": "code",
   "execution_count": null,
   "metadata": {
    "id": "THQYKiAJwLM4",
    "pycharm": {
     "name": "#%%\n"
    }
   },
   "outputs": [],
   "source": [
    "from sklearn.metrics import f1_score\n",
    "\n",
    "# CODE CỦA BẠN Ở ĐÂY\n",
    "# Đánh giá sử dụng f1\n",
    "f1 = ...\n",
    "# CODE CỦA BẠN Ở ĐÂY\n",
    "\n",
    "print(\"F1 on the IMDB dataset: {:.2f}\".format(f1))"
   ]
  },
  {
   "cell_type": "markdown",
   "metadata": {
    "id": "qE3J0xDmwLM6",
    "pycharm": {
     "name": "#%% md\n"
    }
   },
   "source": [
    "### Cải thiện mô hình\n",
    "Bây giờ, chúng ta hãy cố gắng cải thiện độ chính xác của mô hình trên test set. Có nhiều cách để cải thiện hiện mô hình học máy, ở đây chúng ta sẽ thử một phương thức khác để biểu diễn các bình luận thành các vectơ có [tf-idf](https://en.wikipedia.org/wiki/Tf%E2%80%93idf) với [n-gram](https://en.wikipedia.org/wiki/N-gram). Hãy chạy cell sau để huấn luyện mô hình mới và xem độ chính xác. "
   ]
  },
  {
   "cell_type": "code",
   "execution_count": null,
   "metadata": {
    "id": "jCIkfKuTwLM6",
    "pycharm": {
     "name": "#%%\n"
    }
   },
   "outputs": [],
   "source": [
    "from sklearn.svm import LinearSVC\n",
    "from sklearn.metrics import accuracy_score\n",
    "from sklearn.feature_extraction.text import TfidfVectorizer\n",
    "\n",
    "\n",
    "# Chuyển mỗi văn bản thành một vectơ đếm từ\n",
    "vectorizer = TfidfVectorizer(stop_words=\"english\",\n",
    "                             preprocessor=clean_text,\n",
    "                             ngram_range=(1, 2))\n",
    "\n",
    "training_features = vectorizer.fit_transform(train_data[\"text\"])    \n",
    "test_features = vectorizer.transform(test_data[\"text\"])\n",
    "\n",
    "# CODE CỦA BẠN Ở ĐÂY\n",
    "# Huấn luyện\n",
    "# Gán \"LinearSVC()\" vào một biến mô hình:\n",
    "model = ...\n",
    "\n",
    "# Khớp mô hình với dữ liệu huấn luyện \"training_features\" và nhãn huấn luyện \"train_data[\"sentiment\"]\":\n",
    "model....\n",
    "\n",
    "# Dự đoán dữ liệu kiểm tra \"test_features\":\n",
    "y_test_pred = ...\n",
    "# CODE CỦA BẠN Ở ĐÂY\n",
    "\n",
    "# Đánh giá\n",
    "acc = accuracy_score(test_data[\"sentiment\"], y_test_pred)\n",
    "\n",
    "print(\"Accuracy on the IMDB dataset: {:.2f}\".format(acc*100))"
   ]
  },
  {
   "cell_type": "markdown",
   "metadata": {
    "id": "iwrvxYawwLM-",
    "pycharm": {
     "name": "#%% md\n"
    }
   },
   "source": [
    "**Quizz:** Độ chính xác của mô hình trên test set là bao nhiêu?\n",
    "<br>\n",
    "**Đáp án:**"
   ]
  },
  {
   "cell_type": "markdown",
   "metadata": {
    "id": "8iBYeg77wLM-",
    "pycharm": {
     "name": "#%% md\n"
    }
   },
   "source": [
    "### (Tùy chọn) Đánh giá mô hình đã carit hiện sử dụng f1 score\n",
    "Hoàn thành cell bên dưới để nhận điểm thưởng. Sử dụng f1 score để đánh giá mô hình."
   ]
  },
  {
   "cell_type": "code",
   "execution_count": null,
   "metadata": {
    "id": "FplNS_6-wLM_",
    "pycharm": {
     "name": "#%%\n"
    }
   },
   "outputs": [],
   "source": [
    "from sklearn.metrics import f1_score\n",
    "\n",
    "# CODE CỦA BẠN Ở ĐÂY\n",
    "# Đánh giá sử dụng f1\n",
    "f1 = ...\n",
    "# CODE CỦA BẠN Ở ĐÂY\n",
    "\n",
    "print(\"F1 on the IMDB dataset: {:.2f}\".format(f1))"
   ]
  },
  {
   "cell_type": "markdown",
   "metadata": {
    "id": "wV3qV9KYwLNB",
    "pycharm": {
     "name": "#%% md\n"
    }
   },
   "source": [
    "## Phân loại hình ảnh chó mèo\n",
    "Hãy xây dựng bộ phân loại hình ảnh chó-mèo thứ hai. Ở đây chúng ta sẽ sử dụng thuật toán Neural Network (mạng nơ-ron) cho bài toán phân loại ảnh này. Có nhiều kiểu kiến trúc mạng nơ-ron cho các bài toán khác nhau. Đơn giản nhất là **Mạng nơ-ron truyền thẳng (FNN)**. Với bài toán phân loại hình ảnh thì phù hợp dùng **Mạng nơ-ron tích chập (CNN)**. Tuy nhiên do khóa học này được thiết kế để giới thiệu các thuật toán Học máy căn bản mà **CNN** là một loại thuật toán nâng cao và framework mà chúng ta sử dụng trong suốt chứng chỉ là **scikit-learn** lại không hỗ trợ **CNN** nên ở đây chúng ta chỉ dùng **FNN** cho bài toán này để minh họa bài toán phân loại hình ảnh. "
   ]
  },
  {
   "cell_type": "markdown",
   "metadata": {
    "id": "JgDmgRgOwLNB",
    "pycharm": {
     "name": "#%% md\n"
    }
   },
   "source": [
    "### Import lib"
   ]
  },
  {
   "cell_type": "code",
   "execution_count": null,
   "metadata": {
    "id": "QHFDj5xkwLNC",
    "pycharm": {
     "name": "#%%\n"
    }
   },
   "outputs": [],
   "source": [
    "import cv2"
   ]
  },
  {
   "cell_type": "markdown",
   "metadata": {
    "id": "CRepx05iwLNE",
    "pycharm": {
     "name": "#%% md\n"
    }
   },
   "source": [
    "### Download tập dữ liệu\n",
    "Chúng ta sẽ sử dụng tập dữ liệu [Dog vs Cats](https://www.kaggle.com/c/dogs-vs-cats/data) từ Kaggle.\n",
    "<br>\n",
    "Download tập dữ liệu từ link trên (trước tiên bạn cần tạo tài khoản Kaggle để download dữ liệu).\n",
    "<br>\n",
    "Sau khi download bạn sẽ nhận được một file zip là **dogs-vs-cats.zip**, hãy giải nén nó.\n",
    "<br>\n",
    "Sau khi giải nén sẽ được 3 file. Bạn chỉ cần file **train.zip** cho assignment này.\n",
    "<br>\n",
    "Giải nén tất cả hình ảnh trong file **train.zip** vào folder **dog_cat_train**.\n",
    "<br>\n",
    "Sao chép **dog_cat_train** vào folder **data** cho assignment này."
   ]
  },
  {
   "cell_type": "markdown",
   "metadata": {
    "id": "HHqCdzwGwLNF",
    "pycharm": {
     "name": "#%% md\n"
    }
   },
   "source": [
    "### Load dữ liệu"
   ]
  },
  {
   "cell_type": "code",
   "execution_count": null,
   "metadata": {
    "id": "qIpAp4KJwLNF",
    "pycharm": {
     "name": "#%%\n"
    }
   },
   "outputs": [],
   "source": [
    "def get_cat_dog_data(folder, image_size):\n",
    "    \"\"\"\n",
    "    Get the cat dog data\n",
    "    Inputs: folder: The folder path\n",
    "            image_size: Resize all the image sizes to image_size\n",
    "    \n",
    "    Output: images, labels numpy array\n",
    "    \"\"\"\n",
    "    images, labels = [], []\n",
    "    \n",
    "    for file in os.listdir(folder):\n",
    "        # CODE CỦA BẠN Ở ĐÂY\n",
    "        # Load một hình ảnh vào image_data với đường dẫn hình ảnh là \"os.path.join(folder, file)\":\n",
    "        image_data = ...\n",
    "\n",
    "        # Thay đổi kích thước hình ảnh thành \"(image_size, image_size)\"\":\n",
    "        image_data = ...\n",
    "\n",
    "        # Nối image_data vào list images:\n",
    "        ...\n",
    "        # Nối nhãn dữ liệu \"dog\" hoặc \"cat\" vào list labels dựa theo tên \"file\":\n",
    "        # Nếu hình ảnh về chú chó, nhãn sẽ là is 1, nếu không sẽ là 0.\n",
    "        if ...:\n",
    "            ...\n",
    "        else:\n",
    "            ...\n",
    "        # CODE CỦA BẠN Ở ĐÂY\n",
    "    return np.array(images), np.array(labels) "
   ]
  },
  {
   "cell_type": "markdown",
   "metadata": {
    "id": "UhuwzGBHwLNH",
    "pycharm": {
     "name": "#%% md\n"
    }
   },
   "source": [
    "Sử dụng hàm **get_cat_dog_data** để load dữ liệu bên trong folder **dog_cat_train**.\n",
    "<br>\n",
    "Sử dụng **image_size = 28** khi load dữ liệu. Ở đây chúng ta chia tỷ lệ tất cả các hình ảnh thành size 28x28.\n",
    "<br>\n",
    "Có thể tốn vài phút để tải hình ảnh."
   ]
  },
  {
   "cell_type": "code",
   "execution_count": null,
   "metadata": {
    "id": "3hrEuQ0KwLNH",
    "pycharm": {
     "name": "#%%\n"
    },
    "scrolled": false
   },
   "outputs": [],
   "source": [
    "# CODE CỦA BẠN Ở ĐÂY\n",
    "images, labels = ...\n",
    "# CODE CỦA BẠN Ở ĐÂY"
   ]
  },
  {
   "cell_type": "markdown",
   "metadata": {
    "id": "xqv1znKjwLNJ",
    "pycharm": {
     "name": "#%% md\n"
    }
   },
   "source": [
    "### In ra shape của biến **images** và **labels**"
   ]
  },
  {
   "cell_type": "code",
   "execution_count": null,
   "metadata": {
    "id": "P48Y27eDwLNJ",
    "pycharm": {
     "name": "#%%\n"
    }
   },
   "outputs": [],
   "source": [
    "# CODE CỦA BẠN Ở ĐÂY\n",
    "print(...)\n",
    "# CODE CỦA BẠN Ở ĐÂY"
   ]
  },
  {
   "cell_type": "markdown",
   "metadata": {
    "id": "Hg1vlfEDwLNL",
    "pycharm": {
     "name": "#%% md\n"
    }
   },
   "source": [
    "Hãy hiển thị một số hình ảnh."
   ]
  },
  {
   "cell_type": "code",
   "execution_count": null,
   "metadata": {
    "id": "gag5gQv1wLNL",
    "pycharm": {
     "name": "#%%\n"
    }
   },
   "outputs": [],
   "source": [
    "w=10\n",
    "h=10\n",
    "fig=plt.figure(figsize=(8, 8))\n",
    "columns = 4\n",
    "rows = 5\n",
    "for i in range(1, columns*rows +1):\n",
    "    img = np.random.randint(10, size=(h,w))\n",
    "    fig.add_subplot(rows, columns, i)\n",
    "    plt.imshow(images[i+12490])\n",
    "plt.show()"
   ]
  },
  {
   "cell_type": "markdown",
   "metadata": {
    "id": "YtpLAGn5wLNO",
    "pycharm": {
     "name": "#%% md\n"
    }
   },
   "source": [
    "### Tiền xử lý hình ảnh\n",
    "Mỗi hình ảnh có shape 28x28x3 là một mảng ba chiều; để đưa hình ảnh vào thuật toán **FNN**, chúng ta cần chuyển đổi chúng thành mảng một chiều để có shape 2352. Chúng ta cũng chia tỷ lệ giá trị điểm ảnh theo phạm vi [0, 1].\n",
    "<br>\n",
    "Hoàn thành cell bên dưới. Reshape biến **images** thành shape (số lượng hình ảnh, 28*28*3). Chia tỷ lệ tất cả các giá trị thành phạm vi [0, 1] bằng cách chia cho 255."
   ]
  },
  {
   "cell_type": "code",
   "execution_count": null,
   "metadata": {
    "id": "Vy7t1w88wLNP",
    "pycharm": {
     "name": "#%%\n"
    },
    "scrolled": false
   },
   "outputs": [],
   "source": [
    "# CODE CỦA BẠN Ở ĐÂY\n",
    "# Reshape images, làm phẳng tất cả hình ảnh\n",
    "# use the reshape function\n",
    "images = ...\n",
    "print(images.shape)\n",
    "\n",
    "# Chia tỷ lệ mọi giá trị điểm ảnh giữa 0 và 1\n",
    "images = ...\n",
    "# CODE CỦA BẠN Ở ĐÂY"
   ]
  },
  {
   "cell_type": "markdown",
   "metadata": {
    "id": "0F_EBWBTwLNS",
    "pycharm": {
     "name": "#%% md\n"
    }
   },
   "source": [
    "### Chia tách tập dữ liệu\n",
    "Hãy chia tập dữ liệu thành train/test với tỷ lệ 9:1. Chạy cell dưới đây để chia tập dữ liệu."
   ]
  },
  {
   "cell_type": "code",
   "execution_count": null,
   "metadata": {
    "id": "hRN8vozTwLNT",
    "pycharm": {
     "name": "#%%\n"
    }
   },
   "outputs": [],
   "source": [
    "from sklearn.model_selection import train_test_split\n",
    "\n",
    "# CODE CỦA BẠN Ở ĐÂY\n",
    "X_train, X_test, y_train, y_test = ...\n",
    "# CODE CỦA BẠN Ở ĐÂY"
   ]
  },
  {
   "cell_type": "markdown",
   "metadata": {
    "id": "bd3tTaf2wLNX",
    "pycharm": {
     "name": "#%% md\n"
    }
   },
   "source": [
    "In ra shape của các biến **X_train, X_test, y_train, y_test**.\n",
    "<br>\n",
    "In ra số lượng chó, mèo cho tập dữ liệu huấn luyện và kiểm tra cho tập dữ liệu train và test sử dụng các biến **y_train** và **y_test**."
   ]
  },
  {
   "cell_type": "code",
   "execution_count": null,
   "metadata": {
    "id": "ImDegOx3wLNX",
    "pycharm": {
     "name": "#%%\n"
    },
    "scrolled": false
   },
   "outputs": [],
   "source": [
    "# CODE CỦA BẠN Ở ĐÂY\n",
    "print(...)\n",
    "# CODE CỦA BẠN Ở ĐÂY"
   ]
  },
  {
   "cell_type": "markdown",
   "metadata": {
    "id": "4q2bRgpqwLNa",
    "pycharm": {
     "name": "#%% md\n"
    }
   },
   "source": [
    "### Tạo và huấn luyện mô hình\n",
    "Hãy tạo và huấn luyện mô hình sử dụng **scikit-learn**. Bạn không cần lo lắng quá nhiều về chi tiết của mô hình lúc này, chúng ta sẽ nghiên cứu nó kỹ hơn trong khóa sau. Hãy chạy cell dưới đây để tạo và huấn luyện mô hình **MLPClassifier()** với các tham số: \n",
    "\n",
    "  * solver='adam'\n",
    "  * alpha=1e-5\n",
    "  * activation='relu'\n",
    "  * hidden_layer_sizes=(64, 64)\n",
    "  * random_state=1\n",
    "\n",
    "Để biết thêm chi tiết về các tham số của MLPClassifier, hãy xem [MLPClassifier](https://scikit-learn.org/stable/modules/generated/sklearn.neural_network.MLPClassifier.html)"
   ]
  },
  {
   "cell_type": "code",
   "execution_count": null,
   "metadata": {
    "id": "dlftpETCwLNb",
    "pycharm": {
     "name": "#%%\n"
    }
   },
   "outputs": [],
   "source": [
    "from ... import ...\n",
    "\n",
    "# tạo mô hình mạng nơ-ron truyền thẳng create the \n",
    "nn_model = ...\n",
    "\n",
    "# huấn luyện mô hình\n",
    "nn_model.fit(...)"
   ]
  },
  {
   "cell_type": "markdown",
   "metadata": {
    "id": "BCyrWsFmwLNe",
    "pycharm": {
     "name": "#%% md\n"
    }
   },
   "source": [
    "### Đánh giá mô hình\n",
    "Chúng ta sẽ sử dụng hàm **score** của lớp [MLPClassifier](https://scikit-learn.org/stable/modules/generated/sklearn.neural_network.MLPClassifier.html) để đánh giá độ chính xác của **X_train** và **X_test**."
   ]
  },
  {
   "cell_type": "code",
   "execution_count": null,
   "metadata": {
    "id": "Rzy07tthwLNf",
    "pycharm": {
     "name": "#%%\n"
    }
   },
   "outputs": [],
   "source": [
    "# CODE CỦA BẠN Ở ĐÂY\n",
    "# đánh giá mô hình\n",
    "train_accuracy = ...\n",
    "\n",
    "test_accuracy = ...\n",
    "# CODE CỦA BẠN Ở ĐÂY\n",
    "\n",
    "print (\"train_accuracy: {:.2f}\".format(train_accuracy))\n",
    "print (\"test_accuracy: {:.2f}\".format(test_accuracy))"
   ]
  },
  {
   "cell_type": "markdown",
   "metadata": {
    "id": "7-0_il5gwLNh",
    "pycharm": {
     "name": "#%% md\n"
    }
   },
   "source": [
    "**Quizz:** Độ chính xác của mô hình trên train set là?\n",
    "<br>\n",
    "**Đáp án:**\n",
    "<br>\n",
    "**Quizz:** Độ chính xác của mô hình trên test set là?\n",
    "<br>\n",
    "**Đáp án:**"
   ]
  },
  {
   "cell_type": "markdown",
   "metadata": {
    "id": "OBJcGLwDwLNh",
    "pycharm": {
     "name": "#%% md\n"
    }
   },
   "source": [
    "### (Tùy chọn) Đánh giá mô hình sử dụng f1 score\n",
    "Hoàn thành cell bên dưới để nhận điểm thưởng."
   ]
  },
  {
   "cell_type": "code",
   "execution_count": null,
   "metadata": {
    "id": "eLBGjctEwLNh",
    "pycharm": {
     "name": "#%%\n"
    }
   },
   "outputs": [],
   "source": [
    "from sklearn.metrics import f1_score\n",
    "\n",
    "# CODE CỦA BẠN Ở ĐÂY\n",
    "y_test_pred = ...\n",
    "\n",
    "f1 = ...\n",
    "# CODE CỦA BẠN Ở ĐÂY\n",
    "\n",
    "print (\"Test f1: {:.2f}\".format(f1))"
   ]
  }
 ],
 "metadata": {
  "colab": {
   "collapsed_sections": [],
   "name": "[VN]Assignment 2.ipynb",
   "provenance": [],
   "toc_visible": true
  },
  "kernelspec": {
   "display_name": "Python 3",
   "language": "python",
   "name": "python3"
  },
  "language_info": {
   "codemirror_mode": {
    "name": "ipython",
    "version": 3
   },
   "file_extension": ".py",
   "mimetype": "text/x-python",
   "name": "python",
   "nbconvert_exporter": "python",
   "pygments_lexer": "ipython3",
   "version": "3.7.13"
  }
 },
 "nbformat": 4,
 "nbformat_minor": 0
}
