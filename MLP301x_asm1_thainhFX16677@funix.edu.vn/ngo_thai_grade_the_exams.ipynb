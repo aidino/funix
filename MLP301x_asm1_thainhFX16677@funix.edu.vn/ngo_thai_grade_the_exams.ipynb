{
 "cells": [
  {
   "cell_type": "markdown",
   "metadata": {},
   "source": [
    "# Assignment 1"
   ]
  },
  {
   "cell_type": "markdown",
   "metadata": {},
   "source": [
    "Cài đặt thư viện"
   ]
  },
  {
   "cell_type": "code",
   "execution_count": 9,
   "metadata": {},
   "outputs": [
    {
     "name": "stdout",
     "output_type": "stream",
     "text": [
      "Collecting package metadata (current_repodata.json): done\n",
      "Solving environment: done\n",
      "\n",
      "# All requested packages already installed.\n",
      "\n",
      "\n",
      "Note: you may need to restart the kernel to use updated packages.\n"
     ]
    }
   ],
   "source": [
    "%conda install numpy pandas"
   ]
  },
  {
   "cell_type": "markdown",
   "metadata": {},
   "source": [
    "Import thư viện"
   ]
  },
  {
   "cell_type": "code",
   "execution_count": 10,
   "metadata": {},
   "outputs": [],
   "source": [
    "import numpy as np\n",
    "import pandas as pd"
   ]
  },
  {
   "cell_type": "markdown",
   "metadata": {},
   "source": [
    "Các hàm hỗ trợ quá trình tính toán"
   ]
  },
  {
   "cell_type": "code",
   "execution_count": 11,
   "metadata": {},
   "outputs": [],
   "source": [
    "ANSWER_COL = 'Answer'\n",
    "IS_VALID_COL = 'IsValid'\n",
    "SCORE_COL = 'Score'\n",
    "\n",
    "def is_file_name_with_txt_extension(file_name):\n",
    "    \"\"\" Kiểm tra xem tên file có đuôi .txt không\n",
    "    \n",
    "    Args:\n",
    "        file_name (str): tên file\n",
    "        \n",
    "    Returns:\n",
    "        bool: Return True nếu hàm có đuôi .txt, False nếu không\n",
    "    \"\"\"\n",
    "\n",
    "    if file_name.endswith('.txt'):\n",
    "        return True\n",
    "    else:\n",
    "        return False\n",
    "\n",
    "\n",
    "def add_txt_extension(file_name):\n",
    "    \"\"\" Thêm đuôi .txt vào tên file nếu chưa có, giữ nguyên nếu đã có đuôi .txt\n",
    "\n",
    "    Args:\n",
    "        file_name (str): tên file\n",
    "\n",
    "    Returns:\n",
    "        str: Tên file đã có đuôi .txt\n",
    "    \"\"\"\n",
    "\n",
    "    if is_file_name_with_txt_extension(file_name):\n",
    "        return file_name\n",
    "    else:\n",
    "        return file_name + '.txt'\n",
    "    \n",
    "def is_digit(string):\n",
    "    \"\"\" Kiểm tra string truyền vào có phải là số không\n",
    "    \n",
    "    Args:\n",
    "        string (str): string cần kiểm tra\n",
    "        \n",
    "    Returns:\n",
    "        bool: Trả lại True nếu string là số, False nếu không\n",
    "    \"\"\"\n",
    "    try:\n",
    "        int(string)\n",
    "        return True\n",
    "    except ValueError:\n",
    "        return False\n",
    "\n",
    "\n",
    "def is_row_valid(row):\n",
    "    \"\"\" Kiểm tra xem row truyền vào có hợp lệ hay không\n",
    "        - Hợp lệ khi cả row có đủ 26 string sau khi đã tách bởi dấu phẩy, Mã số sinh viên bắt đầu bằng N và sau N là số.\n",
    "\n",
    "    Args:\n",
    "        row (str): Row cần kiểm tra\n",
    "\n",
    "    Returns:\n",
    "        bool: True nếu row là hợp lệ, False nếu không\n",
    "    \"\"\"\n",
    "    data = row[ANSWER_COL].split(',')\n",
    "    if len(data) != 26:\n",
    "        print('Invalid line of data: does not contain exactly 26 values:')\n",
    "        print(row[ANSWER_COL] + '\\n')\n",
    "        return False\n",
    "    student_id = data[0]\n",
    "    if len(student_id) != 9 or student_id[0] != 'N' or (not is_digit(student_id[1:])):\n",
    "        print('Invalid line of data: N# is invalid')\n",
    "        print(row[ANSWER_COL] + '\\n')\n",
    "        return False\n",
    "    return True \n",
    "\n",
    "def grade_the_exams(row):\n",
    "    \"\"\" Tính điểm cho mỗi dữ liệu hợp lệ.\n",
    "\n",
    "    Args:\n",
    "        student_info (str): dữ liệu của 1 row tương ứng với 1 sinh viên.\n",
    "\n",
    "    Returns:\n",
    "        str: Mã sinh viên\n",
    "        int: điểm của sinh viên\n",
    "    \"\"\"\n",
    "\n",
    "    correct_answer_key = \"B,A,D,D,C,B,D,A,C,C,D,B,A,B,A,C,B,D,A,C,A,A,B,D,D\"\n",
    "    correct_answer_array = correct_answer_key.split(',')\n",
    "    data = row[ANSWER_COL].split(',')\n",
    "    student_answer = data[1:]\n",
    "    point = 0\n",
    "    for index, answer in enumerate(student_answer):\n",
    "        if len(answer.strip()) == 0:\n",
    "            continue\n",
    "        if answer.strip() == correct_answer_array[index]:\n",
    "            point += 4\n",
    "        else:\n",
    "            point -= 1\n",
    "    return data[0], point\n"
   ]
  },
  {
   "cell_type": "markdown",
   "metadata": {},
   "source": [
    "Mở file với Pandas.\n",
    "\n",
    "- Do toàn bộ dữ liệu là trên mỗi dòng là khác nhau (bao gồm cả hợp lệ và không hợp lệ) nên việc đưa toàn bộ dữ liệu vào DataFrame ngăn cách bởi dấu phẩy trở lên khó khăn, số cột của DataFrame phụ thuộc vào line đầu tiên. Vì vậy cách giải quyết là đưa toàn bộ dữ liệu vào 1 dòng và xử lý sau"
   ]
  },
  {
   "cell_type": "code",
   "execution_count": 12,
   "metadata": {},
   "outputs": [
    {
     "name": "stdout",
     "output_type": "stream",
     "text": [
      "Enter a class file to grade (i.e. class1 for class1.txt): class2\n",
      "\n",
      " Successfully opened class2.txt\n",
      "\n"
     ]
    }
   ],
   "source": [
    "# Nhận input (tên file) từ người dùng.\n",
    "input_file_name = input('Enter a class file to grade (i.e. class1 for class1.txt): ')\n",
    "# Kiểm tra tên file có đuôi .txt không, nếu có thì giữ nguyên, nếu không thì cần thêm đuôi .txt \n",
    "valid_file_name = add_txt_extension(input_file_name)\n",
    "try:\n",
    "    # Đưa dữ liệu vào DataFrame, do cả dòng không có ký tự space nào, nên có thể sử dụng sep=' ', giúp đưa cả dòng vào 1 cột.\n",
    "    df = pd.read_csv(valid_file_name, sep=' ' ,header=None) \n",
    "    print('\\n Successfully opened ' + valid_file_name + '\\n')\n",
    "except FileNotFoundError:\n",
    "    print('\\n File cannot be found. \\n')\n",
    "    exit()"
   ]
  },
  {
   "cell_type": "markdown",
   "metadata": {},
   "source": [
    "Làm sạch sữ liệu, thêm 1 cột tên là 'IsValid' để đánh dấu những dòng nào là dòng chứa dữ liệu hợp lệ, dòng nào không."
   ]
  },
  {
   "cell_type": "code",
   "execution_count": 13,
   "metadata": {},
   "outputs": [
    {
     "name": "stdout",
     "output_type": "stream",
     "text": [
      "**** ANALYZING **** \n",
      "\n",
      "Invalid line of data: does not contain exactly 26 values:\n",
      "N00000023,,A,D,D,C,B,D,A,C,C,,C,,B,A,C,B,D,A,C,A,A\n",
      "\n",
      "Invalid line of data: N# is invalid\n",
      "N0000002,B,A,D,D,C,B,D,A,C,D,D,D,A,,A,C,D,,A,C,A,A,B,D,D\n",
      "\n",
      "Invalid line of data: N# is invalid\n",
      "NA0000027,B,A,D,D,,B,,A,C,B,D,B,A,,A,C,B,D,A,,A,A,B,D,D\n",
      "\n",
      "Invalid line of data: does not contain exactly 26 values:\n",
      "N00000035,B,A,D,D,B,B,,A,C,,D,B,A,B,A,A,B,D,A,C,A,C,B,D,D,A,A\n",
      "\n"
     ]
    }
   ],
   "source": [
    "print('**** ANALYZING **** \\n')\n",
    "# Đổi tên cột hiện tại thành cột tên \"Answer\", giúp cột có ý nghĩa hơn\n",
    "df.columns = [ANSWER_COL] \n",
    "# Thêm cột mới chứa thông tin về dòng đó có dữ liệu hợp lệ hay không.\n",
    "# Vì hàm is_row_valid(row) trả lại giá trị True/False nên cột này chứa giá trị True/False\n",
    "df[IS_VALID_COL] = df.apply(lambda row: is_row_valid(row), axis=1)\n",
    "# Chuyển các dữ liệu hợp lệ sang một DataFrame mới tiện cho việc tính toán\n",
    "df_valid = df[df[IS_VALID_COL]]\n",
    "\n",
    "# Dựa vào shape của DataFrame để đếm số lượng dữ liệu hợp lệ trong DataFrame(df_valid)\n",
    "valid_line = df_valid.shape[0]\n",
    "# Số lượng invalid bằng tổng trừ đi số lượng valid\n",
    "invalid_line = df.shape[0] - valid_line\n",
    "\n",
    "if invalid_line == 0:\n",
    "    print('No errors found!\\n')\n"
   ]
  },
  {
   "cell_type": "markdown",
   "metadata": {},
   "source": [
    "Dựa vào DataFrame chứa những dữ liệu hợp lệ (df_valid) để tính toán điểm, đưa dữ liệu điểm vào một DataFrame mới (df_score) thuận tiện cho việc tính toán các giá trị statistic cũng như ghi kết qủa ra file"
   ]
  },
  {
   "cell_type": "code",
   "execution_count": 14,
   "metadata": {},
   "outputs": [
    {
     "data": {
      "text/html": [
       "<div>\n",
       "<style scoped>\n",
       "    .dataframe tbody tr th:only-of-type {\n",
       "        vertical-align: middle;\n",
       "    }\n",
       "\n",
       "    .dataframe tbody tr th {\n",
       "        vertical-align: top;\n",
       "    }\n",
       "\n",
       "    .dataframe thead th {\n",
       "        text-align: right;\n",
       "    }\n",
       "</style>\n",
       "<table border=\"1\" class=\"dataframe\">\n",
       "  <thead>\n",
       "    <tr style=\"text-align: right;\">\n",
       "      <th></th>\n",
       "      <th>Score</th>\n",
       "    </tr>\n",
       "  </thead>\n",
       "  <tbody>\n",
       "    <tr>\n",
       "      <th>N00000021</th>\n",
       "      <td>68</td>\n",
       "    </tr>\n",
       "    <tr>\n",
       "      <th>N00000022</th>\n",
       "      <td>76</td>\n",
       "    </tr>\n",
       "    <tr>\n",
       "      <th>N00000024</th>\n",
       "      <td>73</td>\n",
       "    </tr>\n",
       "    <tr>\n",
       "      <th>N00000026</th>\n",
       "      <td>72</td>\n",
       "    </tr>\n",
       "    <tr>\n",
       "      <th>N00000028</th>\n",
       "      <td>73</td>\n",
       "    </tr>\n",
       "  </tbody>\n",
       "</table>\n",
       "</div>"
      ],
      "text/plain": [
       "           Score\n",
       "N00000021     68\n",
       "N00000022     76\n",
       "N00000024     73\n",
       "N00000026     72\n",
       "N00000028     73"
      ]
     },
     "execution_count": 14,
     "metadata": {},
     "output_type": "execute_result"
    }
   ],
   "source": [
    "# Tính toán điểm dựa vào hàm grade_the_exams(row), đưa kết quả vào một DataFrame mới. \n",
    "df_score = df_valid.apply(lambda row: grade_the_exams(row), axis=1, result_type='expand') \n",
    "\n",
    "# Làm đẹp dữ liệu trong df_score\n",
    "\n",
    "# Chuyển đổi cột chứa Mã số sinh viên thành index của DataFrame. \n",
    "# Trong bài tập lần này thì việc này thực sự không cần thiết lắm, \n",
    "# nhưng nếu có yêu cầu đưa ra nhanh điểm của một sinh viên thì việc này rất hữu dụng và tiện lợi.\n",
    "df_score.set_index(0, inplace=True)\n",
    "\n",
    "# Tên cho cột index là không cần thiết.\n",
    "df_score.index.name = None\n",
    "\n",
    "# Đổi tên cột thành score giúp DataFrame dễ hình dung.\n",
    "df_score.rename(columns={1: SCORE_COL}, inplace=True)\n",
    "df_score.head()"
   ]
  },
  {
   "cell_type": "markdown",
   "metadata": {},
   "source": [
    "Tính toán các đại lượng statistic dựa vào DataFrame Score (df_score) và in ra kết quả"
   ]
  },
  {
   "cell_type": "code",
   "execution_count": 15,
   "metadata": {},
   "outputs": [
    {
     "name": "stdout",
     "output_type": "stream",
     "text": [
      "**** REPORT **** \n",
      "\n",
      "Total valid lines of data: 21\n",
      "Total invalid lines of data: 4\n",
      "Mean (average) score: 78.0\n",
      "Highest score: 100\n",
      "Lowest score: 66\n",
      "Range of scores: 34\n",
      "Median score: 76.0\n"
     ]
    }
   ],
   "source": [
    "mean_score = df_score[SCORE_COL].mean()\n",
    "highest_score = df_score[SCORE_COL].max()\n",
    "lowest_score = df_score[SCORE_COL].min()\n",
    "range_score = highest_score - lowest_score\n",
    "median_score = df_score[SCORE_COL].median()\n",
    "print('**** REPORT **** \\n')\n",
    "print('Total valid lines of data: ' + str(valid_line))\n",
    "print('Total invalid lines of data: ' + str(invalid_line))\n",
    "print('Mean (average) score: ' + str(mean_score))\n",
    "print('Highest score: ' + str(highest_score))\n",
    "print('Lowest score: ' + str(lowest_score))\n",
    "print('Range of scores: ' + str(range_score))\n",
    "print('Median score: ' + str(median_score))\n"
   ]
  },
  {
   "cell_type": "markdown",
   "metadata": {},
   "source": [
    "In dữ liệu điểm số của các học sinh hợp lệ ra file dựa vào DataFrame Score (df_score)"
   ]
  },
  {
   "cell_type": "code",
   "execution_count": 16,
   "metadata": {},
   "outputs": [],
   "source": [
    "# Lấy tên file không bao gồm đuôi .txt, thêm hậu tố _grades.txt tạo ra tên file cần ghi.\n",
    "new_file_name = input_file_name.split('.')[0] + '_grades.txt'\n",
    "df_score.to_csv(new_file_name, sep=',', header=False)"
   ]
  }
 ],
 "metadata": {
  "interpreter": {
   "hash": "c1bcb329fc666a29bd647ab5f731eda18fd18511409ff8d016e109c58957a965"
  },
  "kernelspec": {
   "display_name": "Python 3 (ipykernel)",
   "language": "python",
   "name": "python3"
  },
  "language_info": {
   "codemirror_mode": {
    "name": "ipython",
    "version": 3
   },
   "file_extension": ".py",
   "mimetype": "text/x-python",
   "name": "python",
   "nbconvert_exporter": "python",
   "pygments_lexer": "ipython3",
   "version": "3.9.10"
  }
 },
 "nbformat": 4,
 "nbformat_minor": 2
}
