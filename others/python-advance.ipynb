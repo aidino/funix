{
 "cells": [
  {
   "cell_type": "markdown",
   "metadata": {},
   "source": [
    "## Python nâng cao: OOP và API"
   ]
  },
  {
   "cell_type": "markdown",
   "metadata": {},
   "source": [
    "### Class\n",
    "\n",
    ">> Class (Lớp) là người dùng định nghĩa thiết kế cho hướng đối tượng. Nó đại diện cho những tập thuộc tính và phương thức chung cho tất cả các đối tượng của lớp này. Các class là một cách thuận tiện để biểu diễn dữ liệu vì chúng gom dữ liệu và các function (hàm) hoặc method (phương thức) liên quan mà chúng ta quan tâm vào một object (đối tượng). "
   ]
  },
  {
   "cell_type": "code",
   "execution_count": 6,
   "metadata": {},
   "outputs": [
    {
     "name": "stdout",
     "output_type": "stream",
     "text": [
      "10\n",
      "20\n"
     ]
    }
   ],
   "source": [
    "class Point():\n",
    "    def getX(self):\n",
    "        return self.x\n",
    "\n",
    "point1 = Point()\n",
    "point2 = Point()\n",
    "\n",
    "point1.x = 10\n",
    "point2.x = 20\n",
    "\n",
    "print(point1.getX())\n",
    "print(point2.getX())"
   ]
  },
  {
   "cell_type": "markdown",
   "metadata": {},
   "source": [
    "### Inheriting variables and methods"
   ]
  },
  {
   "cell_type": "code",
   "execution_count": 9,
   "metadata": {},
   "outputs": [
    {
     "name": "stdout",
     "output_type": "stream",
     "text": [
      "Alice is 32 years old\n"
     ]
    }
   ],
   "source": [
    "CURRENT_YEAR = 2022\n",
    "class Person:\n",
    "    def __init__(self, name, year_born):\n",
    "        self.name = name\n",
    "        self.year_born = year_born\n",
    "    def getAge(self):\n",
    "        return CURRENT_YEAR - self.year_born\n",
    "    def __str__(self):\n",
    "        return \"{} is {} years old\".format(self.name, self.getAge())\n",
    "    \n",
    "alice = Person(\"Alice\", 1990)\n",
    "print(alice)"
   ]
  },
  {
   "cell_type": "code",
   "execution_count": 15,
   "metadata": {},
   "outputs": [
    {
     "name": "stdout",
     "output_type": "stream",
     "text": [
      "Alice is 32 years old and knows 0\n",
      "Alice is 32 years old and knows 1\n",
      "alice type:   <class '__main__.Student'>\n",
      "alice's age:  32\n"
     ]
    }
   ],
   "source": [
    "class Student(Person):\n",
    "    def __init__(self, name, year_born, knowledge):\n",
    "        super().__init__(name, year_born)\n",
    "        self.knowledge = knowledge\n",
    "    def study(self):\n",
    "        self.knowledge += 1\n",
    "    def __str__(self):\n",
    "        return \"{} is {} years old and knows {}\".format(self.name, self.getAge(), self.knowledge)\n",
    "    \n",
    "alice = Student(\"Alice\", 1990, 0)\n",
    "print(alice)\n",
    "alice.study()\n",
    "print(alice)\n",
    "print(\"alice type:  \", type(alice))\n",
    "print(\"alice's age: \", alice.getAge())"
   ]
  },
  {
   "cell_type": "markdown",
   "metadata": {},
   "source": [
    "### Overriding methods"
   ]
  },
  {
   "cell_type": "code",
   "execution_count": 31,
   "metadata": {},
   "outputs": [
    {
     "name": "stdout",
     "output_type": "stream",
     "text": [
      "Alice in Wonderland by Lewis Carroll\n"
     ]
    }
   ],
   "source": [
    "class Book:\n",
    "    'Base class for all students'\n",
    "    def __init__(self, title, author):\n",
    "        self.title = title\n",
    "        self.author = author\n",
    "    def parentMethosd(self):\n",
    "        print(\"parent method\")\n",
    "    def __str__(self):\n",
    "        return \"{} by {}\".format(self.title, self.author)\n",
    "\n",
    "mybook = Book(\"Alice in Wonderland\", \"Lewis Carroll\")\n",
    "print(mybook)"
   ]
  },
  {
   "cell_type": "code",
   "execution_count": 30,
   "metadata": {},
   "outputs": [
    {
     "name": "stdout",
     "output_type": "stream",
     "text": [
      "parent method\n",
      "Alice in Wonderland by Lewis Carroll has 200 pages\n",
      "Alice in Wonderland by Lewis Carroll is 10 MB\n"
     ]
    }
   ],
   "source": [
    "class PaperBook(Book):\n",
    "    def __init__(self, title, author, num_pages):\n",
    "        super().__init__(title, author)\n",
    "        self.num_pages = num_pages\n",
    "    def paperBookOnly(self):\n",
    "        print(\"This function is for paper books only\")\n",
    "    def __str__(self):\n",
    "        #Book.parentMethosd(self)\n",
    "        super().parentMethosd()\n",
    "        return \"{} by {} has {} pages\".format(self.title, self.author, self.num_pages)\n",
    "\n",
    "class EBook(Book):\n",
    "    def __init__(self, title, author, file_size):\n",
    "        super().__init__(title, author)\n",
    "        self.file_size = file_size\n",
    "    def ebookOnly(self):\n",
    "        print(\"This function is for ebooks only\")\n",
    "    def __str__(self):\n",
    "        return \"{} by {} is {} MB\".format(self.title, self.author, self.file_size)\n",
    "\n",
    "myPaperBook = PaperBook(\"Alice in Wonderland\", \"Lewis Carroll\", 200)\n",
    "myEbook = EBook(\"Alice in Wonderland\", \"Lewis Carroll\", 10)\n",
    "\n",
    "print(myPaperBook)\n",
    "print(myEbook)"
   ]
  },
  {
   "cell_type": "code",
   "execution_count": 36,
   "metadata": {},
   "outputs": [
    {
     "name": "stdout",
     "output_type": "stream",
     "text": [
      "init library\n",
      "testBook0 type:  <class '__main__.Book'>\n",
      "testBook1 type:  <class '__main__.PaperBook'>\n",
      "testBook2 type:  <class '__main__.EBook'>\n",
      "This function is for paper books only\n",
      "This function is for ebooks only\n"
     ]
    }
   ],
   "source": [
    "class Library:\n",
    "    def __init__(self):\n",
    "        print(\"init library\")\n",
    "        self.books = []\n",
    "    def addBook(self, book):\n",
    "        self.books.append(book)\n",
    "    def getNumberOfBooks(self):\n",
    "        return len(self.books)\n",
    "    def getBook(self, index):\n",
    "        return self.books[index]\n",
    "\n",
    "myLibrary = Library()\n",
    "myLibrary.addBook(mybook)\n",
    "myLibrary.addBook(myPaperBook)\n",
    "myLibrary.addBook(myEbook)\n",
    "\n",
    "myLibrary.getNumberOfBooks()\n",
    "\n",
    "testBook0 = myLibrary.getBook(0)\n",
    "testBook1 = myLibrary.getBook(1)\n",
    "testBook2 = myLibrary.getBook(2)\n",
    "print(\"testBook0 type: \", type(testBook0))\n",
    "print(\"testBook1 type: \", type(testBook1))\n",
    "print(\"testBook2 type: \", type(testBook2))\n",
    "testBook1.paperBookOnly()\n",
    "# testBook2.paperBookOnly() # AttributeError: 'EBook' object has no attribute 'paperBookOnly'\n",
    "testBook2.ebookOnly()"
   ]
  },
  {
   "cell_type": "markdown",
   "metadata": {},
   "source": [
    "### APIs với Python\n",
    "\n",
    ">> API là các phương thức, giao thức kết nối với các thư viện và ứng dụng khác. Nó là viết tắt của Application Programming Interface – giao diện lập trình ứng dụng. API cung cấp khả năng cung cấp khả năng truy xuất đến một tập các hàm hay dùng. Và từ đó có thể trao đổi dữ liệu giữa các ứng dụng."
   ]
  },
  {
   "cell_type": "code",
   "execution_count": 32,
   "metadata": {},
   "outputs": [
    {
     "name": "stdout",
     "output_type": "stream",
     "text": [
      "Base class for all students\n"
     ]
    }
   ],
   "source": [
    "print(Book.__doc__)"
   ]
  },
  {
   "cell_type": "code",
   "execution_count": 33,
   "metadata": {},
   "outputs": [
    {
     "data": {
      "text/plain": [
       "'Book'"
      ]
     },
     "execution_count": 33,
     "metadata": {},
     "output_type": "execute_result"
    }
   ],
   "source": [
    "Book.__name__"
   ]
  },
  {
   "cell_type": "code",
   "execution_count": 38,
   "metadata": {},
   "outputs": [
    {
     "data": {
      "text/plain": [
       "True"
      ]
     },
     "execution_count": 38,
     "metadata": {},
     "output_type": "execute_result"
    }
   ],
   "source": [
    "isinstance(testBook0, Book)"
   ]
  },
  {
   "cell_type": "code",
   "execution_count": 40,
   "metadata": {},
   "outputs": [
    {
     "data": {
      "text/plain": [
       "False"
      ]
     },
     "execution_count": 40,
     "metadata": {},
     "output_type": "execute_result"
    }
   ],
   "source": [
    "isinstance(myPaperBook, Book)"
   ]
  },
  {
   "cell_type": "code",
   "execution_count": 41,
   "metadata": {},
   "outputs": [],
   "source": [
    "del myPaperBook"
   ]
  },
  {
   "cell_type": "code",
   "execution_count": null,
   "metadata": {},
   "outputs": [],
   "source": []
  }
 ],
 "metadata": {
  "interpreter": {
   "hash": "31f2aee4e71d21fbe5cf8b01ff0e069b9275f58929596ceb00d14d90e3e16cd6"
  },
  "kernelspec": {
   "display_name": "Python 3.8.9 64-bit",
   "language": "python",
   "name": "python3"
  },
  "language_info": {
   "codemirror_mode": {
    "name": "ipython",
    "version": 3
   },
   "file_extension": ".py",
   "mimetype": "text/x-python",
   "name": "python",
   "nbconvert_exporter": "python",
   "pygments_lexer": "ipython3",
   "version": "3.7.13"
  },
  "orig_nbformat": 4
 },
 "nbformat": 4,
 "nbformat_minor": 2
}
