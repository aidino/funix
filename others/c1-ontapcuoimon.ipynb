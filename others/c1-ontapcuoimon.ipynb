{
 "cells": [
  {
   "cell_type": "markdown",
   "metadata": {},
   "source": [
    "# Ôn tập cuối môn"
   ]
  },
  {
   "cell_type": "markdown",
   "metadata": {},
   "source": [
    "## Python cơ bản"
   ]
  },
  {
   "cell_type": "markdown",
   "metadata": {},
   "source": [
    "### Các kiểu dữ liệu khác nhau: Float, int, str.\n",
    "\n",
    "- Float: Số thực, 8 bytes (64 bits) \n",
    "- Int: Số nguyên, 8 bytes (64 bits)\n",
    "- String: Chuỗi ký tự, không giới hạn độ dài, độ dài phụ thuộc vào số ký tự trong `char[]`, 1 `char` = 1 byte."
   ]
  },
  {
   "cell_type": "markdown",
   "metadata": {},
   "source": [
    "### Các phép tính `+,  -,  *, **,  //,  %,  /,  &, |`\n",
    "\n",
    "- `+`: Cộng\n",
    "- `-`: Trừ\n",
    "- `*`: Nhân\n",
    "- `**`: Bình phương\n",
    "- `//`: Làm tròn xuống\n",
    "- `%`: Lấy phần dư\n",
    "- `/`: Chia\n",
    "- `&`: phép AND\n",
    "- `|`: phép OR"
   ]
  },
  {
   "cell_type": "markdown",
   "metadata": {},
   "source": [
    "### Các kiểu cấu trúc CSDL cơ bản: `List`, `tuple`, `set`, `dictionary`\n",
    "\n",
    "|              | list                                                                               | tuple                                                                                  | set                                             | dictionary                                                |\n",
    "| ------------ | ---------------------------------------------------------------------------------- | -------------------------------------------------------------------------------------- | ----------------------------------------------- | --------------------------------------------------------- |\n",
    "| KN           | \\- Dữ liệu không đồng nhất<br>\\- Lưu các phần tử 1 hàng, hoặc nhiều hàng nhiều cột | \\- Dữ liệu không đồng nhất<br>\\- Cũng có thể lưu các phần tử hoặc nhiều hàng nhiều cột | \\- Dữ liệu không đồng nhất<br>\\- Lưu ở 1 hàng   | \\- Dữ liệu không đồng nhất<br>\\- Lưu dạng key-value pairs |\n",
    "| Ký hiệu      | \\[…\\]                                                                              | (…)                                                                                    | {…}                                             | {…}                                                       |\n",
    "|              | Allow duplicate                                                                    | Allow duplicate                                                                        | Not allow duplicate                             | Allow duplicate                                           |\n",
    "|              | Có thể lồng nhau                                                                   | Có thể lồng nhau                                                                       | Có thể lồng nhau                                | Có thể lồng nhau                                          |\n",
    "| Example      | \\[1,2,3\\]                                                                          | (element1, element2)                                                                   | {1,2,3,4,5}                                     | {“key1”: “value1”, “key2”:”value2”}                       |\n",
    "| Access       | Via index                                                                          | Via index                                                                              | Must be converted to list and access over index | over keys                                                 |\n",
    "| Create empty | l = \\[\\]                                                                           | t = ()                                                                                 | a = set()                                       | d = {}                                                    |"
   ]
  },
  {
   "cell_type": "markdown",
   "metadata": {},
   "source": [
    "### Đọc, ghi và xử lý text file.\n",
    "\n",
    "```python\n",
    "with open(example1, 'r') as file1:\n",
    "    FileContent = file1.read()\n",
    "    print(FileContent)\n",
    "```\n",
    "\n",
    " - 'r': Read\n",
    " - 'w': Write\n",
    " - 'a': Append\n",
    " - 'r+': Read and write\n",
    " - 'w+': Read and write\n",
    " - 'a+': Read and write\n",
    "  \n",
    "Ngoài ra có một vài phương thức cần chú ý:\n",
    "- `.tell()`: Lấy vị trí hiện tại của con trỏ trong file.\n",
    "- `.seek(offset, from_where)`: Đặt con trỏ trong file tại vị trí offset, từ vị trí from_where."
   ]
  },
  {
   "cell_type": "markdown",
   "metadata": {},
   "source": [
    "### Vòng lặp, câu lệnh có điều kiện, cấu trúc xử lý exception (try-except).\n",
    "\n",
    "- Conditional Statements: `if-elif-else`\n",
    "\n",
    "```python\n",
    "def check_number(n):\n",
    "    if n == 0:\n",
    "        print(\"n is zero\")\n",
    "    elif n < 0:\n",
    "        print(\"n is negative\")\n",
    "    else:\n",
    "        print(\"n is positive\")\n",
    "```\n",
    "\n",
    "<br>\n",
    "\n",
    "- `for` loops\n",
    "  \n",
    "```python\n",
    "for i in [1, 3, 5, 7, 9]:\n",
    "    # print i in the same line\n",
    "    print(i, end=\" \")\n",
    "```\n",
    "\n",
    "<br>\n",
    "\n",
    "- `while` loops\n",
    "\n",
    "```python\n",
    "i = 0\n",
    "# while loop until i is greater than 10\n",
    "while i < 10:\n",
    "    print(i, end=\" \")\n",
    "    i += 1\n",
    "\n",
    "```\n",
    "\n",
    "<br>\n",
    "\n",
    "-  Loop with `else` block: Đại khái về nó như một câu lệnh nobreak; nghĩa là, khối else chỉ được thực thi nếu vòng lặp kết thúc tự nhiên mà không gặp phải câu lệnh break.\n",
    "\n",
    "\n"
   ]
  },
  {
   "cell_type": "code",
   "execution_count": 5,
   "metadata": {},
   "outputs": [
    {
     "name": "stdout",
     "output_type": "stream",
     "text": [
      "[2, 3, 5, 7, 11, 13, 17, 19, 23, 29]\n"
     ]
    }
   ],
   "source": [
    "L = []\n",
    "nmax = 30\n",
    "for n in range(2, nmax):\n",
    "    for factor in L:\n",
    "        if n % factor == 0:\n",
    "            break\n",
    "    else: # no break\n",
    "        L.append(n)\n",
    "print(L)"
   ]
  },
  {
   "cell_type": "markdown",
   "metadata": {},
   "source": [
    "`try-except`"
   ]
  },
  {
   "cell_type": "code",
   "execution_count": 6,
   "metadata": {},
   "outputs": [
    {
     "name": "stdout",
     "output_type": "stream",
     "text": [
      "do something stupid:\n",
      "print exception here\n"
     ]
    }
   ],
   "source": [
    "try:\n",
    "    print(\"do something stupid:\")\n",
    "    x = 1/0\n",
    "except:\n",
    "    print(\"print exception here\")"
   ]
  },
  {
   "cell_type": "markdown",
   "metadata": {},
   "source": [
    "### Khai báo và sử dụng hàm: Cách thông thường và cách sử dụng `lambda`.\n",
    "\n",
    "- **Cách thông thường:**\n",
    "\n",
    "Khai báo: \n",
    "```python\n",
    "def check_odd_even(n):\n",
    "    if n % 2 == 0:\n",
    "        return \"even\"\n",
    "    else:\n",
    "        return \"odd\"\n",
    "print(\" 2 is \", check_odd_even(2))\n",
    "```\n",
    "\n",
    "<br>\n",
    "\n",
    "- Note: `*args` and `**kwargs`: Flexible Arguments\n",
    "\n",
    "Có trường hợp mà viết hàm nhưng không biết số lượng và kiểu của các tham số của hàm. Vì vậy có thể dùng `*args` và `**kwargs`.\n",
    "\n",
    "Note:\n",
    "\n",
    "args and kwargs với tên thế nào thực sự là không quan trọng. điều quan trọng là dấu `*`\n",
    "\n",
    "  - `*` là biểu thị 1 list các tham số.\n",
    "  - `**` theo sau là 1 dictionary các tham số.\n",
    "\n",
    "Example:\n",
    "```python\n",
    "def catch_all(*listthamso, **dictionarythamso):\n",
    "    print(\"listthamso =\", listthamso)\n",
    "    print(\"dictionarythamso =\", dictionarythamso)\n",
    "\n",
    "catch_all(1, 2, 3, a=4, b=5)\n",
    "```\n",
    "\n",
    "output: \n",
    "```python\n",
    "listthamso = (1, 2, 3)\n",
    "dictionarythamso = {'a': 4, 'b': 5}\n",
    "```\n",
    "\n",
    "<br>\n",
    "\n",
    "- **Cách sử dụng `lambda` - Hàm ẩn danh :**\n",
    "\n",
    "Ngoài cách khai báo hàm dùng `def`, còn một cách khai báo hàm khác kiểu:\n",
    "\n",
    "```python\n",
    "lambda arguments: expression\n",
    "```\n",
    "\n",
    "Example:\n",
    "```python\n",
    "add = lambda x, y: x + y\n",
    "add(1, 2) # return 3\n",
    "```\n",
    "\n",
    "Tại sao lại có phương pháp khai báo hàm này?\n",
    "\n",
    "Lý do chính là trong python, mọi thứ đều là `object`, do đó hàm cũng có thể được dùng để làm đối số cho hàm khác."
   ]
  },
  {
   "cell_type": "markdown",
   "metadata": {},
   "source": [
    "## Python OOP"
   ]
  },
  {
   "cell_type": "code",
   "execution_count": null,
   "metadata": {},
   "outputs": [],
   "source": []
  }
 ],
 "metadata": {
  "interpreter": {
   "hash": "c922f6e6419787d491495b8843edb68cd95f680a8b11a4d080a9acd5e0a4e6c8"
  },
  "kernelspec": {
   "display_name": "Python 3.7.13 ('base')",
   "language": "python",
   "name": "python3"
  },
  "language_info": {
   "codemirror_mode": {
    "name": "ipython",
    "version": 3
   },
   "file_extension": ".py",
   "mimetype": "text/x-python",
   "name": "python",
   "nbconvert_exporter": "python",
   "pygments_lexer": "ipython3",
   "version": "3.7.13"
  },
  "orig_nbformat": 4
 },
 "nbformat": 4,
 "nbformat_minor": 2
}
