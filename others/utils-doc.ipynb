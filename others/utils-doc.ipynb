{
 "cells": [
  {
   "cell_type": "code",
   "execution_count": 40,
   "metadata": {},
   "outputs": [
    {
     "name": "stdout",
     "output_type": "stream",
     "text": [
      "The autoreload extension is already loaded. To reload it, use:\n",
      "  %reload_ext autoreload\n"
     ]
    }
   ],
   "source": [
    "%load_ext autoreload\n",
    "# Reload all modules (except those excluded by %aimport) every time before executing the Python code typed.\n",
    "%autoreload 2 \n",
    "import utils\n",
    "import numpy as np\n"
   ]
  },
  {
   "cell_type": "markdown",
   "metadata": {},
   "source": [
    "# Vectorization"
   ]
  },
  {
   "cell_type": "markdown",
   "metadata": {},
   "source": [
    "## MSE"
   ]
  },
  {
   "cell_type": "code",
   "execution_count": 41,
   "metadata": {},
   "outputs": [],
   "source": [
    "data = [(1, 80), (2, 170), (3, 100), (3, 220), (4, 200), (4, 270), (5, 500)]\n",
    "def f(x):\n",
    "    return 60*x #number of bedrooms * 60k$ = price of the house"
   ]
  },
  {
   "cell_type": "code",
   "execution_count": 42,
   "metadata": {},
   "outputs": [
    {
     "data": {
      "text/plain": [
       "7628.571428571428"
      ]
     },
     "execution_count": 42,
     "metadata": {},
     "output_type": "execute_result"
    }
   ],
   "source": [
    "utils.mse_non_vectorized(data, f)"
   ]
  },
  {
   "cell_type": "code",
   "execution_count": 43,
   "metadata": {},
   "outputs": [
    {
     "data": {
      "text/plain": [
       "7628.571428571428"
      ]
     },
     "execution_count": 43,
     "metadata": {},
     "output_type": "execute_result"
    }
   ],
   "source": [
    "y_pred = [f(x) for (x, y) in data]\n",
    "y = [y for (x, y) in data]\n",
    "utils.mse_vectorized(np.array(y), np.array(y_pred))"
   ]
  },
  {
   "cell_type": "markdown",
   "metadata": {},
   "source": [
    "# Linear Regression"
   ]
  },
  {
   "cell_type": "markdown",
   "metadata": {},
   "source": [
    "## The Normal Equation\n",
    "\n",
    "$$\\hat{\\boldsymbol{\\theta}} = (\\mathbf{x}_b^T\\mathbf{x}_b)^{-1}\\mathbf{x}_b^T \\mathbf{y}$$\n",
    "\n",
    "Implementations:\n",
    "```python\n",
    "def normal_equation_linear_regression(x,y):\n",
    "    intercept_ones = np.ones((len(x),1)) # results in array( [ [1],..,[1] ] )\n",
    "    x_b = np.c_[intercept_ones,x] # we now add the additional ones as a new column to our X\n",
    "    theta_optimal = np.linalg.inv(x_b.T.dot(x_b)).dot(x_b.T).dot(y) # the normal equation\n",
    "    return theta_optimal\n",
    "```"
   ]
  },
  {
   "cell_type": "code",
   "execution_count": 44,
   "metadata": {},
   "outputs": [
    {
     "data": {
      "text/plain": [
       "array([-46.31578947,  84.73684211])"
      ]
     },
     "execution_count": 44,
     "metadata": {},
     "output_type": "execute_result"
    }
   ],
   "source": [
    "dataset = np.array([\n",
    "    (1,80),\n",
    "    (2,170),\n",
    "    (3,100),\n",
    "    (3,220),\n",
    "    (4,200),\n",
    "    (4,270),\n",
    "    (5,500)\n",
    "    ])\n",
    "\n",
    "x = dataset[:,0]\n",
    "y = dataset[:,1]\n",
    "\n",
    "utils.normal_equation_linear_regression(x,y)\n"
   ]
  },
  {
   "cell_type": "markdown",
   "metadata": {},
   "source": [
    "## Using Scikit-Learn"
   ]
  },
  {
   "cell_type": "code",
   "execution_count": 45,
   "metadata": {},
   "outputs": [
    {
     "name": "stdout",
     "output_type": "stream",
     "text": [
      "-46.315789473684276 [84.73684211]\n"
     ]
    }
   ],
   "source": [
    "from sklearn.linear_model import LinearRegression\n",
    "x = np.array([[1], [2], [3], [3], [4], [4], [5]])\n",
    "y = np.array([ 80, 170, 100, 220, 200, 270, 500])\n",
    "linreg = LinearRegression()\n",
    "linreg.fit(x,y)\n",
    "print(linreg.intercept_, linreg.coef_)"
   ]
  },
  {
   "cell_type": "code",
   "execution_count": 46,
   "metadata": {},
   "outputs": [
    {
     "data": {
      "image/png": "[encoded data removed]",
      "text/plain": [
       "<Figure size 432x288 with 1 Axes>"
      ]
     },
     "metadata": {
      "needs_background": "light"
     },
     "output_type": "display_data"
    }
   ],
   "source": [
    "import matplotlib.pyplot as plt\n",
    "y_predict = linreg.predict(x)\n",
    "\n",
    "plt.plot(x, y_predict, \"g-\") #g- means: use green as the color (\"g\"), and draw a line (\"-\")\n",
    "plt.plot(x, y, \"b.\") #b. means: use blue as the color (\"b\"), and draw individual points (\".\")\n",
    "plt.show()"
   ]
  },
  {
   "cell_type": "markdown",
   "metadata": {},
   "source": [
    "## Gradient Descent for Linear Regression\n",
    "\n",
    "$$y = mx + b$$\n",
    "$$\n",
    "\\frac{\\partial MSE}{\\partial m} = \\frac{-2}{n} \\sum_{i=1}^n{((y_i-{\\color{#26a6ed}(mx+b)}) \\cdot x_i)} \\\\\\\\\n",
    "\n",
    "\\frac{\\partial MSE}{\\partial b} = \\frac{-2}{n} \\sum_{i=1}^n{(y_i-{\\color{#26a6ed}(mx+b)})}\n",
    "$$\n",
    "\n",
    "$$\n",
    "\\nabla(MSE) = \\left[\\begin{array}{c} \n",
    "\n",
    "    \\frac{-2}{n} \\sum_{i=1}^n{((y_i-{\\color{#26a6ed}(mx+b)}) \\cdot x_i)} \\\\\\\\\n",
    "\n",
    "    \\frac{-2}{n} \\sum_{i=1}^n{(y_i-{\\color{#26a6ed}(mx+b)})}\n",
    "\n",
    "\\end{array}\\right]\n",
    "$$"
   ]
  },
  {
   "cell_type": "code",
   "execution_count": 49,
   "metadata": {},
   "outputs": [],
   "source": [
    "dataset = np.array([\n",
    "    (1,80),\n",
    "    (2,170),\n",
    "    (3,100),\n",
    "    (3,220),\n",
    "    (4,200),\n",
    "    (4,270),\n",
    "    (5,500)])\n",
    "\n",
    "x = dataset[:,0]\n",
    "y = dataset[:,1]\n",
    "\n",
    "def add_intercept_ones(X):\n",
    "    intercept_ones = np.ones((len(X),1)) # results in array( [ [1],..,[1] ] )\n",
    "    X_b = np.c_[intercept_ones,X]\n",
    "    return X_b\n",
    "\n",
    "X_b = add_intercept_ones(x)\n",
    "\n",
    "# Making Predictions\n",
    "def create_function(theta):\n",
    "    def f(X_b):\n",
    "        return np.dot(X_b,theta)\n",
    "    return f\n",
    "\n",
    "# Calculating derivatives\n",
    "\n",
    "def mse_derivative_m(X,y,y_predicted):\n",
    "    return -(2/y.size) * sum(X * (y - y_predicted))\n",
    "    \n",
    "def mse_derivative_b(y,y_predicted):\n",
    "    return -(2/y.size) * sum(y - y_predicted)"
   ]
  },
  {
   "cell_type": "markdown",
   "metadata": {},
   "source": [
    "### Calculating the Loss \n",
    "$$MSE(m,b) = \\frac{1}{n} \\cdot ( (y_i-{\\color{#26a6ed}y_{pred}})^T \\cdot (y_i-{\\color{#26a6ed}y_{pred}}) )$$"
   ]
  },
  {
   "cell_type": "code",
   "execution_count": 50,
   "metadata": {},
   "outputs": [],
   "source": [
    "def mse(y, y_predicted):\n",
    "    error = y-y_predicted\n",
    "    loss = 1/(y.size) * np.dot(error.T, error)\n",
    "    return loss"
   ]
  },
  {
   "cell_type": "code",
   "execution_count": 53,
   "metadata": {},
   "outputs": [],
   "source": [
    "def gradient_descent(x, y, theta, criterion, number_of_iterations, learning_rate):\n",
    "    X_b = add_intercept_ones(x)\n",
    "    loss_history=[]\n",
    "    for i in range(number_of_iterations):\n",
    "        \n",
    "        # predict and calculate loss\n",
    "        f = create_function(theta) # create the current function\n",
    "        y_predicted = f(X_b) # predict our entire x\n",
    "        loss = criterion(y,y_predicted) # calculate the error\n",
    "        loss_history.append(loss)\n",
    "            \n",
    "        # perform optimization\n",
    "        gradient = np.array([mse_derivative_b(y,y_predicted), mse_derivative_m(x,y,y_predicted)]) # calculate gradient\n",
    "        theta = theta - learning_rate * gradient #adjust m and b\n",
    "\n",
    "        if i%10==0:\n",
    "            print(\"Current Epoch: {}, Current Loss: {}\".format(i,loss))\n",
    "        \n",
    "    return theta,loss_history"
   ]
  },
  {
   "cell_type": "code",
   "execution_count": 54,
   "metadata": {},
   "outputs": [
    {
     "name": "stdout",
     "output_type": "stream",
     "text": [
      "Current Epoch: 0, Current Loss: 65228.57142857143\n",
      "Current Epoch: 10, Current Loss: 7238.891593802805\n",
      "Current Epoch: 20, Current Loss: 6238.347951740184\n",
      "Current Epoch: 30, Current Loss: 6202.096015302292\n",
      "Current Epoch: 40, Current Loss: 6182.86618019306\n",
      "Current Epoch: 50, Current Loss: 6164.615769307687\n",
      "Current Epoch: 60, Current Loss: 6147.047846616225\n",
      "Current Epoch: 70, Current Loss: 6130.132652256769\n",
      "Current Epoch: 80, Current Loss: 6113.845862732123\n",
      "Current Epoch: 90, Current Loss: 6098.164131391666\n",
      "Current Epoch: 100, Current Loss: 6083.064980156502\n",
      "Current Epoch: 110, Current Loss: 6068.526766034719\n",
      "Current Epoch: 120, Current Loss: 6054.528650077142\n",
      "Current Epoch: 130, Current Loss: 6041.050567506585\n",
      "Current Epoch: 140, Current Loss: 6028.073198957181\n",
      "Current Epoch: 150, Current Loss: 6015.577942782173\n",
      "Current Epoch: 160, Current Loss: 6003.546888390466\n",
      "Current Epoch: 170, Current Loss: 5991.962790573754\n",
      "Current Epoch: 180, Current Loss: 5980.8090447873765\n",
      "Current Epoch: 190, Current Loss: 5970.069663349519\n"
     ]
    },
    {
     "data": {
      "text/plain": [
       "array([-1.89537946, 72.3849704 ])"
      ]
     },
     "execution_count": 54,
     "metadata": {},
     "output_type": "execute_result"
    }
   ],
   "source": [
    "theta = np.array([0.,0.])\n",
    "num_epochs = 200\n",
    "learning_rate = 0.0075\n",
    "ideal_theta, loss_history = gradient_descent(x, y, theta, mse, num_epochs, learning_rate)\n",
    "ideal_theta"
   ]
  },
  {
   "cell_type": "code",
   "execution_count": 55,
   "metadata": {},
   "outputs": [
    {
     "data": {
      "text/plain": [
       "[<matplotlib.lines.Line2D at 0x14be488b0>]"
      ]
     },
     "execution_count": 55,
     "metadata": {},
     "output_type": "execute_result"
    },
    {
     "data": {
      "image/png": "[encoded data removed]",
      "text/plain": [
       "<Figure size 432x288 with 1 Axes>"
      ]
     },
     "metadata": {
      "needs_background": "light"
     },
     "output_type": "display_data"
    }
   ],
   "source": [
    "import matplotlib.pyplot as plt\n",
    "plt.plot(np.arange(num_epochs),loss_history)"
   ]
  },
  {
   "cell_type": "markdown",
   "metadata": {},
   "source": [
    "### Scikit-Learn"
   ]
  },
  {
   "cell_type": "code",
   "execution_count": 57,
   "metadata": {},
   "outputs": [
    {
     "name": "stdout",
     "output_type": "stream",
     "text": [
      "[68.95520002] [12.285233]\n"
     ]
    }
   ],
   "source": [
    "from sklearn.linear_model import SGDRegressor\n",
    "X = np.array([[1], [2], [3], [3], [4], [4], [5]])\n",
    "sgdreg = SGDRegressor(learning_rate=\"constant\",eta0=0.0075,max_iter=200,random_state=42) #eta0 is our initial learning rate\n",
    "sgdreg.fit(X,y)\n",
    "print(sgdreg.coef_,sgdreg.intercept_)"
   ]
  },
  {
   "cell_type": "markdown",
   "metadata": {},
   "source": [
    "# How to Split Your Dataset the Right Way\n",
    "\n",
    "```python\n",
    "from sklearn.model_selection import train_test_split\n",
    "X_train, X_test, y_train, y_test = train_test_split(X,y, test_size=0.3, random_state=42, shuffle=True)\n",
    "```"
   ]
  },
  {
   "cell_type": "markdown",
   "metadata": {},
   "source": [
    "# Ridge Regression\n",
    "\n",
    "$$Ridge\\ Loss(y,y_{pred}) = MSE(y,y_{pred}) + ||\\boldsymbol{\\theta}||_2^2 \\\\$$\n",
    "$$Ridge\\ Loss(y,y_{pred}) = MSE(y,y_{pred}) + \\sum_{i=1}^m{\\theta_i^2} \\\\$$\n",
    "$$Ridge\\ Loss(y,y_{pred}) = MSE(y,y_{pred}) + \\boldsymbol{\\theta}^T\\theta \\\\$$\n",
    "\n",
    "## Solving Ridge Regression\n",
    "\n",
    "### Normal Equation\n",
    "$$\\begin{aligned}\n",
    "\n",
    "Ridge\\ Loss(\\textbf{y},\\textbf{y}_{pred}) &= {\\color{#26a6ed}MSE(\\textbf{y},\\textbf{y}_{pred})} + \\alpha \\cdot ||\\boldsymbol{\\theta}||_2^2 \\\\\n",
    "\n",
    "&= {\\color{#26a6ed}(\\textbf{y} − \\textbf{X}\\boldsymbol{\\theta})^T (\\textbf{y} − \\textbf{X}\\boldsymbol{\\theta})} + \\alpha\\boldsymbol{\\theta}^T \\boldsymbol{\\theta}\n",
    "\n",
    "\\end{aligned}\n",
    "\n",
    "$$\n",
    "\n",
    "$$\\hat{\\boldsymbol{\\theta}} = (\\textbf{X}^T\\textbf{X} + \\alpha\\textbf{I})^{-1} \\textbf{X}^T \\textbf{y} \\\\\n",
    "\n",
    "$$"
   ]
  },
  {
   "cell_type": "code",
   "execution_count": 58,
   "metadata": {},
   "outputs": [],
   "source": [
    "def normal_equation_ridge_regression(X,y,alpha):\n",
    "    intercept_ones = np.ones((len(X),1))        # results in array( [ [1],..,[1] ] )\n",
    "    X_b = np.c_[intercept_ones,X]               # we now add the additional ones as a new column to our X\n",
    "    I = np.identity(X_b.shape[1])               # identity matrix with dimensions (n+1)\n",
    "    I[0][0] = 0                                 # adjusting the first value in I to be 0, to account for the intercept term\n",
    "    theta_optimal = np.linalg.inv(X_b.T.dot(X_b) + alpha * I).dot(X_b.T).dot(y) # the normal equation\n",
    "    return theta_optimal"
   ]
  },
  {
   "cell_type": "markdown",
   "metadata": {},
   "source": [
    "Using normal equation\n",
    "\n",
    "```python\n",
    "theta_ridge_ne_1 = normal_equation_ridge_regression(X_train, y_train, 1)\n",
    "print(theta_ridge_ne_1)\n",
    "# output: [44.35714286 -2.76190476]\n",
    "```\n",
    "\n",
    "Using scikit-learns Ridge-class\n",
    "```python\n",
    "ridge = Ridge()  # same as Ridge(alpha=1)\n",
    "ridge.fit(X_train, y_train, 1)\n",
    "theta_ridge_ne_2 = np.array([ridge.intercept_, ridge.coef_[0]])\n",
    "print(theta_ridge_ne_2)\n",
    "# output: [44.35714286 -2.76190476]\n",
    "```\n",
    "\n",
    "Ploting data \n",
    "\n",
    "```python\n",
    "X_interval = np.array([min(X), max(X)]) # we'll use these points to plot our linear functions\n",
    "\n",
    "plt.plot(X_train, y_train, \"s\", markersize=12, label=\"train data\")\n",
    "plt.plot(X_test, y_test, \".\", markersize=15, label=\"test data\")\n",
    "\n",
    "plt.plot(X_interval, ols.predict(X_interval), label=\"ols\")\n",
    "plt.plot(X_interval, ridge.predict(X_interval) ,label=\"ridge\")\n",
    "plt.legend()\n",
    "```"
   ]
  },
  {
   "cell_type": "markdown",
   "metadata": {},
   "source": [
    "### Implementing Gradient Descent\n",
    "\n",
    "$$\\begin{aligned}\n",
    "RidgeMSE(y,y_{pred}) &= {\\color{#26a6ed}MSE(y,{\\color{9628d9}y_{pred}})} + {\\color{#54C667}\\alpha \\cdot \\boldsymbol{\\theta}^T\\boldsymbol{\\theta}} \\\\\n",
    "&=  {\\color{#26a6ed}\\frac{1}{n} \\cdot  ( (y-{\\color{9628d9}y_{pred}})^T (y-{\\color{9628d9}y_{pred}}) )} + {\\color{#54C667}\\alpha \\cdot \\boldsymbol{\\theta}^T\\boldsymbol{\\theta}} \\\\\n",
    "&=  {\\color{#26a6ed}\\frac{1}{n} \\cdot  ( (y- {\\color{9628d9}\\mathbf{X}_b \\boldsymbol{\\theta}} )^T (y- {\\color{9628d9}\\mathbf{X}_b \\boldsymbol{\\theta}}) )} + {\\color{#54C667}\\alpha \\cdot \\boldsymbol{\\theta}^T\\boldsymbol{\\theta}}\n",
    "\\end{aligned}$$\n",
    "\n",
    "$$\\begin{aligned}\n",
    "\\nabla(RidgeMSE) &=  {\\color{#26a6ed}\\frac{-2}{n} \\mathbf{X}_b^T (y - {\\color{9628d9}y_{pred}} )} + {\\color{#54C667}2 \\cdot \\alpha \\cdot \\boldsymbol{\\theta}} \\\\\n",
    "&= {\\color{#26a6ed}\\frac{-2}{n} \\mathbf{X}_b^T (y -  {\\color{9628d9}\\mathbf{X}_b \\boldsymbol{\\theta}})} + {\\color{#54C667}2 \\cdot \\alpha \\cdot \\boldsymbol{\\theta}}\n",
    "\\end{aligned}$$"
   ]
  },
  {
   "cell_type": "code",
   "execution_count": 64,
   "metadata": {},
   "outputs": [],
   "source": [
    "def getRidgeGradientFunction(alpha=0.0001):\n",
    "    \n",
    "    def ridgeGradient(X_b, y, y_pred, theta):\n",
    "        return  -(2/y.size) * X_b.T.dot((y - y_pred)) + alpha * theta\n",
    "\n",
    "    return ridgeGradient\n",
    "\n",
    "def getRidgeMSEFunction(alpha=0.0001):\n",
    "    \n",
    "    def ridgeMSE(y, y_predicted, theta):\n",
    "        mse_loss = mse(y, y_predicted)\n",
    "        ridge_loss = mse_loss + alpha * np.dot(theta,theta)\n",
    "        return ridge_loss\n",
    "\n",
    "    return ridgeMSE\n",
    "\n",
    "\n",
    "def gradientDescent(X, y, theta, criterion, gradientFunction, number_of_iterations, learning_rate):\n",
    "    X_b = add_intercept_ones(X)\n",
    "    for i in range(number_of_iterations):\n",
    "\n",
    "        # predict and calculate loss\n",
    "        f = create_function(theta)               # create the current function\n",
    "        y_predicted = X_b.dot(theta)             # predict our entire x\n",
    "        loss = criterion(y, y_predicted, theta)  # calculate loss\n",
    "\n",
    "        # perform optimization\n",
    "        gradient = gradientFunction(X_b, y, y_predicted, theta) # compute gradient\n",
    "        theta = theta - learning_rate * gradient                # adjust theta\n",
    "\n",
    "    return theta\n",
    "\n"
   ]
  },
  {
   "cell_type": "markdown",
   "metadata": {},
   "source": [
    "```python\n",
    "theta_ridge_gd_1 = gradientDescent(X_train, y_train, theta, getRidgeMSEFunction(0.0001),\n",
    "                                            getRidgeGradientFunction(0.0001), 1000, 0.03)\n",
    "print(theta_ridge_gd_1)\n",
    "# output: [44.41801778 -3.11386069]\n",
    "```\n",
    "\n",
    "```python\n",
    "plt.plot(X_train, y_train, \"s\", markersize=12, label=\"train data\")\n",
    "plt.plot(X_test, y_test, \".\", markersize=15, label=\"test data\")\n",
    "\n",
    "plt.plot(X, X_b.dot(theta_ridge_gd_1), label=\"ridge gd\")\n",
    "plt.plot(X, X_b.dot(theta_ridge_ne_1), label=\"ridge ne\")\n",
    "plt.legend()\n",
    "plt.show()\n",
    "```"
   ]
  },
  {
   "cell_type": "markdown",
   "metadata": {},
   "source": [
    "### SGDRegressor-class\n",
    "\n",
    "```python\n",
    "sgdreg_ridge = SGDRegressor(penalty=\"l2\", learning_rate=\"constant\", eta0=0.001, max_iter=10000, random_state=42)\n",
    "sgdreg_ridge.fit(X_train,y_train)\n",
    "theta_ridge_gd_2 = np.array([sgdreg_ridge.intercept_[0], sgdreg_ridge.coef_[0]])\n",
    "print(theta_ridge_gd_2)\n",
    "# output: [43.1764243 -2.0467813]\n",
    "```"
   ]
  },
  {
   "cell_type": "markdown",
   "metadata": {},
   "source": [
    "## Finding the Optimal Value for $\\alpha$\n",
    "\n",
    "```python\n",
    "ridge_cv = RidgeCV(alphas=[0.1, 1.0, 10])\n",
    "ridge_cv.fit(X_train, y_train)\n",
    "print(ridge_cv.alpha_)\n",
    "# output: 0.1\n",
    "```"
   ]
  },
  {
   "cell_type": "markdown",
   "metadata": {},
   "source": [
    "# Lasso Regression\n",
    "\n",
    "$$New\\ Loss\\ 1(y,y_{pred}) = MSE(y,y_{pred}) + \\alpha \\sum_{i=1}^m{{\\color{#26a6ed}\\theta_i^2}} = {\\color{#26a6ed}RidgeMSE} \\\\\n",
    "\n",
    "New\\ Loss\\ 2(y,y_{pred}) = MSE(y,y_{pred}) + \\alpha \\sum_{i=1}^m{{\\color{#26a6ed}|\\theta_i|}} = {\\color{#26a6ed}LassoMSE}\n",
    "\n",
    "$$\n",
    "\n",
    "$LassoMSE(y,y_{pred}) = MSE(y,y_{pred}) + \\alpha ||\\boldsymbol{\\theta}||_1 \\\\$"
   ]
  },
  {
   "cell_type": "markdown",
   "metadata": {},
   "source": [
    "## Solving Lasso Regression\n",
    "\n",
    "$$\\begin{aligned}\n",
    "LassoMSE(y,y_{pred},\\boldsymbol{\\theta}) &= MSE(y,y_{pred}) + \\alpha \\cdot \\sum_{i=1}^m{|\\theta_i|} \\\\\n",
    "\n",
    "\\nabla(LassoMSE) &= \\nabla(MSE(y,y_{pred})) + \\alpha \\cdot {\\color{#FF8900}\\nabla(\\sum_{i=1}^m{|\\theta_i|})} \\\\\n",
    "\n",
    "&= \\nabla(MSE(y,y_{pred})) + \\alpha \\cdot \\sum_{i=1}^m{{\\color{#FF8900}\\nabla(|\\theta_i|)}}\n",
    "\\end{aligned}$$"
   ]
  },
  {
   "cell_type": "markdown",
   "metadata": {},
   "source": [
    "### Implementing Lasso using Scikit-Learn\n",
    "\n",
    "```python\n",
    "from sklearn.preprocessing import StandardScaler\n",
    "from sklearn.linear_model import Lasso\n",
    "\n",
    "scaler = StandardScaler()\n",
    "scaler.fit(X_train)\n",
    "X_s_train = scaler.transform(X_train)\n",
    "X_s_test = scaler.transform(X_test)\n",
    "\n",
    "lasso = Lasso()\n",
    "lasso.fit(X_s_train, y_train)\n",
    "print(lasso.coef_[0], lasso.intercept_)\n",
    "# prints: -2.5269426990176953 40.63053220519125\n",
    "\n",
    "# OR\n",
    "\n",
    "pipeline = make_pipeline(StandardScaler(), Lasso())\n",
    "pipeline.fit(X_train, y_train)\n",
    "print(pipeline[1].coef_[0], pipeline[1].intercept_)\n",
    "# prints: -2.5269426990176953 40.63053220519125\n",
    "\n",
    "# OR: SGDRegressor\n",
    "pipeline_sgd = make_pipeline(StandardScaler(), SGDRegressor(alpha=1, penalty=\"l1\"))\n",
    "pipeline_sgd.fit(X_train, y_train)\n",
    "print(pipeline_sgd[1].coef_[0], pipeline_sgd[1].intercept_)\n",
    "# prints: -2.2233194459768386 [40.87110655]\n",
    "\n",
    "```"
   ]
  },
  {
   "cell_type": "markdown",
   "metadata": {},
   "source": [
    "## Finding the Optimal Value for $\\alpha$\n",
    "\n",
    "```python\n",
    "lasso_cv_pipeline = make_pipeline(StandardScaler(),\n",
    "                                  LassoCV(alphas=[0.1, 1.0, 10]))\n",
    "lasso_cv_pipeline.fit(X_train, y_train)\n",
    "print(lasso_cv_pipeline[1].alpha_)\n",
    "# output: 0.1\n",
    "\n",
    "```"
   ]
  },
  {
   "cell_type": "markdown",
   "metadata": {},
   "source": [
    "# Elastic Net Regression\n",
    "\n",
    "$$\\begin{aligned}\n",
    "{\\color{#26a6ed}RidgeMSE}(y,y_{pred}) &= MSE(y,y_{pred}) + \\alpha \\sum_{i=1}^m{{\\color{#26a6ed}\\theta_i^2}} \\\\\n",
    "&= MSE(y,y_{pred}) + \\alpha {\\color{#26a6ed}||\\boldsymbol{\\theta}||_2^2} \\\\\n",
    "\\end{aligned}\n",
    "\n",
    "\\\\\n",
    "\n",
    "\\begin{aligned}\n",
    "{\\color{#26a6ed}LassoMSE}(y,y_{pred}) &= MSE(y,y_{pred}) + \\alpha \\sum_{i=1}^m{{\\color{#26a6ed}|\\theta_i|}} \\\\\n",
    "&= MSE(y,y_{pred}) + \\alpha {\\color{#26a6ed}||\\boldsymbol{\\theta}||_1} \\\\\n",
    "\\end{aligned}$$\n",
    "\n",
    "<hr>\n",
    "\n",
    "$$\\begin{aligned}\n",
    "{\\color{#26a6ed}ElasticNetMSE} &= MSE(y,y_{pred}) + \\alpha_1 \\sum_{i=1}^m{{\\color{#26a6ed}|\\theta_i|}} +  \\alpha_2 \\sum_{i=1}^m{{\\color{#26a6ed}\\theta_i^2}} \\\\\n",
    "&= MSE(y,y_{pred}) + \\alpha_1 {\\color{#26a6ed}||\\boldsymbol{\\theta}||_1} + \\alpha_2 {\\color{#26a6ed}||\\boldsymbol{\\theta}||_2^2}  \\\\\n",
    "\\end{aligned}$$"
   ]
  },
  {
   "cell_type": "markdown",
   "metadata": {},
   "source": [
    "## Solving Elastic Net\n",
    "\n",
    "```python\n",
    "elastic_pipeline = make_pipeline(StandardScaler(),\n",
    "                                  ElasticNet(alpha=1, l1_ratio=0.1))\n",
    "elastic_pipeline.fit(X_train, y_train)\n",
    "print(elastic_pipeline[1].intercept_, elastic_pipeline[1].coef_)\n",
    "# output: 41.0 [-1.2127174]\n",
    "\n",
    "OR:\n",
    "elastic_sgd_pipeline = make_pipeline(StandardScaler(), SGDRegressor(alpha=1, l1_ratio=0.1, penalty = \"elasticnet\"))\n",
    "                         \n",
    "elastic_sgd_pipeline.fit(X_train, y_train)\n",
    "\n",
    "print(elastic_sgd_pipeline[1].intercept_, elastic_sgd_pipeline[1].coef_)\n",
    "# output: [40.69570804] [-1.21309447]\n",
    "```"
   ]
  },
  {
   "cell_type": "markdown",
   "metadata": {},
   "source": [
    "## Finding the optimal value for $\\alpha$ and the L1-ratio\n",
    "\n",
    "```python\n",
    "elastic_cv_pipeline = make_pipeline(StandardScaler(),\n",
    "                                  ElasticNetCV(l1_ratio=0.1))\n",
    "elastic_cv_pipeline.fit(X_train, y_train)\n",
    "print(elastic_cv_pipeline[1].alpha_)\n",
    "# output: 0.6385668121344372\n",
    "```"
   ]
  },
  {
   "cell_type": "markdown",
   "metadata": {},
   "source": [
    "## A Summary of Scikit-Learn-Classes\n",
    "\n",
    "| MODEL / SOLVER | NORMAL EQUATION                                                                                                                             | GRADIENT DESCENT VARIANT                                                                                                                                                                |\n",
    "| -------------- | ------------------------------------------------------------------------------------------------------------------------------------------- | --------------------------------------------------------------------------------------------------------------------------------------------------------------------------------------- |\n",
    "| OLS Regression | [LinearRegression](https://scikit-learn.org/stable/modules/generated/sklearn.linear_model.LinearRegression.html?highlight=linearregression) | [SGDRegressor](https://scikit-learn.org/stable/modules/generated/sklearn.linear_model.SGDRegressor.html)                                                                                |\n",
    "| Ridge          | [Ridge](https://scikit-learn.org/stable/modules/generated/sklearn.linear_model.Ridge.html)                                                  | [SGDRegressor with penalty=“l2”](https://scikit-learn.org/stable/modules/generated/sklearn.linear_model.SGDRegressor.html)                                                              |\n",
    "| Lasso          | /                                                                                                                                           | [Lasso \\[Coordinate Descent\\] or SGDRegressor with penalty=“l1” \\[Truncated SGD\\]](https://scikit-learn.org/stable/modules/generated/sklearn.linear_model.Lasso.html)                   |\n",
    "| Elastic Net    | /                                                                                                                                           | [ElasticNet \\[Coordinate Descent\\] or SGDRegressor with penalty=“elasticnet” \\[Truncated SGD\\]](https://scikit-learn.org/stable/modules/generated/sklearn.linear_model.ElasticNet.html) |"
   ]
  },
  {
   "cell_type": "markdown",
   "metadata": {},
   "source": [
    "# When, Why, And How You Should Standardize Your Data\n",
    "$$ \\large z = \\frac{x - \\mu}{\\sigma}$$\n",
    "\n",
    "```python\n",
    "X_train, X_test, y_train, y_test = train_test_split(\n",
    "    X, y, test_size=0.33, random_state=42)\n",
    "\n",
    "X_train_mean = np.mean(X_train)\n",
    "X_train_std = np.std(X_train)\n",
    "\n",
    "X_train_standardized = (X_train - X_train_mean) / X_train_std\n",
    "X_test_standardized = (X_test - X_train_mean) / X_train_std\n",
    "\n",
    "ridge = Ridge()\n",
    "ridge.fit(X_train_standardized, y_train)\n",
    "print(ridge.intercept_, ridge.coef_[0])\n",
    "# outputs: 40.7 -1.56\n",
    "\n",
    "ridge_predictions = ridge.predict(X_test_standardized)\n",
    "print(ridge_predictions)\n",
    "# outputs: [40.48 41.35 39.61]\n",
    "\n",
    "```"
   ]
  },
  {
   "cell_type": "markdown",
   "metadata": {},
   "source": [
    "## Implementing Standardization using Scikit-Learn’s StandardScaler\n",
    "\n",
    "```python\n",
    "from sklearn.preprocessing import StandardScaler\n",
    "\n",
    "scaler = StandardScaler()\n",
    "scaler.fit(X_train)\n",
    "X_train_standardized = scaler.transform(X_train)\n",
    "X_test_standardized = scaler.transform(X_test)\n",
    "```\n",
    "\n",
    "Instead of writing \n",
    "\n",
    "`scaler.fit(X_train)` and `X_train_standardized = scaler.transform(X_train)` \n",
    "\n",
    "we can also just write \n",
    "\n",
    "`X_train_standardized = scaler.fit_transform(X_train)` \n",
    "\n",
    "to save us one line of code."
   ]
  },
  {
   "cell_type": "markdown",
   "metadata": {},
   "source": [
    "## Implementing Standardization using Scikit-Learn’s Pipeline\n",
    "\n",
    "```python\n",
    "from sklearn.pipeline import Pipeline\n",
    "pipeline = Pipeline([('scaler', StandardScaler()),\n",
    "                    ('ridge', Ridge())])\n",
    "```\n",
    "\n",
    "OR:\n",
    "\n",
    "```python\n",
    "from sklearn.pipeline import make_pipeline\n",
    "pipeline = make_pipeline(StandardScaler(), Ridge())  \n",
    "pipeline.fit(X_train, y_train)\n",
    "print(pipeline[1].intercept_, pipeline[1].coef_[0])\n",
    "# 40.7 -1.56\n",
    "pipeline_predictions = ridge.predict(X_test_standardized)\n",
    "print(pipeline_predictions)\n",
    "# [40.48 41.35 39.61]\n",
    "\n",
    "```\n",
    "\n",
    "\n"
   ]
  },
  {
   "cell_type": "markdown",
   "metadata": {},
   "source": [
    "# Subgradient Descent"
   ]
  },
  {
   "cell_type": "code",
   "execution_count": 67,
   "metadata": {},
   "outputs": [],
   "source": [
    "# from the gradient descent for linear regression article\n",
    "def create_function(theta):\n",
    "    def f(X_b):\n",
    "        return np.dot(X_b,theta)\n",
    "    \n",
    "    return f\n",
    "\n",
    "# from the gradient descent for linear regression article\n",
    "def add_intercept_ones(X):\n",
    "    intercept_ones = np.ones((len(X),1)) # results in array( [ [1],..,[1] ] )\n",
    "    X_b = np.c_[intercept_ones,X]\n",
    "    return X_b\n",
    "\n",
    "# from the standardization article\n",
    "def standardize(X_train, X_test):\n",
    "    mean = np.mean(X_train)\n",
    "    std = np.std(X_train)\n",
    "    X_train_s = (X_train - mean) / std \n",
    "    X_test_s = (X_test - mean) / std \n",
    "    return X_train_s, X_test_s, mean, std"
   ]
  },
  {
   "cell_type": "code",
   "execution_count": 68,
   "metadata": {},
   "outputs": [],
   "source": [
    "X = np.array([1.25, 1.  , 0.75, 1.5, 1.75, 1.5 , 0.75])\n",
    "y = np.array([40. , 42. , 46. , 37., 40. , 38. , 39.8])\n",
    "\n",
    "X_train, X_test = X[:4], X[4:]\n",
    "y_train, y_test = y[:4], y[4:]\n",
    "\n",
    "X_train_s, X_test_s, _, _ = standardize(X_train, X_test)"
   ]
  },
  {
   "cell_type": "code",
   "execution_count": 69,
   "metadata": {},
   "outputs": [
    {
     "data": {
      "image/png": "[encoded data removed]",
      "text/plain": [
       "<Figure size 432x288 with 1 Axes>"
      ]
     },
     "metadata": {
      "needs_background": "light"
     },
     "output_type": "display_data"
    }
   ],
   "source": [
    "plt.scatter(X_train, y_train, label=\"train\")\n",
    "plt.scatter(X_test, y_test, label=\"test\")\n",
    "plt.xlabel(\"age (years)\")\n",
    "plt.ylabel(\"price (€)\")\n",
    "plt.title(\"Figure Prices\")\n",
    "plt.grid(color = 'white', alpha=0.5, linestyle = '--', linewidth = 0.5)\n",
    "plt.legend()\n",
    "plt.show()"
   ]
  },
  {
   "cell_type": "markdown",
   "metadata": {},
   "source": [
    "## Subgradients\n",
    "\n",
    "$$\\text{A vector } g \\in \\mathbb{R}^d \\text{ is a subgradient of a function } \\\\\n",
    "f: \\mathbb{R}^d \\rightarrow \\mathbb{R} \\text{ at the point } x_0 \\text{ if for all points } x \\text{ the following holds:} \\\\\n",
    "f(x) \\geq  {\\color{#26a6ed}f(x_0)} + g(x {\\color{#26a6ed} - x_0})\n",
    "\n",
    "$$"
   ]
  },
  {
   "cell_type": "markdown",
   "metadata": {},
   "source": [
    "## Loss and gradient functions"
   ]
  },
  {
   "cell_type": "code",
   "execution_count": 70,
   "metadata": {},
   "outputs": [],
   "source": [
    "def get_elastic_mse_function(a2=1, a1=0):\n",
    "    \n",
    "    def elastic_mse(y, y_predicted, theta):\n",
    "        error = y-y_predicted\n",
    "        loss = 1/(y.size) * np.dot(error.T, error) + a2 * np.dot(theta,theta) + a1 * np.sum(np.abs(theta))\n",
    "        return loss\n",
    "    \n",
    "    return elastic_mse\n",
    "\n",
    "\n",
    "def get_elastic_gradient_function(a2=1, a1=0):\n",
    "    \n",
    "    def elastic_gradient(X_b, y, y_pred, theta):\n",
    "        return  -(2/y.size) * X_b.T.dot((y - y_pred)) + a1 * np.sign(theta) + 2 * a2 * theta\n",
    "\n",
    "    return elastic_gradient"
   ]
  },
  {
   "cell_type": "markdown",
   "metadata": {},
   "source": [
    "## Subgradient descent"
   ]
  },
  {
   "cell_type": "code",
   "execution_count": 71,
   "metadata": {},
   "outputs": [],
   "source": [
    "def subgradient_descent(X, y, theta, criterion, subgradient_function, number_of_iterations, learning_rate):\n",
    "    X_b = add_intercept_ones(X)\n",
    "    for i in range(number_of_iterations):\n",
    "\n",
    "        # predict and calculate loss\n",
    "        f = create_function(theta) # create the current function\n",
    "        y_predicted = f(X_b) # predict our entire x\n",
    "        loss = criterion(y, y_predicted, theta) # calculate the error\n",
    "\n",
    "        # perform optimization\n",
    "        subgradient = subgradient_function(X_b, y, y_predicted, theta) # calculate gradient\n",
    "        theta = theta - learning_rate * subgradient #adjust m and b\n",
    "        \n",
    "    return theta"
   ]
  },
  {
   "cell_type": "code",
   "execution_count": 72,
   "metadata": {},
   "outputs": [
    {
     "name": "stdout",
     "output_type": "stream",
     "text": [
      "[40.75       -2.74229857]\n"
     ]
    }
   ],
   "source": [
    "theta = np.random.rand(2)\n",
    "number_of_iterations = 3000\n",
    "learning_rate = 0.01\n",
    "\n",
    "# important: use standardized data!\n",
    "theta_lasso_subgd = subgradient_descent(X_train_s, y_train, theta,\n",
    "                    get_elastic_mse_function(a2=0, a1=1),\n",
    "                    get_elastic_gradient_function(a2=0, a1=1),\n",
    "                    number_of_iterations, learning_rate)\n",
    "print(theta_lasso_subgd)"
   ]
  },
  {
   "cell_type": "code",
   "execution_count": null,
   "metadata": {},
   "outputs": [],
   "source": []
  }
 ],
 "metadata": {
  "interpreter": {
   "hash": "7636056f1e4d8fdf67bea993a39219552fd16254f6bf1d4cfd5ce8af047e9af1"
  },
  "kernelspec": {
   "display_name": "Python 3.8.13",
   "language": "python",
   "name": "python3"
  },
  "language_info": {
   "codemirror_mode": {
    "name": "ipython",
    "version": 3
   },
   "file_extension": ".py",
   "mimetype": "text/x-python",
   "name": "python",
   "nbconvert_exporter": "python",
   "pygments_lexer": "ipython3",
   "version": "3.8.13"
  },
  "orig_nbformat": 4
 },
 "nbformat": 4,
 "nbformat_minor": 2
}
