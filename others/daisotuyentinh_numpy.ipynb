{
 "cells": [
  {
   "cell_type": "code",
   "execution_count": 2,
   "metadata": {},
   "outputs": [],
   "source": [
    "import numpy as np"
   ]
  },
  {
   "cell_type": "markdown",
   "metadata": {},
   "source": [
    "## Scala - Số vô hướng\n",
    "\n",
    " khi biểu diễn giá nhà $y$ theo diện tích $x$ theo phương trình $y=20x + 200$  thì các số vô hướng là $20,200$ và các biến là $x, y$."
   ]
  },
  {
   "cell_type": "code",
   "execution_count": 3,
   "metadata": {},
   "outputs": [
    {
     "name": "stdout",
     "output_type": "stream",
     "text": [
      "Diện tích x = 50, giá nhà y = a*50 +b = 1200\n"
     ]
    }
   ],
   "source": [
    "a = np.array(20)\n",
    "b = np.array(200)\n",
    "print('Diện tích x = 50, giá nhà y = a*50 +b =', a*50 + b)"
   ]
  },
  {
   "cell_type": "markdown",
   "metadata": {},
   "source": [
    "## Vector\n",
    "\n",
    "Véc tơ là một khái niệm cơ bản nhất của toán học. Chúng ta có thể coi véc tơ là một tập hợp nhiều giá trị của số vô hướng. Véc tơ thường biểu diễn một đại lượng cụ thể trên thực tiễn. Ví dụ như diện tích của các căn nhà là một véc tơ, số lượng phòng ngủ cũng là một véc tơ. Véc tơ có độ dài đặc trưng chính bằng số lượng các phần tử trong nó. Để khởi tạo một véc tơ, trong pytorch chúng ta bao các giá trị của nó trong dấu ngoặc vuông"
   ]
  },
  {
   "cell_type": "code",
   "execution_count": 4,
   "metadata": {},
   "outputs": [
    {
     "data": {
      "text/plain": [
       "array([1, 2, 3, 4, 5])"
      ]
     },
     "execution_count": 4,
     "metadata": {},
     "output_type": "execute_result"
    }
   ],
   "source": [
    "x = np.array([1, 2, 3, 4, 5])\n",
    "x"
   ]
  },
  {
   "cell_type": "markdown",
   "metadata": {},
   "source": [
    "### Các thuộc tính của véc tơ\n",
    "\n",
    "Một véc tơ sẽ có độ dài và định dạng dữ liệu xác định. Ngoài ra nếu coi một biến số là một véc tơ thì trong thống kê mô tả chúng ta sẽ quan tâm tới tổng, trung bình, phương sai, giá trị lớn nhất, nhỏ nhất."
   ]
  },
  {
   "cell_type": "code",
   "execution_count": 6,
   "metadata": {},
   "outputs": [
    {
     "name": "stdout",
     "output_type": "stream",
     "text": [
      "Length of x = 5\n",
      "Type of element in x = int64\n",
      "Sum of elements in x = 15\n",
      "Mean of elements in x = 3.0\n",
      "Max of elements in x = 5\n",
      "Min of elements in x = 1\n"
     ]
    }
   ],
   "source": [
    "# Length\n",
    "print('Length of x =', len(x)) # or x.size()\n",
    "# Type of element in vector\n",
    "print('Type of element in x =', x.dtype)\n",
    "# sum of elements in vector\n",
    "print('Sum of elements in x =', x.sum())\n",
    "# Mean of elements in vector\n",
    "print('Mean of elements in x =', x.mean())\n",
    "# Max of elements in vector\n",
    "print('Max of elements in x =', x.max())\n",
    "# Min of elements in vector\n",
    "print('Min of elements in x =', x.min())\n"
   ]
  },
  {
   "cell_type": "markdown",
   "metadata": {},
   "source": [
    "### Các phép tính trên véc tơ\n",
    "\n",
    "Chúng ta có thể thực hiện các phép tính trên véc tơ như phép cộng, trừ, tích vô hướng, tích có hướng giữa hai véc tơ.. Lưu ý là chúng phải có cùng độ dài. Trong khuôn khổ cuốn sách này, các véc tơ sẽ được ký hiệu là một ký tự chữ thường in đậm như $\\mathbf{x}, \\mathbf{y}, \\mathbf{z}$. Ngoài ra $\\mathbf{x}\\in \\mathbb{R}^{n}$ là véc tơ số thực có độ dài $n$."
   ]
  },
  {
   "cell_type": "code",
   "execution_count": 8,
   "metadata": {},
   "outputs": [],
   "source": [
    "x = np.array([1, 2, 3, 4, 5, 6 ])\n",
    "y = np.array([7, 8, 9, 10, 11, 12])"
   ]
  },
  {
   "cell_type": "code",
   "execution_count": 9,
   "metadata": {},
   "outputs": [
    {
     "name": "stdout",
     "output_type": "stream",
     "text": [
      "x+y = [ 8 10 12 14 16 18]\n",
      "x-y = [-6 -6 -6 -6 -6 -6]\n",
      "x*y = [ 7 16 27 40 55 72]\n"
     ]
    }
   ],
   "source": [
    "print('x+y =', x+y)\n",
    "print('x-y =', x-y)\n",
    "print('x*y =', x*y)"
   ]
  },
  {
   "cell_type": "markdown",
   "metadata": {},
   "source": [
    "## Ma trận\n",
    "\n",
    "Véc tơ là đại lượng một chiều nên nó chỉ có thể biểu diễn cho một biến. Trong trường hợp chúng ta cần biểu diễn cho nhiều biến thì sẽ cần tới đại lượng hai chiều là ma trận. Ma trận được ký hiệu bởi một chữ cái in đậm $\\mathbf{A} \\in \\mathbb{R}^{m\\times n}$ là một ma trận số thực có $m$ dòng và $n$ cột.\n",
    "\n",
    "$$\\begin{split}\\mathbf{A}=\\begin{bmatrix} \n",
    "a_{11} & a_{12} & \\cdots & a_{1n} \\\\ \n",
    "a_{21} & a_{22} & \\cdots & a_{2n} \\\\ \n",
    "\\vdots & \\vdots & \\ddots & \\vdots \\\\ \n",
    "a_{m1} & a_{m2} & \\cdots & a_{mn} \\\\ \n",
    "\\end{bmatrix}.\\end{split}$$\n",
    "\n",
    "Để xác định một phần tử bất kỳ thuộc dòng thứ $i$, cột thứ $j$ của ma trận $\\mathbf{A}$ ta ký hiệu chúng là $\\mathbf{A}_{ij}$. Véc tơ dòng thứ $i$ sẽ là $\\mathbf{A}_{i:}$ và véc tơ cột thứ $j$ sẽ là $\\mathbf{A}_{:j}$. Để đơn giản hoá ta qui ước $\\mathbf{A}_{j}$ là véc tơ cột $j$ và $\\mathbf{A}^{(i)}$ là véc tơ dòng $i$."
   ]
  },
  {
   "cell_type": "markdown",
   "metadata": {},
   "source": [
    "### Các ma trận đặc biệt\n",
    "\n",
    "* Ma trận vuông: Ma trận vuông là ma trận có số dòng bằng số cột. Ma trận vuông rất quan trọng vì khi tìm nghiệm cho hệ phương trình, từ ma trận vuông ta có thể chuyển sang ma trận tam giác. Ma trận vuông cũng là ma trận có thể tính được giá trị định thức. Tóm lại ma trận $\\mathbf{A} \\in \\mathbb{R}^{m \\times n}$ vuông nếu $m=n$. \n",
    "\n",
    "* Ma trận đơn vị: Là ma trận có đường chéo chính bằng 1, các phần tử còn lại bằng $0$. Ví dụ ma trận đơn vị kích thước $3 \\times 3$ được ký hiệu là $\\mathbf{I}_3$ có gía trị là:\n",
    "\n",
    "$$\\begin{split}\\mathbf{I}_3=\n",
    "\\begin{bmatrix} \n",
    "1 & 0 & 0 \\\\ \n",
    "0 & 1 & 0 \\\\ \n",
    "0 & 0 & 1 \n",
    "\\end{bmatrix}\n",
    "\\end{split}$$\n",
    "\n",
    "Tóm lại, $\\mathbf{A}$ là ma trận đơn vị nếu nó là ma trận vuông và $a_{ij} = 1$ nếu $i=j$ và $a_{ij} = 0$ nếu $i \\neq j$.\n",
    "\n",
    "* Ma trận đường chéo: Là ma trận có các phần tử trên đường chéo chính khác 0 và các phần tử còn lại bằng 0. Ví dụ về ma trận đường chéo:\n",
    "\n",
    "\n",
    "$$\\begin{split}\\mathbf{A}=\n",
    "\\begin{bmatrix} \n",
    "1 & 0 & 0 \\\\ \n",
    "0 & 2 & 0 \\\\ \n",
    "0 & 0 & 3 \n",
    "\\end{bmatrix}\n",
    "\\end{split}$$\n",
    "\n",
    "\n",
    "* Ma trận chuyển vị: $\\mathbf{B}$ là ma trận chuyển vị của $\\mathbf{A}$ nếu $b_{ij} = a_{ji}$ với mọi $i, j$. Dễ hiểu hơn, tức là mọi dòng của ma trận $A$ sẽ là cột của ma trận $\\mathbf{B}$. Ví dụ:\n",
    "\n",
    "$$\\begin{split}\\mathbf{A}=\n",
    "\\begin{bmatrix} \n",
    "1 & 2 & 3 \\\\ \n",
    "3 & 2 & 1\n",
    "\\end{bmatrix}\n",
    "\\end{split}, \\begin{split}\\mathbf{B}=\n",
    "\\begin{bmatrix} \n",
    "1 & 3 \\\\\n",
    "2 & 2 \\\\ \n",
    "3 & 1\\end{bmatrix}\n",
    "\\end{split}$$\n",
    "\n",
    "\n",
    "Ký hiệu chuyển vị của ma trận $\\mathbf{A}$ là $\\mathbf{A}^{\\intercal}$"
   ]
  },
  {
   "cell_type": "markdown",
   "metadata": {},
   "source": [
    "###  Các thuộc tính của ma trận\n",
    "\n",
    "Một ma trận được đặc trưng bởi dòng và cột."
   ]
  },
  {
   "cell_type": "code",
   "execution_count": 11,
   "metadata": {},
   "outputs": [
    {
     "data": {
      "text/plain": [
       "array([[1, 2, 3],\n",
       "       [4, 5, 6]])"
      ]
     },
     "execution_count": 11,
     "metadata": {},
     "output_type": "execute_result"
    }
   ],
   "source": [
    "A = np.array([[1, 2, 3], [4, 5, 6]])\n",
    "A"
   ]
  },
  {
   "cell_type": "code",
   "execution_count": 12,
   "metadata": {},
   "outputs": [
    {
     "name": "stdout",
     "output_type": "stream",
     "text": [
      "Shape of A = (2, 3)\n"
     ]
    }
   ],
   "source": [
    "print('Shape of A =', A.shape)"
   ]
  },
  {
   "cell_type": "markdown",
   "metadata": {},
   "source": [
    "### Các phép tính trên ma trận\n",
    "\n",
    "Hai ma trận có cùng kích thước chúng ta có thể thực hiện các phép cộng, trừ, tích hadamard (hoặc elementi-wise). Ma trận thu được cũng có cùng kích thước và các phần tử của nó được tính dựa trên các phần tử có cùng vị trí trên cả hai ma trận $\\mathbf{A}$ và $\\mathbf{B}$."
   ]
  },
  {
   "cell_type": "markdown",
   "metadata": {},
   "source": [
    "**Tích hadamard hoặc element-wise**\n",
    "\n",
    "$$\n",
    "\\begin{split}\\mathbf{A} \\odot \\mathbf{B} =\n",
    "\\begin{bmatrix}\n",
    "    a_{11}  b_{11} & a_{12}  b_{12} & \\dots  & a_{1n}  b_{1n} \\\\\n",
    "    a_{21}  b_{21} & a_{22}  b_{22} & \\dots  & a_{2n}  b_{2n} \\\\\n",
    "    \\vdots & \\vdots & \\ddots & \\vdots \\\\\n",
    "    a_{m1}  b_{m1} & a_{m2}  b_{m2} & \\dots  & a_{mn}  b_{mn}\n",
    "\\end{bmatrix}\\end{split}\n",
    "$$"
   ]
  },
  {
   "cell_type": "code",
   "execution_count": 15,
   "metadata": {},
   "outputs": [],
   "source": [
    "A = np.array([[1, 2, 3], [4, 5, 6]])\n",
    "B = np.array([[7, 8, 9], [10, 11, 12]])"
   ]
  },
  {
   "cell_type": "code",
   "execution_count": 16,
   "metadata": {},
   "outputs": [
    {
     "name": "stdout",
     "output_type": "stream",
     "text": [
      "A*B = [[ 7 16 27]\n",
      " [40 55 72]]\n",
      "A-B = [[-6 -6 -6]\n",
      " [-6 -6 -6]]\n",
      "A+B = [[ 8 10 12]\n",
      " [14 16 18]]\n"
     ]
    }
   ],
   "source": [
    "print('A*B =', A*B)\n",
    "print('A-B =', A-B)\n",
    "print('A+B =', A+B)"
   ]
  },
  {
   "cell_type": "markdown",
   "metadata": {},
   "source": [
    "**Tích thông thường**: Tích thông thường giữa hai ma trận $\\mathbf{A}$ có kích thước $m \\times n$ và $\\mathbf{B}$ có kích thước $n \\times p$ là một ma trận có kích thước $m \\times p$. Ma trận output $\\mathbf{C}$ có giá trị tại phần tử $c_{ij} = \\mathbf{A}^{(i)} \\mathbf{B}_{j}$ (dòng thứ $i$ của ma trận $\\mathbf{A}$ nhân với cột thứ $j$ của ma trận $\\mathbf{B}$).\n",
    "\n",
    "$$\n",
    "\\begin{split}\\mathbf{A}_{m \\times n} \\mathbf{B}_{n \\times p} =\n",
    "\\begin{bmatrix}\n",
    "    \\mathbf{A}^{(1)}  \\mathbf{B}_{1} & \\mathbf{A}^{(1)}  \\mathbf{B}_{2} & \\dots  & \\mathbf{A}^{(1)}  \\mathbf{B}_{p} \\\\\n",
    "    \\mathbf{A}^{(2)}  \\mathbf{B}_{1} & \\mathbf{A}^{(2)}  \\mathbf{B}_{2} & \\dots  & \\mathbf{A}^{(2)}  \\mathbf{B}_{p} \\\\\n",
    "    \\vdots & \\vdots & \\ddots & \\vdots \\\\\n",
    "    \\mathbf{A}^{(m)}  \\mathbf{B}_{1} & \\mathbf{A}^{(m)}  \\mathbf{B}_{2} & \\dots  & \\mathbf{A}^{(m)}  \\mathbf{B}_{p} \\\\\n",
    "\\end{bmatrix}\\end{split}_{m \\times p}\n",
    "$$\n",
    "\n",
    "Chắc các bạn còn nhớ $\\mathbf{A}^{(i)}$ là véc tơ dòng và $\\mathbf{A}_{j}$ là véc tơ cột."
   ]
  },
  {
   "cell_type": "code",
   "execution_count": 17,
   "metadata": {},
   "outputs": [
    {
     "data": {
      "text/plain": [
       "array([[ 66,  72,  78],\n",
       "       [156, 171, 186]])"
      ]
     },
     "execution_count": 17,
     "metadata": {},
     "output_type": "execute_result"
    }
   ],
   "source": [
    "A = np.array([[1, 2, 3], [4, 5, 6]])\n",
    "B = np.array([[7, 8, 9], [10, 11, 12], [13, 14, 15]])\n",
    "A@B"
   ]
  },
  {
   "cell_type": "markdown",
   "metadata": {},
   "source": [
    "### Ma trận nghịch đảo\n",
    "\n",
    "Trên numpy để tính ma trận nghịch đảo chúng ta sử dụng hàm `np.linalg.pinv` hoặc `np.linalg.inv`. Hàm `np.linalg.pinv` sẽ bao gồm cả trường hợp $\\mathbf{A}$ không khả nghịch, giá trị trả về là một ma trận giả nghịch đảo (_pseudo-inverse matrix_). "
   ]
  },
  {
   "cell_type": "code",
   "execution_count": 18,
   "metadata": {},
   "outputs": [],
   "source": [
    "A = np.array([[1, 2, 3], \n",
    "              [3, 2, 1],\n",
    "              [4, 2, 2]])"
   ]
  },
  {
   "cell_type": "code",
   "execution_count": 19,
   "metadata": {},
   "outputs": [
    {
     "name": "stdout",
     "output_type": "stream",
     "text": [
      "A_inv = [[-0.25 -0.25  0.5 ]\n",
      " [ 0.25  1.25 -1.  ]\n",
      " [ 0.25 -0.75  0.5 ]]\n"
     ]
    }
   ],
   "source": [
    "A_inv = np.linalg.inv(A)\n",
    "print('A_inv =', A_inv)"
   ]
  },
  {
   "cell_type": "markdown",
   "metadata": {},
   "source": [
    "### Truy cập thành phần\n",
    "\n",
    "Chúng ta có thể truy cập vào các thành phần của ma trận $\\mathbf{A}$ dựa theo các chỉ số slice index. Chúng ta có thể tổng hợp kiến thức về truy cập thành phần trong bản sau:\n",
    "\n",
    "| Cú pháp      | Mô tả |\n",
    "| ----------- | ----------- |\n",
    "| :n      | lấy n index đầu tiên từ [0, 1, ..., n-1]       |\n",
    "| -n:   | lấy n index cuối cùng từ [len-n, ..., len-1]        |\n",
    "| i:j   | lấy các index từ [i, i+1, ..., j-1]        |\n",
    "| ::2   | lấy các index chẵn liên tiếp [0, 2, 4 ..., int(len/2)*2]        |\n",
    "| ::k   | lấy các index cách đều và chia hết cho k một cách liên tiếp [0, k, 2k, ..., int(len/k)*k]        |\n",
    "| :   | lấy toàn bộ index        |"
   ]
  },
  {
   "cell_type": "code",
   "execution_count": 20,
   "metadata": {},
   "outputs": [],
   "source": [
    "A = np.array([[1, 2, 3], \n",
    "              [3, 2, 1],\n",
    "              [4, 2, 2]])"
   ]
  },
  {
   "cell_type": "code",
   "execution_count": 21,
   "metadata": {},
   "outputs": [
    {
     "data": {
      "text/plain": [
       "array([[1, 2],\n",
       "       [3, 2]])"
      ]
     },
     "execution_count": 21,
     "metadata": {},
     "output_type": "execute_result"
    }
   ],
   "source": [
    "# Ma trận con từ 2 hàng đầu tiên và 2 cột đầu tiên\n",
    "A_sub = A[:2, :2]\n",
    "A_sub"
   ]
  },
  {
   "cell_type": "code",
   "execution_count": 23,
   "metadata": {},
   "outputs": [
    {
     "data": {
      "text/plain": [
       "array([[3, 2],\n",
       "       [4, 2]])"
      ]
     },
     "execution_count": 23,
     "metadata": {},
     "output_type": "execute_result"
    }
   ],
   "source": [
    "# Ma trận con từ 2 dòng cuối và 2 cột đầu\n",
    "A_sub = A[-2:, :2]\n",
    "A_sub"
   ]
  },
  {
   "cell_type": "code",
   "execution_count": 26,
   "metadata": {},
   "outputs": [
    {
     "data": {
      "text/plain": [
       "array([2, 1])"
      ]
     },
     "execution_count": 26,
     "metadata": {},
     "output_type": "execute_result"
    }
   ],
   "source": [
    "# Ma trận con từ dòng thứ 2 và 2 cột cuối cùng\n",
    "A_sub = A[1, -2:]\n",
    "A_sub"
   ]
  },
  {
   "cell_type": "markdown",
   "metadata": {},
   "source": [
    "## Tensor\n",
    "\n",
    "Tensor là một định dạng đặc biệt được sáng tạo ra bởi google. Nó tổng quát hơn so với ma trận vì có thể biểu diễn được các không gian với số chiều tuỳ ý. Chẳng hạn trong xử lý ảnh chúng ta có một bức ảnh với kích thước là $W \\times H \\times C$ lần lượt $W, H, C$ là chiều _width, height và channels_. Thông thường $C = 1$ hoặc $3$ tuỳ theo ảnh là ảnh xám hay ảnh màu RGB. Trong huấn luyện mô hình phân loại ảnh thì các đầu vào được kết hợp theo mini-batch nên sẽ có thêm một chiều về batch_size. Do đó input có kích thước là $N \\times W \\times H \\times C$."
   ]
  },
  {
   "cell_type": "markdown",
   "metadata": {},
   "source": [
    "### Các thuộc tính của tensor\n",
    "\n",
    "Một tensor được đặc trưng bởi kích thước các chiều, số lượng chiều, định dạng dữ liệu của tensor."
   ]
  },
  {
   "cell_type": "code",
   "execution_count": 29,
   "metadata": {},
   "outputs": [
    {
     "data": {
      "text/plain": [
       "array([[[1, 2, 3],\n",
       "        [3, 2, 1]],\n",
       "\n",
       "       [[2, 1, 2],\n",
       "        [1, 3, 0]]])"
      ]
     },
     "execution_count": 29,
     "metadata": {},
     "output_type": "execute_result"
    }
   ],
   "source": [
    "A = np.array([[[1, 2, 3], \n",
    "              [3, 2, 1]],\n",
    "              [[2, 1, 2], \n",
    "              [1, 3, 0]]])\n",
    "A"
   ]
  },
  {
   "cell_type": "code",
   "execution_count": 31,
   "metadata": {},
   "outputs": [
    {
     "name": "stdout",
     "output_type": "stream",
     "text": [
      "Shape of A = (2, 2, 3)\n",
      "Number of dimensions of A = 3\n",
      "Type of A = int64\n"
     ]
    }
   ],
   "source": [
    "# Kích thước của tenso\n",
    "print('Shape of A =', A.shape)\n",
    "# Số chiều\n",
    "print('Number of dimensions of A =', A.ndim)\n",
    "# Loại dữ liệu của mảng\n",
    "print('Type of A =', A.dtype)"
   ]
  },
  {
   "cell_type": "markdown",
   "metadata": {},
   "source": [
    "### Các phép tính trên tensor"
   ]
  },
  {
   "cell_type": "markdown",
   "metadata": {},
   "source": [
    "**Tích thông thường giữa 2 tensors**: Nếu tensor $\\mathbf{A}$ có kích thước $m \\times n \\times p$ và tensor $\\mathbf{B}$ có kích thước $n \\times p \\times q$ thì tích giữa chúng có kích thước là $m \\times n \\times q$. Trên python chúng ta sử dụng ký hiệu `@` để đại diện cho tích thông thường."
   ]
  },
  {
   "cell_type": "code",
   "execution_count": 35,
   "metadata": {},
   "outputs": [
    {
     "name": "stdout",
     "output_type": "stream",
     "text": [
      "A = [[[-0.75830435 -0.1855254   0.95356428  0.6563726 ]\n",
      "  [ 0.05595613  0.22378933 -0.73265186 -0.09869173]\n",
      "  [ 1.33667941  0.47479626 -1.69290333 -0.52656552]]\n",
      "\n",
      " [[ 0.20567248  1.14408157  0.33588235  0.43937963]\n",
      "  [-0.14574969  0.06637614  1.04592619  0.20198778]\n",
      "  [-1.58715161  0.20212128 -1.51948216 -0.58392304]]]\n",
      "Shape of A = (2, 3, 4)\n",
      "B = [[[-0.04009766  0.10774247]\n",
      "  [ 0.98568509 -0.15426866]\n",
      "  [ 1.41633231 -1.16725947]\n",
      "  [ 1.41273663  0.63184705]]\n",
      "\n",
      " [[ 1.52680914 -0.64319105]\n",
      "  [ 1.05691928 -0.98045898]\n",
      "  [ 1.26991765 -0.19362859]\n",
      "  [-0.22155258  0.60478904]]]\n",
      "Shape of B = (2, 4, 2)\n",
      "A@B = [[[ 2.12538212 -0.75141067]\n",
      "  [-0.95876182  0.76434191]\n",
      "  [-2.72721022  1.71411953]]\n",
      "\n",
      " [[ 1.85242175 -1.05331619]\n",
      "  [ 1.13111147 -0.05169539]\n",
      "  [-4.00989928  0.76373501]]]\n",
      "Shape of A@B = (2, 3, 2)\n"
     ]
    }
   ],
   "source": [
    "A = np.random.randn(2, 3, 4)\n",
    "B = np.random.randn(2, 4, 2)\n",
    "print('A =', A)\n",
    "print('Shape of A =', A.shape)\n",
    "print('B =', B)\n",
    "print('Shape of B =', B.shape)\n",
    "print('A@B =', A@B)\n",
    "print('Shape of A@B =',(A@B).shape)\n"
   ]
  },
  {
   "cell_type": "markdown",
   "metadata": {},
   "source": [
    "**Tích hadamard giữa 2 tensor**"
   ]
  },
  {
   "cell_type": "code",
   "execution_count": 37,
   "metadata": {},
   "outputs": [
    {
     "data": {
      "text/plain": [
       "(2, 3, 4)"
      ]
     },
     "execution_count": 37,
     "metadata": {},
     "output_type": "execute_result"
    }
   ],
   "source": [
    "A = np.random.randn(2, 3, 4)\n",
    "B = np.random.randn(2, 3, 4)\n",
    "\n",
    "# Tích hadamard giữa 2 array\n",
    "(A*B).shape"
   ]
  },
  {
   "cell_type": "markdown",
   "metadata": {},
   "source": [
    "## Tích giữa một ma trận với véc tơ\n",
    "\n",
    "Bản chất của phép nhân một ma trận với một véc tơ là một **phép biến hình**. Giả sử bạn có ma trận $\\mathbf{A} \\in \\mathbb{R}^{m \\times n}$ và véc tơ $\\mathbf{x} \\in \\mathbb{R}^{n}$. Khi đó tích giữa ma trận $\\mathbf{A}$ với véc tơ $\\mathbf{x}$ là một véc tơ $\\mathbf{y}$ trong không gian mới $\\mathbf{y} \\in \\mathbb{R}^{m}$. $\\mathbf{y}$ được xem như ảnh của $\\mathbf{x}$ khi chiếu lên không gian $m$ chiều thông qua hàm ánh xạ $f(\\mathbf{x}) = \\mathbf{A}\\mathbf{x}$.\n",
    "\n",
    "$$\\mathbf{A}\\mathbf{x} =\n",
    "\\begin{bmatrix}\n",
    "\\mathbf{a}^\\top_{1} \\\\\n",
    "\\mathbf{a}^\\top_{2} \\\\\n",
    "\\vdots \\\\\n",
    "\\mathbf{a}^\\top_m \\\\\n",
    "\\end{bmatrix} \\mathbf{x} = \\begin{bmatrix}\n",
    "\\mathbf{a}^\\top_{1} \\mathbf{x} \\\\\n",
    "\\mathbf{a}^\\top_{2} \\mathbf{x} \\\\\n",
    "\\vdots \\\\\n",
    "\\mathbf{a}^\\top_m \\mathbf{x} \\\\\n",
    "\\end{bmatrix} = \\begin{bmatrix}\n",
    "y_1 \\\\\n",
    "y_2 \\\\\n",
    "\\vdots \\\\\n",
    "y_m\n",
    "\\end{bmatrix} = \\mathbf{y}$$\n",
    "\n",
    "Như vậy thông qua ma trận $\\mathbf{A}$ chúng ta đã biến đổi véc tơ $\\mathbf{x}$ từ không gian $n$ chiều sang véc tơ $\\mathbf{y}$ trong không gian $m$ chiều. Khi lựa chọn số chiều $m$ trong không gian mới nhỏ hơn, chúng ta thu được một đầu ra $\\mathbf{y}$ là hình ảnh giảm chiều của véc tơ đầu vào $\\mathbf{x}$. Phép biến đổi này thường xuyên được áp dụng trong machine learning để nhằm giảm chiều dữ liệu, đặc biệt là ở những layer fully connected cuối cùng của mạng nơ ron. Trong _phân tích suy biến_ (_singular decomposition_) chúng ta cũng sử dụng phép biến đổi không gian để tạo thành một véc tơ mới sao cho tích vô hướng giữa hai véc tơ bất kì được bảo toàn. Bạn sẽ được đọc thêm về phép phân tích suy biến ở những chương sau. Các phép xoay ảnh cũng biến đổi toạ độ các điểm sang không gian mới bằng cách nhân véc tơ toạ độ của chúng với ma trận xoay rotation.\n",
    "\n",
    "Một ứng dụng đặc biệt quan trọng của phép nhân ma trận với một véc tơ là trong hồi qui tuyến tính. Để tính được giá trị dự báo của biến mục tiêu $\\hat{y}$ chúng ta cần nhân ma trận đầu vào $\\mathbf{X}$ với véc tơ hệ số ước lượng $\\mathbf{w}$. "
   ]
  },
  {
   "cell_type": "markdown",
   "metadata": {},
   "source": [
    "## Tích vô hướng (_inner product_)\n",
    "\n",
    "Tích vô hướng giữa hai véc tơ $\\mathbf{x}, \\mathbf{y} \\in \\mathbb{R}^{d}$ có cùng kích thước là một số vô hướng được ký hiệu là $\\langle \\mathbf{x}, \\mathbf{y} \\rangle$ hoặc $\\mathbf{x}^{\\top}\\mathbf{y}$ có công thức như sau:\n",
    "\n",
    "$$\\langle \\mathbf{x}, \\mathbf{y} \\rangle = \\sum_{i=1}^{d} x_i y_i$$\n",
    "\n",
    "Tích vô hướng rất quan trọng. Đây cũng là lý do mà tôi phải tách chúng thành một mục riêng. Bạn có thể bắt gặp tích vô hướng rất nhiều trong machine learning. Bên dưới là một số tình huống thường gặp:\n",
    "\n",
    "- Tích vô hướng có thể được sử dụng để tính giá trị ước lượng của phương trình hồi qui tuyến tính. Ví dụ nếu bạn biết giá nhà được biểu diễn theo diện tích $x_1$ và số phòng ngủ $x_2$ theo công thức: \n",
    "\n",
    "$$y=20x_1 + 10x_2+ 200$$\n",
    "\n",
    "Thì một cách khái quát bạn có thể ước lượng $y$ theo tích vô hướng giữa véc tơ đầu vào $\\mathbf{x}^{\\top} = (x_1, x_2, 1)$ và véc tơ hệ số $\\mathbf{w} = (20, 10, 200)$ như sau:\n",
    " \n",
    "$$\\hat{y} = \\mathbf{x}^{\\top}\\mathbf{w}$$\n",
    "\n",
    "- Tích vô hướng cũng được sử dụng để tính trung bình có trọng số của $\\mathbf{x}$:\n",
    "\n",
    "$$\\bar{\\mathbf{x}} = \\sum_{i=1}^{n} x_i q_i= \\mathbf{x}^{\\top}\\mathbf{q}$$\n",
    "với $\\sum_{i=1}^{n} q_i= 1$\n",
    "\n",
    "- Ngoài ra, chắc hẳn bạn còn nhớ cách tính cos giữa hai véc tơ $\\mathbf{x}$ và $\\mathbf{y}$ sẽ bằng tích vô hướng giữa hai véc tơ được chuẩn hoá theo norm chuẩn bậc 2.\n",
    "\n",
    "$$\\cos({\\mathbf{x}, \\mathbf{y}}) = \\frac{\\sum_{i=1}^{d} x_i y_i}{ \\sqrt{\\sum_{i=1}^{d} x_i^2} \\sqrt{\\sum_{i=1}^d y_i^2}}= \\frac{\\langle \\mathbf{x}, \\mathbf{y} \\rangle}{\\mathbf{||x||_2}\\mathbf{||y||_2}}\n",
    "$$\n"
   ]
  },
  {
   "cell_type": "code",
   "execution_count": 38,
   "metadata": {},
   "outputs": [
    {
     "data": {
      "text/plain": [
       "20"
      ]
     },
     "execution_count": 38,
     "metadata": {},
     "output_type": "execute_result"
    }
   ],
   "source": [
    "x = np.array([1, 2, 3])\n",
    "y = np.array([2, 3, 4])\n",
    "x.dot(y)"
   ]
  },
  {
   "cell_type": "markdown",
   "metadata": {},
   "source": [
    "## Khái niệm chuẩn\n",
    "\n",
    "Chuẩn là một độ đo trên véc tơ véc tơ hoặc ma trận. Một hàm\n",
    "$f(\\mathbf{x})$ là một phép ánh xạ từ véc tơ sang một đại lượng vô hướng $\\mathbb{R}^{d} \\mapsto \\mathbb{R}$ nếu nó thoả mãn các tính chất.\n",
    "\n",
    "1-. Tính chất scale: \n",
    "\n",
    "$$\\alpha f(\\mathbf{x}) = f(\\alpha\\mathbf{x})$$\n",
    "\n",
    "Như vậy khi bạn phóng đại lên véc tơ $\\alpha$ lần thì giá trị chuẩn của nó cũng phóng đại lên $\\alpha$ lần.\n",
    "\n",
    "2-. Bất đẳng thức tam giác: \n",
    "\n",
    "$$f(\\mathbf{x} + \\mathbf{y}) \\leq f(\\mathbf{x}) + f(\n",
    "  \\mathbf{y}\n",
    ")$$\n",
    "\n",
    "Nếu ta coi $\\mathbf{x}$ như là véc tơ cạnh và $f(\\mathbf{x})$ như là độ dài cạnh của một tam giác thì $f(\\mathbf{x}), f(\\mathbf{y})$ là độ dài của 2 cạnh bất kỳ và tổng của chúng sẽ lớn hơn độ dài cạnh còn lại $f(\\mathbf{x} + \\mathbf{y})$.\n",
    "\n",
    "3-. Tính chất không âm: \n",
    "\n",
    "$$f(\\mathbf{x}) \\geq 0, \\forall \\mathbf{x}$$"
   ]
  },
  {
   "cell_type": "code",
   "execution_count": 41,
   "metadata": {},
   "outputs": [
    {
     "data": {
      "text/plain": [
       "array([3, 4])"
      ]
     },
     "execution_count": 41,
     "metadata": {},
     "output_type": "execute_result"
    }
   ],
   "source": [
    "x = np.array([3, 4])\n",
    "x"
   ]
  },
  {
   "cell_type": "code",
   "execution_count": 43,
   "metadata": {},
   "outputs": [
    {
     "data": {
      "text/plain": [
       "7.0"
      ]
     },
     "execution_count": 43,
     "metadata": {},
     "output_type": "execute_result"
    }
   ],
   "source": [
    "np.linalg.norm(x, ord=1)"
   ]
  },
  {
   "cell_type": "code",
   "execution_count": 44,
   "metadata": {},
   "outputs": [
    {
     "data": {
      "text/plain": [
       "5.0"
      ]
     },
     "execution_count": 44,
     "metadata": {},
     "output_type": "execute_result"
    }
   ],
   "source": [
    "np.linalg.norm(x, ord=2)"
   ]
  },
  {
   "cell_type": "code",
   "execution_count": 45,
   "metadata": {},
   "outputs": [
    {
     "data": {
      "text/plain": [
       "4.497941445275415"
      ]
     },
     "execution_count": 45,
     "metadata": {},
     "output_type": "execute_result"
    }
   ],
   "source": [
    "np.linalg.norm(x, ord=3)"
   ]
  },
  {
   "cell_type": "markdown",
   "metadata": {},
   "source": [
    "Ta nhận thấy hàm MSE đo lường sai số giữa giá trị dự báo và thực tế trong phương trình hồi qui tuyến tính cũng là một dạng chuẩn bậc 2.\n",
    "\n",
    "Chuẩn bậc 1:\n",
    "\n",
    "$$L_{1} = \\|\\mathbf{x}\\|_1 = \\sum_{i=1}^n \\left|x_i \\right| $$\n",
    "\n",
    "Trong hồi qui tuyến tính thì chuẩn bậc 1 đo lường sai số tuyệt đối giữa giá trị dự báo và giá trị thực tế. Tuy nhiên nó ít được sử dụng hơn so với chuẩn bậc 2 như là một loss function vì giá trị của nó có đạo hàm không liên tục. Điều này dẫn tới việc huấn luyện mô hình không ổn định. Tuy nhiên nó cũng khá thường xuyên được sử dụng trong các mô hình deep learning chẳng hạn như GAN.\n",
    "\n",
    "Cả hai chuẩn trên đều là trường hợp cụ thể của chuẩn bậc $p$ (ký hiệu $L_{p}$) tổng quát hơn có công thức như sau:\n",
    "\n",
    "$$L_{p} = \\|\\mathbf{x}\\|_p = \\left(\\sum_{i=1}^n \\left|x_i \\right|^p \\right)^{1/p}$$\n",
    "\n",
    "Để cả 3 điều kiện về chuẩn được thoả mãn thì chúng ta cần có $p \\geq 1$."
   ]
  },
  {
   "cell_type": "markdown",
   "metadata": {},
   "source": [
    "## Định thức và các tính chất của định thức\n",
    "\n",
    "Giả sử ta có một ma trận vuông $\\mathbf{A}$ như sau:\n",
    "\n",
    "$$\\mathbf{A}=\\begin{bmatrix} \n",
    "a_{11} & a_{12} & \\dots & a_{1n} \\\\ \n",
    "a_{21} & a_{22} & \\dots & a_{2n} \\\\ \n",
    "\\dots & \\dots & \\ddots & \\dots \\\\ \n",
    "a_{n1} & a_{n2} & \\dots & a_{nn} \\\\ \n",
    "\\end{bmatrix}$$\n",
    "\n",
    "\n",
    "Định thức của một ma trận $\\mathbf{A}$ được kí hiệu là $| \\mathbf{A} |$ hoặc $\\det(\\mathbf{A})$ là một giá trị được tính theo công thức:\n",
    "\n",
    "$$\\det(\\mathbf{A})= \\sum_{(\\sigma_1, \\sigma_2, \\dots, \\sigma_n) \\in \\mathcal{S}} \\text{sgn}(\\sigma) a_{1\\sigma_1}a_{2\\sigma_2}\\cdots a_{n\\sigma_n}$$\n",
    "\n",
    "Trong đó $\\sigma=(\\sigma_1, \\sigma_2, \\dots, \\sigma_n)$ là một phép hoán vị các thành phần của tập hợp $n$ số tự nhiên đầu tiên $O = \\{1, 2, \\dots, n\\}$. Tập hợp tất cả các hoán vị của $n$ số tự nhiên này còn được kí hiệu là $\\mathcal{S}$. Hàm $\\text{sgn}(\\sigma)$ là một hàm nhận hai gía trị $\\{1, -1\\}$. Nếu số lần hoán vị $\\sigma$ để biến đổi trở về tập $O$ là chẵn thì nhận gía trị 1 và lẻ thì nhận giá trị -1.\n",
    "\n",
    "Trong `numpy`, định thức có thể được tính toán khá dễ dàng thông qua hàm `np.linalg.det()`."
   ]
  },
  {
   "cell_type": "code",
   "execution_count": 46,
   "metadata": {},
   "outputs": [
    {
     "data": {
      "text/plain": [
       "-2.0000000000000004"
      ]
     },
     "execution_count": 46,
     "metadata": {},
     "output_type": "execute_result"
    }
   ],
   "source": [
    "A = np.array([[1, 2],\n",
    "              [3, 4]])\n",
    "\n",
    "# Định thức của ma trận\n",
    "np.linalg.det(A)"
   ]
  },
  {
   "cell_type": "markdown",
   "metadata": {},
   "source": [
    "Ngoài ra định thức của ma trận $\\mathbf{A}$ có thể được khai triển theo các _ma trận phần bù_ $\\mathbf{A}_{ij}$ của ma trận $\\mathbf{A}$. Trong đó ma trận phần bù $\\mathbf{A}_{ij}$ là ma trận được tạo thành bằng cách xoá đi dòng thứ $i$ và cột thứ $j$ của ma trận $\\mathbf{A}$.\n",
    "\n",
    "$$\\det(\\mathbf{A}) = \\sum_{j=1}^{n} (-1)^{i+j} a_{ij} \\det(\\mathbf{A}_{ij})$$\n",
    "\n",
    "Định thức có vai trò rất quan trọng trong đại số tuyến tính. Thông qua định thức, chúng ta có thể biết được hệ các véc tơ dòng (hoặc cột) của một ma trận là độc lập tuyến tính hay phụ thuộc tuyến tính? Hệ phương trình tương ứng với ma trận có thể có bao nhiêu nghiệm? Bên dưới là một số tính chất của định thức:\n",
    "\n",
    "1-. Định thức chỉ tồn tại trên những ma trận vuông.\n",
    "\n",
    "2-. $\\text{det}(\\mathbf{A}) = \\text{det}(\\mathbf{A}^{\\intercal})$\n",
    "\n",
    "3-. $\\det(\\mathbf{I}) = 1$\n",
    "\n",
    "4-. Một ma trận đường chéo thì có định thức bằng tích các phần tử nằm trên đường chéo. Ma trận đường chéo còn được kí hiệu thông qua các phần tử trên đường chéo là $\\text{diag}(a_1, a_2, \\dots, a_m)$. Tức là nếu:\n",
    "\n",
    "$$\\mathbf{A} = \\text{diag}(a_1, a_2, \\dots, a_m)=\\begin{bmatrix} \n",
    "a_{1} & 0 & \\dots & 0\\\\ \n",
    "0 & a_{2} & \\dots & 0\\\\ \n",
    "\\dots & \\dots & \\ddots & \\dots\\\\ \n",
    "0 & 0 & \\dots & a_{m}\\\\ \n",
    "\\end{bmatrix}$$\n",
    "\n",
    "thì:\n",
    "\n",
    "$$\\text{det}(\\mathbf{A}_{m \\times m}) = a_1.a_2 \\dots a_m$$\n",
    "\n",
    "\n",
    "5-. Nếu $\\mathbf{A}, \\mathbf{B}$ là những ma trận vuông cùng kích thước thì \n",
    "\n",
    "$$\\text{det}(\\mathbf{AB}) = \\text{det}(\\mathbf{BA}) = \\det({\\mathbf{A}}) \\det({\\mathbf{B}})$$\n",
    "\n",
    "Cũng từ tính chất này ta suy ra:\n",
    "\n",
    "$$\\det{(\\mathbf{A} \\mathbf{B} \\mathbf{C})} = \\det(\\mathbf{A}) \\det(\\mathbf{B}) \\det(\\mathbf{C})$$\n",
    "\n",
    "6-. Ma trận vuông $\\mathbf{A}$ khả nghịch thì \n",
    "\n",
    "$$\\text{det}(\\mathbf{A}) = \\frac{1}{\\text{det}{(\\mathbf{A}^{-1})}}$$\n",
    "\n",
    "Từ tính chất này ta cũng suy ra một ma trận khả nghịch thì định thức của nó phải khác 0 bởi nếu định thức của nó bằng 0 thì $\\det(\\mathbf{A}) = 0$, điều này là vô lý vì vế phải của phương trình trên không thể bằng 0.\n",
    "\n",
    "7-. Nếu một ma trận tồn tại một véc tơ dòng hoặc véc tơ cột có toàn bộ các phần tử bằng 0 thì định thức của ma trận bằng 0.\n",
    "\n",
    "8-. Trong một ma trận nếu đổi vị trí của hai dòng bất kì hoặc hai cột bất kì và các vị trí còn lại dữ nguyên thì định thức đổi dấu. Tức là nếu bên dưới ta có hai ma trận vuông:\n",
    "\n",
    "$$\\mathbf{A}=\\begin{bmatrix} \n",
    "\\mathbf{A}_{1:} \\\\ \n",
    "\\dots \\\\ \n",
    "\\mathbf{A}_{i:} \\\\\n",
    "\\dots \\\\ \n",
    "\\mathbf{A}_{j:} \\\\\n",
    "\\dots \\\\ \n",
    "\\mathbf{A}_{n:} \\\\\n",
    "\\end{bmatrix} ~ \\text{and} ~ \n",
    "\\mathbf{A'}=\\begin{bmatrix} \n",
    "\\mathbf{A}_{1:} \\\\ \n",
    "\\dots \\\\ \n",
    "\\mathbf{A}_{j:} \\\\\n",
    "\\dots \\\\ \n",
    "\\mathbf{A}_{i:} \\\\\n",
    "\\dots \\\\ \n",
    "\\mathbf{A}_{n:} \\\\\n",
    "\\end{bmatrix}$$\n",
    "\n",
    "Trong đó ma trận $\\mathbf{A'}$ thu được bằng cách thay đổi vị trí dòng $\\mathbf{A}_{i:}$ cho dòng $\\mathbf{A}_{j:}$ của ma trận $\\mathbf{A}$ thì $\\det({\\mathbf{A}}) = -\\det(\\mathbf{A'})$.\n",
    "\n",
    "9-. Khi cộng vào một dòng tích của một dòng khác với hệ số $\\alpha$ hoặc cộng vào một cột với tích của một cột khác với hệ số $\\alpha$ thì định thức không đổi. \n",
    "\n",
    "10-. Khi nhân một dòng hoặc một cột bất kì của ma trận với hệ số $\\alpha$ và các dòng và cột khác giữa nguyên thì định thức của ma trận mới tăng gấp $\\alpha$ lần. Như vậy ta suy ra một tính chất khá quan trọng đối với ma trận $\\mathbf{A} \\in \\mathbb{R}^{n \\times n}$:\n",
    "\n",
    "$$\\det(\\alpha \\mathbf{A}) = \\alpha^{n} \\det(\\mathbf{A})$$\n"
   ]
  },
  {
   "cell_type": "markdown",
   "metadata": {},
   "source": [
    "##  Tổ hợp tuyến tính và không gian sinh"
   ]
  },
  {
   "cell_type": "markdown",
   "metadata": {},
   "source": [
    "**Thế nào là một tổ hợp tuyến tính?**\n",
    "\n",
    "Giả sử $\\mathbf{a}_1, \\mathbf{a}_2, \\dots, \\mathbf{a}_n$ là các véc tơ thuộc không gian $\\mathbb{R}^m$ và $k_1, k_2, \\dots, k_n$ là những số vô hướng. Khi đó _tổ hợp tuyến tính_ (_linear combination_) của $n$ véc tơ $\\mathbf{a}_1, \\mathbf{a}_2, \\dots, \\mathbf{a}_n$ tương ứng với các hệ số $k_i$ là một véc tơ được tính theo phương trình tuyến tính dạng:\n",
    "\n",
    "$$k_1 \\mathbf{a}_1 + k_2 \\mathbf{a}_2 + \\dots + k_n \\mathbf{a}_n = \\mathbf{b} \\tag{1}$$\n",
    "\n",
    "Nếu xét ma trận $\\mathbf{A} = [\\mathbf{a}_1, \\mathbf{a}_2 \\dots ,\\mathbf{a}_n] \\in \\mathbb{R}^{m \\times n}$ có các cột là những véc tơ $\\mathbf{a}_i \\in \\mathbb{R}^{m}$. Khi đó tổ hợp tuyến tính có thể biểu diễn dưới dạng một phép nhân ma trận với véc tơ:\n",
    "\n",
    "$$\\mathbf{A}\\mathbf{k} = \\mathbf{b}$$\n",
    "\n",
    "Lưu ý rằng biểu diễn tổ hợp tuyến tính đối với véc tơ $\\mathbf{b}$ có thể là không duy nhất. Tập hợp tất cả các véc tơ $\\mathbf{b}$ trong phương trình $(1)$ ở trên được gọi là _không gian sinh_ (_span space_) của hệ véc tơ $\\{\\mathbf{a}_1, \\mathbf{a}_2, \\dots, \\mathbf{a}_n\\}$, kí hiệu $\\text{span}(\\mathbf{a}_1, \\dots, \\mathbf{a}_n)$\n",
    "\n",
    "**Hệ véc tơ độc lập tuyến tính là gì?**\n",
    "\n",
    "Một hệ véc tơ $\\{\\mathbf{a}_1, \\mathbf{a}_2, \\dots, \\mathbf{a}_n\\}$ gồm các véc tơ khác 0 là độc lập tuyến tính nếu phương trình:\n",
    "\n",
    "$$k_1 \\mathbf{a}_1 + k_2 \\mathbf{a}_2 + \\dots + k_n \\mathbf{a}_n = 0  \\tag{2}$$\n",
    "\n",
    "có một nghiệm duy nhất là $k_1 = k_2 = \\dots = k_n = 0$\n",
    "\n",
    "Trái lại, nếu tồn tại một nghiệm mà phần tử $k_j \\neq 0$ thì hệ véc tơ là _phụ thuộc tuyến tính_.\n",
    "\n",
    "**Một số tính chất của tổ hợp tuyến tính**\n",
    "\n",
    "1-. Một hệ véc tơ là phụ thuộc tuyến tính khi và chỉ khi tồn tại một véc tơ trong hệ là tổ hợp tuyến tính của những véc tơ còn lại. Thật vậy, giả sử hệ véc tơ là phụ thuộc tuyến tính, khi đó tồn tại một phần tử $k_j \\neq 0$ sao cho phương trình $(2)$ được thoả mãn. Khi đó:\n",
    "\n",
    "$$\\mathbf{a}_j = \\frac{-k_1}{k_j} \\mathbf{a}_1 + \\dots + \\frac{-k_{j-1}}{k_{j}} \\mathbf{a}_{j-1}+ \\frac{-k_{j+1}}{k_j} \\mathbf{a}_{j+1}+ \\dots +\\frac{-k_n}{k_j} \\mathbf{a}_n \\tag{3}$$\n",
    "\n",
    "Như vậy $\\mathbf{a}_{j}$ là tổ hợp tuyến tính của những véc tơ còn lại. Trong trường hợp phương trình $(3)$ được thoả mãn thì ta cũng suy ra được phương trình $(2)$ có nghiệm $k_j \\neq 0$ và hệ véc tơ là _phụ thuộc tuyến tính_.\n",
    "\n",
    "2-. Tập con khác rỗng của một hệ véc tơ độc lập tuyến tính là một hệ độc lập tuyến tính.\n",
    "\n",
    "3-. Tập hợp các dòng hoặc cột của một ma trận khả nghịch sẽ tạo thành một hệ các véc tơ độc lập tuyến tính.\n",
    "\n",
    "4-. Nếu $\\mathbf{A}$ là một ma trận cao chiều, tức số hàng lớn hơn số cột thì tồn tại véc tơ $\\mathbf{b}$ sao cho $\\mathbf{A}\\mathbf{x} = \\mathbf{b}$ vô nghiệm.\n",
    "\n",
    "5-. Nếu $n > m$ thì $n$ véc tơ bất kì trong không gian $m$ chiều tạo thành một hệ véc tơ phụ thuộc tuyến tính."
   ]
  },
  {
   "cell_type": "markdown",
   "metadata": {},
   "source": [
    "## Cơ sở của một không gian\n",
    "\n",
    "Một hệ các véc tơ $\\{\\mathbf{a}_1, \\mathbf{a}_2, \\dots, \\mathbf{a}_n \\}$ trong không gian véc tơ $m$ chiều, kí hiệu là $V = \\mathbb{R}^{m}$ được gọi là một cơ sở (_basic_) nếu như điều kiện kiện sau được thoả mãn:\n",
    "\n",
    "1. $V \\equiv \\text{span}(\\mathbf{a}_1, \\dots, \\mathbf{a}_n)$\n",
    "\n",
    "2. ${\\mathbf{a}_1, \\mathbf{a}_2, \\dots, \\mathbf{a}_n}$ là một hệ véc tơ độc lập tuyến tính.\n",
    "\n",
    "Mỗi một véc tơ đều có một biểu diễn duy nhất dưới dạng một tổ hợp tuyển tính của những véc tơ của các $\\mathbf{a}_i$."
   ]
  },
  {
   "cell_type": "markdown",
   "metadata": {},
   "source": [
    "## Biến đổi hệ cơ sở của véc tơ\n",
    "\n",
    "Trong không gian $m$ chiều thì mọi véc tơ đều có thể biểu diễn thông qua hệ véc tơ đơn vị $(\\mathbf{e}_1, \\mathbf{e}_2, \\dots , \\mathbf{e}_m)$. Trong đó véc tơ $\\mathbf{e}_i$ được gọi là véc tơ đơn vị có phần tử thứ $i$ là 1, các phần tử còn lại bằng 0.\n",
    "\n",
    "Bản chất của một phép nhân ma trận với một véc tơ là một phép biến đổi hệ cơ sở mà ở đó mỗi một cột của ma trận được xem như một véc tơ cơ sở. Giả sử ma trận $\\mathbf{A} \\in \\mathbb{R}^{m \\times n}$ nhân với véc tơ $\\mathbf{x}\\in \\mathbb{R}^{n}$.\n",
    "\n",
    "$$\\mathbf{A} \\mathbf{x} = \\mathbf{a}^{(1)} x_1 + \\mathbf{a}^{(2)} x_2 + \\dots + \\mathbf{a}^{(m)}  x_m = \\mathbf{y}$$\n",
    "\n",
    "Trong đó $\\mathbf{a}^{(i)}$ có thể được xem như là một véc tơ cột thứ $i$ của ma trận $\\mathbf{A}$. Ta có thể xem như véc tơ $\\mathbf{y}$ được biểu diễn thông qua các véc tơ cơ sở cột mà toạ độ tương ứng với mỗi chiều trong hệ cơ sở là các $x_i$."
   ]
  },
  {
   "cell_type": "markdown",
   "metadata": {},
   "source": [
    "## Range và Null space\n",
    "\n",
    "Với mỗi ma trận $\\mathbf{A} \\in \\mathbb{R}^{m×n}$, có hai không gian con quan trọng ứng với ma trận này.\n",
    "\n",
    "1. Range của ma trận $\\mathbf{A}$ được định nghĩa là tập hợp tất cả các điểm là tổ hợp tuyến tính của các cột của ma trận $\\mathbf{A}$:\n",
    "\n",
    "$$\\mathcal{R}(\\mathbf{A}) = \\{\\mathbf{y} \\in \\mathbb{R}^m : \\exists x \\in \\mathbb{R}^n , \\mathbf{A}\\mathbf{x} = \\mathbf{y} \\}$$\n",
    "\n",
    "$\\mathcal{R}(\\mathbf{A})$ còn chính là không gian sinh (_span_) của các cột của ma trận $\\mathbf{A}$. $\\mathcal{R}(\\mathbf{A})$ là một không gian con của $\\mathbb{R}^m$ với số chiều chính bằng số lượng lớn nhất các cột của $\\mathbf{A}$ độc lập tuyến tính.\n",
    "\n",
    "2. Null của $\\mathbf{A}$, ký hiệu là $\\mathcal{N}(\\mathbf{A})$, được định nghĩa là:\n",
    "\n",
    "$$\\mathcal{N}(\\mathbf{A}) = \\{ \\mathbf{x} \\in \\mathbb{R}^n : \\mathbf{A}\\mathbf{x} = 0 \\}$$\n",
    "\n",
    "Mỗi véc tơ trong $\\mathcal{N}(\\mathbf{A})$ chính là một bộ các hệ số làm cho tổ hợp tuyến tính các cột của $\\mathbf{A}$ tạo thành một véc tơ $0$. $\\mathcal{N} (\\mathbf{A})$ có thể được chứng minh là một không gian con trong $\\mathbb{R}^n$ . Khi các cột của $\\mathbf{A}$ là độc lập tuyến tính, theo định nghĩa, $\\mathcal{N}(\\mathbf{A}) = \\{ 0 \\}$ (chỉ gồm véc tơ $0$).\n",
    "\n",
    "$\\mathcal{R}(\\mathbf{A})$ và $\\mathcal{N} (\\mathbf{A})$ là các không gian con véc tơ với số chiều lần lượt là $\\dim(\\mathcal{R}(\\mathbf{A}))$ và\n",
    "$\\dim(\\mathcal{N} (\\mathbf{A}))$, ta có tính chất quan trọng sau đây:\n",
    "\n",
    "$$\\dim(\\mathcal{R}(\\mathbf{A})) + \\dim(\\mathcal{N} (\\mathbf{A})) = n$$"
   ]
  },
  {
   "cell_type": "markdown",
   "metadata": {},
   "source": [
    "## 1.13. Hạng của ma trận\n",
    "\n",
    "Xét một ma trận $\\mathbf{A} ∈ \\mathbb{R}^{m×n}$ . _Hạng_ (_rank_) của ma trận của ma trận được ký hiệu là $\\text{rank}(\\mathbf{A})$, được định nghĩa là số lượng lớn nhất các cột hoặc dòng của nó tạo thành một hệ độc lập tuyến tính.\n",
    "\n",
    "**Các tính chất quan trọng của hạng:**\n",
    "\n",
    "1. Một ma trận có hạng bằng 0 khi và chỉ khi nó là ma trận 0.\n",
    "2. $\\text{rank}(\\mathbf{A}) = \\text{rank}(\\mathbf{A}^{\\intercal})$. Hạng của một ma trận bằng hạng của ma trận chuyển vị. Nói cách khác, số lượng lớn nhất các cột độc lập tuyến tính của một ma trận bằng với số lượng\n",
    "lớn nhất các hàng độc lập tuyến tính của ma trận đó. Từ đây ta suy ra:\n",
    "3. Nếu $\\mathbf{A} \\in \\mathbb{R}^{m×n}$ , thì $\\text{rank}(\\mathbf{A}) \\leq \\min(m, n)$ vì theo định nghĩa, hạng của một ma trận không thể lớn hơn số hàng hoặc số cột của nó.\n",
    "4. $\\text{rank}(\\mathbf{AB}) \\leq \\min(\\text{rank}(\\mathbf{A}), \\text{rank}(\\mathbf{B}))$\n",
    "5. $\\text{rank}(\\mathbf{A} + \\mathbf{B}) ≤ \\text{rank}(\\mathbf{A}) + \\text{rank}(\\mathbf{B})$. Điều này chỉ ra rằng một ma trận có hạng bằng $k$ không được biểu diễn dưới dạng ít hơn k ma trận có hạng bằng 1. Đến bài Singular Value\n",
    "Decomposition, chúng ta sẽ thấy rằng một ma trận có hạng bằng $k$ có thể biểu diễn được dưới dạng đúng k ma trận có hạng bằng 1.\n",
    "6. Bất đẳng thức Sylvester về hạng: Nếu $\\mathbf{A} \\in \\mathbb{R}^{m×n} , \\mathbf{B} \\in \\mathbb{R}^{n×k}$ , thì $\\text{rank}(\\mathbf{A}) + \\text{rank}(\\mathbf{B}) − n ≤ \\text{rank}(\\mathbf{AB})$"
   ]
  },
  {
   "cell_type": "code",
   "execution_count": 55,
   "metadata": {},
   "outputs": [
    {
     "data": {
      "text/plain": [
       "array([[ 0,  1],\n",
       "       [-1, -1]])"
      ]
     },
     "execution_count": 55,
     "metadata": {},
     "output_type": "execute_result"
    }
   ],
   "source": [
    "a = np.array([[0,1], [-1,0]])\n",
    "b=np.array([[1,1],[0,1]])\n",
    "a@b"
   ]
  },
  {
   "cell_type": "code",
   "execution_count": 61,
   "metadata": {},
   "outputs": [
    {
     "data": {
      "text/plain": [
       "array([[1, 1, 1],\n",
       "       [3, 2, 1],\n",
       "       [2, 1, 2]])"
      ]
     },
     "execution_count": 61,
     "metadata": {},
     "output_type": "execute_result"
    }
   ],
   "source": [
    "A = np.array([[1, 1, 1],[3, 2,1],[2, 1, 2]])\n",
    "A"
   ]
  },
  {
   "cell_type": "code",
   "execution_count": 62,
   "metadata": {},
   "outputs": [
    {
     "data": {
      "text/plain": [
       "array([[15],\n",
       "       [28],\n",
       "       [23]])"
      ]
     },
     "execution_count": 62,
     "metadata": {},
     "output_type": "execute_result"
    }
   ],
   "source": [
    "y=np.array([[15],[28],[23]])\n",
    "y"
   ]
  },
  {
   "cell_type": "code",
   "execution_count": 63,
   "metadata": {},
   "outputs": [],
   "source": [
    "A_inv = np.linalg.inv(A)"
   ]
  },
  {
   "cell_type": "code",
   "execution_count": 64,
   "metadata": {},
   "outputs": [
    {
     "data": {
      "text/plain": [
       "array([[3.],\n",
       "       [7.],\n",
       "       [5.]])"
      ]
     },
     "execution_count": 64,
     "metadata": {},
     "output_type": "execute_result"
    }
   ],
   "source": [
    "A_inv@y"
   ]
  },
  {
   "cell_type": "code",
   "execution_count": null,
   "metadata": {},
   "outputs": [],
   "source": []
  }
 ],
 "metadata": {
  "interpreter": {
   "hash": "c1bcb329fc666a29bd647ab5f731eda18fd18511409ff8d016e109c58957a965"
  },
  "kernelspec": {
   "display_name": "Python 3.9.10 ('base')",
   "language": "python",
   "name": "python3"
  },
  "language_info": {
   "codemirror_mode": {
    "name": "ipython",
    "version": 3
   },
   "file_extension": ".py",
   "mimetype": "text/x-python",
   "name": "python",
   "nbconvert_exporter": "python",
   "pygments_lexer": "ipython3",
   "version": "3.9.10"
  },
  "orig_nbformat": 4
 },
 "nbformat": 4,
 "nbformat_minor": 2
}
